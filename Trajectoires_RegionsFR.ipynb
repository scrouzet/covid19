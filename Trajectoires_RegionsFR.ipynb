{
 "cells": [
  {
   "cell_type": "markdown",
   "metadata": {},
   "source": [
    "- compare the FR numbers from here to those of Hopkins\n",
    "- same for departement data\n",
    "- pareil pour les \"en réa\"\n",
    "\n",
    "Les données proviennent de https://github.com/opencovid19-fr/data.\n",
    "\n",
    "Ce notebook a été largement inspiré par https://github.com/pratapvardhan/notebooks/blob/master/covid19/covid19-compare-country-death-trajectories.ipynb."
   ]
  },
  {
   "cell_type": "code",
   "execution_count": 1,
   "metadata": {},
   "outputs": [],
   "source": [
    "import pandas as pd\n",
    "import numpy as np\n",
    "import yaml\n",
    "import altair as alt\n",
    "#import seaborn as sns\n",
    "#import matplotlib.pyplot as plt\n",
    "from IPython.display import HTML"
   ]
  },
  {
   "cell_type": "code",
   "execution_count": 2,
   "metadata": {},
   "outputs": [],
   "source": [
    "def make_since_chart(dff2, highlight_countries=[], baseline_countries=[], Y_to_plot=[], scale_type='log', title = ''):\n",
    "    selection = alt.selection_multi(fields=['maille_nom'], bind='legend', \n",
    "                                    init=[{'maille_nom': x} for x in highlight_countries + baseline_countries])\n",
    "\n",
    "    base = alt.Chart(dff2, width=550).encode(\n",
    "        x=f'{COL_X}:Q',\n",
    "        y=alt.Y('{}:Q'.format(Y_to_plot), scale=alt.Scale(type=scale_type), axis=alt.Axis(title='Nombre cumulé')),\n",
    "        color=alt.Color('maille_nom:N', scale=alt.Scale(domain=color_domain, range=color_range)),\n",
    "        tooltip=list(dff2), # to have info w/ hover\n",
    "        opacity=alt.condition(selection, alt.value(1), alt.value(0.05))\n",
    "    )\n",
    "    max_day = dff2[COL_X].max()\n",
    "    ref = pd.DataFrame([[x, SINCE_CASES_NUM*1.33**x] for x in range(max_day+1)], columns=[COL_X, Y_to_plot])\n",
    "    base_ref = alt.Chart(ref).encode(x=f'{COL_X}:Q', y='{}:Q'.format(Y_to_plot))\n",
    "    return (\n",
    "        alt.layer(\n",
    "        base_ref.mark_line(color='black', opacity=.5, strokeDash=[3,3]),\n",
    "        base_ref.transform_filter(\n",
    "            alt.datum[COL_X] >= max_day\n",
    "        ).mark_text(dy=-6, align='right', fontSize=10, text='+33% par jour'),\n",
    "        base.mark_line(point=True).add_selection(selection),\n",
    "        base.transform_filter(\n",
    "            alt.datum['date'] >= int(max_date.timestamp() * 1000)\n",
    "        ).mark_text(dy=-8, align='right', fontWeight='bold').encode(text='maille_nom:N')\n",
    "        )\n",
    "    ).properties(\n",
    "#        title=f\"Compare {', '.join(highlight_countries)} death trajectory with {', '.join(baseline_countries)}\"\n",
    "        title=f\"{title}\"\n",
    "    )"
   ]
  },
  {
   "cell_type": "code",
   "execution_count": 3,
   "metadata": {},
   "outputs": [],
   "source": [
    "#file = ('./data/agences-regionales-sante/'\n",
    "#       'auvergne-rhone-alpes/2020-02-27.yaml')\n",
    "#fruits_list = yaml.load(open(file), Loader=yaml.FullLoader)"
   ]
  },
  {
   "cell_type": "code",
   "execution_count": 4,
   "metadata": {},
   "outputs": [],
   "source": [
    "csv_filename = './data/dist/chiffres-cles.csv'\n",
    "df = pd.read_csv(csv_filename)"
   ]
  },
  {
   "cell_type": "code",
   "execution_count": 5,
   "metadata": {},
   "outputs": [],
   "source": [
    "df.date = pd.to_datetime(df.date, format='%Y-%m-%d')\n",
    "dff = df.loc[(df.granularite=='region') & (df['source_nom'].str.contains(\"ARS\")),\n",
    "            ['date', 'maille_nom', 'deces', 'cas_confirmes', 'reanimation']]"
   ]
  },
  {
   "cell_type": "code",
   "execution_count": 6,
   "metadata": {},
   "outputs": [],
   "source": [
    "#dff = dff.dropna() \n",
    "myregions = np.unique(dff.maille_nom)\n",
    "dt_cols = np.unique(dff.date)"
   ]
  },
  {
   "cell_type": "code",
   "execution_count": 7,
   "metadata": {},
   "outputs": [
    {
     "data": {
      "text/plain": [
       "Timestamp('2020-03-23 00:00:00')"
      ]
     },
     "execution_count": 7,
     "metadata": {},
     "output_type": "execute_result"
    }
   ],
   "source": [
    "LAST_DATE = dff.date.max()\n",
    "LAST_DATE"
   ]
  },
  {
   "cell_type": "markdown",
   "metadata": {},
   "source": [
    "## Opendatasoft\n",
    "\n",
    "https://public.opendatasoft.com/explore/dataset/evolution-de-la-pandemie-de-covid-19-en-france/export/"
   ]
  },
  {
   "cell_type": "code",
   "execution_count": 8,
   "metadata": {},
   "outputs": [],
   "source": [
    "# cas confirmés uniquement\n",
    "# ods_dataset_id = 'evolution-de-la-pandemie-de-covid-19-en-france'\n",
    "filename = 'evolution-de-la-pandemie-de-covid-19-en-france.csv'\n",
    "df_ods_confirmes = pd.read_csv(filename, sep=';')"
   ]
  },
  {
   "cell_type": "code",
   "execution_count": 9,
   "metadata": {},
   "outputs": [],
   "source": [
    "df_ods_confirmes['date'] = pd.to_datetime(df_ods_confirmes['Date'])\n",
    "df_ods_confirmes['cas_confirmes'] = df_ods_confirmes['Nombre de cas confirmés']\n",
    "df_ods_confirmes['maille_nom'] = df_ods_confirmes['Nom officiel']\n",
    "df_ods_confirmes = df_ods_confirmes[['date','maille_nom', 'cas_confirmes']]\n",
    "df_ods_confirmes = df_ods_confirmes.sort_values(by='date')"
   ]
  },
  {
   "cell_type": "markdown",
   "metadata": {},
   "source": [
    "## Analyse"
   ]
  },
  {
   "cell_type": "code",
   "execution_count": 27,
   "metadata": {},
   "outputs": [],
   "source": [
    "#hide\n",
    "MIN_CONFIRMES = 2\n",
    "LAST_DATE = dt_cols[-1]\n",
    "\n",
    "#myregion = dff[dff['date'].eq(LAST_DATE) & dff['deces'].ge(MIN_CASES)\n",
    "#       ].sort_values(by='deces', ascending=False)\n",
    "myregion = dff[dff['cas_confirmes'].ge(MIN_CONFIRMES)\n",
    "       ].sort_values(by='cas_confirmes', ascending=False)\n",
    "myregion = myregion['maille_nom'].values\n",
    "myregion = np.unique(myregion)"
   ]
  },
  {
   "cell_type": "code",
   "execution_count": 28,
   "metadata": {},
   "outputs": [],
   "source": [
    "#hide\n",
    "def get_country_colors(x):\n",
    "    mapping = {\n",
    "        'Auvergne-Rhône-Alpes': '#A1BA59',\n",
    "        'Bourgogne-Franche-Comté': '#A1BA59',\n",
    "        'Bretagne': '#9467bd',\n",
    "        'Centre-Val de Loire': '#9D755D',\n",
    "        'Corse': '#2495D3', \n",
    "        'Grand-Est': 'black', \n",
    "        'Guadeloupe': '#C1B7AD',\n",
    "        'Guyane': '#C1B7AD', \n",
    "        'Hauts-de-France': '#2495D3', \n",
    "        'Ile-de-France': 'black', \n",
    "        'Martinique': '#C1B7AD',\n",
    "        'Mayotte': '#C1B7AD',\n",
    "        'Normandie': '#C1B7AD',\n",
    "        'Nouvelle-Aquitaine': 'black', \n",
    "        'Occitanie': '#E45756',\n",
    "        'Pays de la Loire': '#F58518',\n",
    "        'Provence-Alpes-Côte d’Azur': 'black'}\n",
    "    return mapping.get(x, '#C1B7AD')"
   ]
  },
  {
   "cell_type": "markdown",
   "metadata": {},
   "source": [
    "# Décès"
   ]
  },
  {
   "cell_type": "code",
   "execution_count": 29,
   "metadata": {},
   "outputs": [],
   "source": [
    "#hide\n",
    "SINCE_CASES_NUM = 8\n",
    "COL_X = f'Days since {SINCE_CASES_NUM}th death'\n",
    "dff2 = dff[dff['maille_nom'].isin(myregions)].copy()\n",
    "days_since = (dff2.assign(F=dff2['deces'].ge(SINCE_CASES_NUM))\n",
    "              .set_index('date')\n",
    "              .groupby('maille_nom')['F'].transform('idxmax'))\n",
    "dff2[COL_X] = (dff2['date'] - days_since.values).dt.days.values\n",
    "dff2 = dff2[dff2[COL_X].ge(0)]\n",
    "\n",
    "# Need to remove 0 to get the log scale to not generate -inf\n",
    "dff2.deces[dff2.deces==0]=np.nan"
   ]
  },
  {
   "cell_type": "code",
   "execution_count": 33,
   "metadata": {},
   "outputs": [
    {
     "data": {
      "text/html": [
       "<div>\n",
       "<style scoped>\n",
       "    .dataframe tbody tr th:only-of-type {\n",
       "        vertical-align: middle;\n",
       "    }\n",
       "\n",
       "    .dataframe tbody tr th {\n",
       "        vertical-align: top;\n",
       "    }\n",
       "\n",
       "    .dataframe thead th {\n",
       "        text-align: right;\n",
       "    }\n",
       "</style>\n",
       "<table border=\"1\" class=\"dataframe\">\n",
       "  <thead>\n",
       "    <tr style=\"text-align: right;\">\n",
       "      <th></th>\n",
       "      <th>date</th>\n",
       "      <th>maille_nom</th>\n",
       "      <th>deces</th>\n",
       "      <th>cas_confirmes</th>\n",
       "      <th>reanimation</th>\n",
       "      <th>Days since 8th death</th>\n",
       "    </tr>\n",
       "  </thead>\n",
       "  <tbody>\n",
       "  </tbody>\n",
       "</table>\n",
       "</div>"
      ],
      "text/plain": [
       "Empty DataFrame\n",
       "Columns: [date, maille_nom, deces, cas_confirmes, reanimation, Days since 8th death]\n",
       "Index: []"
      ]
     },
     "execution_count": 33,
     "metadata": {},
     "output_type": "execute_result"
    }
   ],
   "source": [
    "dff2[dff2.maille_nom=='La réunion']"
   ]
  },
  {
   "cell_type": "code",
   "execution_count": 31,
   "metadata": {},
   "outputs": [
    {
     "data": {
      "text/html": [
       "\n",
       "<div id=\"altair-viz-bdbded05c5d84cf8adb33d3051a7c792\"></div>\n",
       "<script type=\"text/javascript\">\n",
       "  (function(spec, embedOpt){\n",
       "    const outputDiv = document.getElementById(\"altair-viz-bdbded05c5d84cf8adb33d3051a7c792\");\n",
       "    const paths = {\n",
       "      \"vega\": \"https://cdn.jsdelivr.net/npm//vega@5?noext\",\n",
       "      \"vega-lib\": \"https://cdn.jsdelivr.net/npm//vega-lib?noext\",\n",
       "      \"vega-lite\": \"https://cdn.jsdelivr.net/npm//vega-lite@4.0.2?noext\",\n",
       "      \"vega-embed\": \"https://cdn.jsdelivr.net/npm//vega-embed@6?noext\",\n",
       "    };\n",
       "\n",
       "    function loadScript(lib) {\n",
       "      return new Promise(function(resolve, reject) {\n",
       "        var s = document.createElement('script');\n",
       "        s.src = paths[lib];\n",
       "        s.async = true;\n",
       "        s.onload = () => resolve(paths[lib]);\n",
       "        s.onerror = () => reject(`Error loading script: ${paths[lib]}`);\n",
       "        document.getElementsByTagName(\"head\")[0].appendChild(s);\n",
       "      });\n",
       "    }\n",
       "\n",
       "    function showError(err) {\n",
       "      outputDiv.innerHTML = `<div class=\"error\" style=\"color:red;\">${err}</div>`;\n",
       "      throw err;\n",
       "    }\n",
       "\n",
       "    function displayChart(vegaEmbed) {\n",
       "      vegaEmbed(outputDiv, spec, embedOpt)\n",
       "        .catch(err => showError(`Javascript Error: ${err.message}<br>This usually means there's a typo in your chart specification. See the javascript console for the full traceback.`));\n",
       "    }\n",
       "\n",
       "    if(typeof define === \"function\" && define.amd) {\n",
       "      requirejs.config({paths});\n",
       "      require([\"vega-embed\"], displayChart, err => showError(`Error loading script: ${err.message}`));\n",
       "    } else if (typeof vegaEmbed === \"function\") {\n",
       "      displayChart(vegaEmbed);\n",
       "    } else {\n",
       "      loadScript(\"vega\")\n",
       "        .then(() => loadScript(\"vega-lite\"))\n",
       "        .then(() => loadScript(\"vega-embed\"))\n",
       "        .catch(showError)\n",
       "        .then(() => displayChart(vegaEmbed));\n",
       "    }\n",
       "  })({\"config\": {\"view\": {\"continuousWidth\": 400, \"continuousHeight\": 300}}, \"layer\": [{\"data\": {\"name\": \"data-71547363d4b994952dc5fc495ebdb5f3\"}, \"mark\": {\"type\": \"line\", \"color\": \"black\", \"opacity\": 0.5, \"strokeDash\": [3, 3]}, \"encoding\": {\"x\": {\"type\": \"quantitative\", \"field\": \"Days since 8th death\"}, \"y\": {\"type\": \"quantitative\", \"field\": \"deces\"}}}, {\"data\": {\"name\": \"data-71547363d4b994952dc5fc495ebdb5f3\"}, \"mark\": {\"type\": \"text\", \"align\": \"right\", \"dy\": -6, \"fontSize\": 10, \"text\": \"+33% par jour\"}, \"encoding\": {\"x\": {\"type\": \"quantitative\", \"field\": \"Days since 8th death\"}, \"y\": {\"type\": \"quantitative\", \"field\": \"deces\"}}, \"transform\": [{\"filter\": \"(datum['Days since 8th death'] >= 18)\"}]}, {\"data\": {\"name\": \"data-9d823f14e389577773f38e44c934f5ca\"}, \"mark\": {\"type\": \"line\", \"point\": true}, \"encoding\": {\"color\": {\"type\": \"nominal\", \"field\": \"maille_nom\", \"scale\": {\"domain\": [\"Guyane\", \"Ile-de-France\", \"Centre-Val de Loire\", \"Corse\", \"Hauts-de-France\", \"Guadeloupe\", \"Grand-Est\", \"Mayotte\", \"Auvergne-Rh\\u00f4ne-Alpes\", \"Martinique\", \"Bourgogne-Franche-Comt\\u00e9\", \"Occitanie\", \"Bretagne\", \"Provence-Alpes-C\\u00f4te d\\u2019Azur\", \"Normandie\", \"Nouvelle-Aquitaine\", \"Pays de la Loire\"], \"range\": [\"#C1B7AD\", \"black\", \"#9D755D\", \"#2495D3\", \"#2495D3\", \"#C1B7AD\", \"black\", \"#C1B7AD\", \"#A1BA59\", \"#C1B7AD\", \"#A1BA59\", \"#E45756\", \"#9467bd\", \"black\", \"#C1B7AD\", \"black\", \"#F58518\"]}}, \"opacity\": {\"condition\": {\"value\": 1, \"selection\": \"selector007\"}, \"value\": 0.05}, \"tooltip\": [{\"type\": \"temporal\", \"field\": \"date\"}, {\"type\": \"nominal\", \"field\": \"maille_nom\"}, {\"type\": \"quantitative\", \"field\": \"deces\"}, {\"type\": \"quantitative\", \"field\": \"cas_confirmes\"}, {\"type\": \"quantitative\", \"field\": \"reanimation\"}, {\"type\": \"quantitative\", \"field\": \"Days since 8th death\"}], \"x\": {\"type\": \"quantitative\", \"field\": \"Days since 8th death\"}, \"y\": {\"type\": \"quantitative\", \"axis\": {\"title\": \"Nombre cumul\\u00e9\"}, \"field\": \"deces\", \"scale\": {\"type\": \"log\"}}}, \"selection\": {\"selector007\": {\"type\": \"multi\", \"fields\": [\"maille_nom\"], \"bind\": \"legend\", \"init\": [{\"maille_nom\": \"Occitanie\"}, {\"maille_nom\": \"Hauts-de-France\"}, {\"maille_nom\": \"Grand-Est\"}]}}, \"width\": 550}, {\"data\": {\"name\": \"data-9d823f14e389577773f38e44c934f5ca\"}, \"mark\": {\"type\": \"text\", \"align\": \"right\", \"dy\": -8, \"fontWeight\": \"bold\"}, \"encoding\": {\"color\": {\"type\": \"nominal\", \"field\": \"maille_nom\", \"scale\": {\"domain\": [\"Guyane\", \"Ile-de-France\", \"Centre-Val de Loire\", \"Corse\", \"Hauts-de-France\", \"Guadeloupe\", \"Grand-Est\", \"Mayotte\", \"Auvergne-Rh\\u00f4ne-Alpes\", \"Martinique\", \"Bourgogne-Franche-Comt\\u00e9\", \"Occitanie\", \"Bretagne\", \"Provence-Alpes-C\\u00f4te d\\u2019Azur\", \"Normandie\", \"Nouvelle-Aquitaine\", \"Pays de la Loire\"], \"range\": [\"#C1B7AD\", \"black\", \"#9D755D\", \"#2495D3\", \"#2495D3\", \"#C1B7AD\", \"black\", \"#C1B7AD\", \"#A1BA59\", \"#C1B7AD\", \"#A1BA59\", \"#E45756\", \"#9467bd\", \"black\", \"#C1B7AD\", \"black\", \"#F58518\"]}}, \"opacity\": {\"condition\": {\"value\": 1, \"selection\": \"selector007\"}, \"value\": 0.05}, \"text\": {\"type\": \"nominal\", \"field\": \"maille_nom\"}, \"tooltip\": [{\"type\": \"temporal\", \"field\": \"date\"}, {\"type\": \"nominal\", \"field\": \"maille_nom\"}, {\"type\": \"quantitative\", \"field\": \"deces\"}, {\"type\": \"quantitative\", \"field\": \"cas_confirmes\"}, {\"type\": \"quantitative\", \"field\": \"reanimation\"}, {\"type\": \"quantitative\", \"field\": \"Days since 8th death\"}], \"x\": {\"type\": \"quantitative\", \"field\": \"Days since 8th death\"}, \"y\": {\"type\": \"quantitative\", \"axis\": {\"title\": \"Nombre cumul\\u00e9\"}, \"field\": \"deces\", \"scale\": {\"type\": \"log\"}}}, \"transform\": [{\"filter\": \"(datum['date'] >= 1584921600000)\"}], \"width\": 550}], \"title\": \"Trajectoires du nombre de d\\u00e9c\\u00e8s\", \"$schema\": \"https://vega.github.io/schema/vega-lite/v4.0.2.json\", \"datasets\": {\"data-71547363d4b994952dc5fc495ebdb5f3\": [{\"Days since 8th death\": 0, \"deces\": 8.0}, {\"Days since 8th death\": 1, \"deces\": 10.64}, {\"Days since 8th death\": 2, \"deces\": 14.151200000000001}, {\"Days since 8th death\": 3, \"deces\": 18.821096000000004}, {\"Days since 8th death\": 4, \"deces\": 25.032057680000005}, {\"Days since 8th death\": 5, \"deces\": 33.29263671440001}, {\"Days since 8th death\": 6, \"deces\": 44.27920683015201}, {\"Days since 8th death\": 7, \"deces\": 58.891345084102184}, {\"Days since 8th death\": 8, \"deces\": 78.32548896185591}, {\"Days since 8th death\": 9, \"deces\": 104.17290031926836}, {\"Days since 8th death\": 10, \"deces\": 138.54995742462694}, {\"Days since 8th death\": 11, \"deces\": 184.27144337475383}, {\"Days since 8th death\": 12, \"deces\": 245.0810196884226}, {\"Days since 8th death\": 13, \"deces\": 325.9577561856021}, {\"Days since 8th death\": 14, \"deces\": 433.5238157268508}, {\"Days since 8th death\": 15, \"deces\": 576.5866749167116}, {\"Days since 8th death\": 16, \"deces\": 766.8602776392264}, {\"Days since 8th death\": 17, \"deces\": 1019.9241692601712}, {\"Days since 8th death\": 18, \"deces\": 1356.4991451160279}], \"data-9d823f14e389577773f38e44c934f5ca\": [{\"date\": \"2020-03-04T00:00:00\", \"maille_nom\": \"Guyane\", \"deces\": null, \"cas_confirmes\": 5.0, \"reanimation\": null, \"Days since 8th death\": 0}, {\"date\": \"2020-03-05T00:00:00\", \"maille_nom\": \"Ile-de-France\", \"deces\": null, \"cas_confirmes\": 77.0, \"reanimation\": null, \"Days since 8th death\": 0}, {\"date\": \"2020-03-05T00:00:00\", \"maille_nom\": \"Centre-Val de Loire\", \"deces\": null, \"cas_confirmes\": 3.0, \"reanimation\": null, \"Days since 8th death\": 0}, {\"date\": \"2020-03-05T00:00:00\", \"maille_nom\": \"Corse\", \"deces\": null, \"cas_confirmes\": 3.0, \"reanimation\": 0.0, \"Days since 8th death\": 0}, {\"date\": \"2020-03-06T00:00:00\", \"maille_nom\": \"Ile-de-France\", \"deces\": 1.0, \"cas_confirmes\": 131.0, \"reanimation\": null, \"Days since 8th death\": 1}, {\"date\": \"2020-03-06T00:00:00\", \"maille_nom\": \"Centre-Val de Loire\", \"deces\": null, \"cas_confirmes\": 7.0, \"reanimation\": null, \"Days since 8th death\": 1}, {\"date\": \"2020-03-06T00:00:00\", \"maille_nom\": \"Corse\", \"deces\": null, \"cas_confirmes\": 5.0, \"reanimation\": 0.0, \"Days since 8th death\": 1}, {\"date\": \"2020-03-07T00:00:00\", \"maille_nom\": \"Ile-de-France\", \"deces\": 1.0, \"cas_confirmes\": 161.0, \"reanimation\": null, \"Days since 8th death\": 2}, {\"date\": \"2020-03-08T00:00:00\", \"maille_nom\": \"Ile-de-France\", \"deces\": 1.0, \"cas_confirmes\": 226.0, \"reanimation\": null, \"Days since 8th death\": 3}, {\"date\": \"2020-03-08T00:00:00\", \"maille_nom\": \"Centre-Val de Loire\", \"deces\": null, \"cas_confirmes\": 17.0, \"reanimation\": null, \"Days since 8th death\": 3}, {\"date\": \"2020-03-09T00:00:00\", \"maille_nom\": \"Ile-de-France\", \"deces\": 1.0, \"cas_confirmes\": 283.0, \"reanimation\": null, \"Days since 8th death\": 4}, {\"date\": \"2020-03-09T00:00:00\", \"maille_nom\": \"Hauts-de-France\", \"deces\": 15.0, \"cas_confirmes\": 181.0, \"reanimation\": null, \"Days since 8th death\": 0}, {\"date\": \"2020-03-09T00:00:00\", \"maille_nom\": \"Corse\", \"deces\": 1.0, \"cas_confirmes\": 38.0, \"reanimation\": 2.0, \"Days since 8th death\": 4}, {\"date\": \"2020-03-10T00:00:00\", \"maille_nom\": \"Ile-de-France\", \"deces\": 4.0, \"cas_confirmes\": 283.0, \"reanimation\": null, \"Days since 8th death\": 5}, {\"date\": \"2020-03-10T00:00:00\", \"maille_nom\": \"Centre-Val de Loire\", \"deces\": null, \"cas_confirmes\": 17.0, \"reanimation\": null, \"Days since 8th death\": 5}, {\"date\": \"2020-03-10T00:00:00\", \"maille_nom\": \"Hauts-de-France\", \"deces\": 16.0, \"cas_confirmes\": 222.0, \"reanimation\": null, \"Days since 8th death\": 1}, {\"date\": \"2020-03-10T00:00:00\", \"maille_nom\": \"Corse\", \"deces\": 2.0, \"cas_confirmes\": 42.0, \"reanimation\": 2.0, \"Days since 8th death\": 5}, {\"date\": \"2020-03-11T00:00:00\", \"maille_nom\": \"Guadeloupe\", \"deces\": null, \"cas_confirmes\": 0.0, \"reanimation\": null, \"Days since 8th death\": 0}, {\"date\": \"2020-03-11T00:00:00\", \"maille_nom\": \"Guyane\", \"deces\": null, \"cas_confirmes\": 6.0, \"reanimation\": null, \"Days since 8th death\": 7}, {\"date\": \"2020-03-11T00:00:00\", \"maille_nom\": \"Ile-de-France\", \"deces\": 4.0, \"cas_confirmes\": 512.0, \"reanimation\": null, \"Days since 8th death\": 6}, {\"date\": \"2020-03-11T00:00:00\", \"maille_nom\": \"Centre-Val de Loire\", \"deces\": null, \"cas_confirmes\": 20.0, \"reanimation\": null, \"Days since 8th death\": 6}, {\"date\": \"2020-03-11T00:00:00\", \"maille_nom\": \"Grand-Est\", \"deces\": 9.0, \"cas_confirmes\": 587.0, \"reanimation\": null, \"Days since 8th death\": 0}, {\"date\": \"2020-03-11T00:00:00\", \"maille_nom\": \"Corse\", \"deces\": 3.0, \"cas_confirmes\": 51.0, \"reanimation\": 2.0, \"Days since 8th death\": 6}, {\"date\": \"2020-03-12T00:00:00\", \"maille_nom\": \"Ile-de-France\", \"deces\": 4.0, \"cas_confirmes\": 605.0, \"reanimation\": null, \"Days since 8th death\": 7}, {\"date\": \"2020-03-12T00:00:00\", \"maille_nom\": \"Centre-Val de Loire\", \"deces\": null, \"cas_confirmes\": 30.0, \"reanimation\": null, \"Days since 8th death\": 7}, {\"date\": \"2020-03-12T00:00:00\", \"maille_nom\": \"Hauts-de-France\", \"deces\": 20.0, \"cas_confirmes\": 337.0, \"reanimation\": null, \"Days since 8th death\": 3}, {\"date\": \"2020-03-12T00:00:00\", \"maille_nom\": \"Corse\", \"deces\": 3.0, \"cas_confirmes\": 64.0, \"reanimation\": 2.0, \"Days since 8th death\": 7}, {\"date\": \"2020-03-13T00:00:00\", \"maille_nom\": \"Guadeloupe\", \"deces\": null, \"cas_confirmes\": 1.0, \"reanimation\": null, \"Days since 8th death\": 2}, {\"date\": \"2020-03-13T00:00:00\", \"maille_nom\": \"Ile-de-France\", \"deces\": null, \"cas_confirmes\": 876.0, \"reanimation\": null, \"Days since 8th death\": 8}, {\"date\": \"2020-03-13T00:00:00\", \"maille_nom\": \"Centre-Val de Loire\", \"deces\": null, \"cas_confirmes\": 33.0, \"reanimation\": null, \"Days since 8th death\": 8}, {\"date\": \"2020-03-13T00:00:00\", \"maille_nom\": \"Hauts-de-France\", \"deces\": 26.0, \"cas_confirmes\": 368.0, \"reanimation\": null, \"Days since 8th death\": 4}, {\"date\": \"2020-03-13T00:00:00\", \"maille_nom\": \"Grand-Est\", \"deces\": 21.0, \"cas_confirmes\": 910.0, \"reanimation\": null, \"Days since 8th death\": 2}, {\"date\": \"2020-03-13T00:00:00\", \"maille_nom\": \"Corse\", \"deces\": 5.0, \"cas_confirmes\": 85.0, \"reanimation\": 2.0, \"Days since 8th death\": 8}, {\"date\": \"2020-03-14T00:00:00\", \"maille_nom\": \"Guadeloupe\", \"deces\": null, \"cas_confirmes\": 5.0, \"reanimation\": null, \"Days since 8th death\": 3}, {\"date\": \"2020-03-14T00:00:00\", \"maille_nom\": \"Guyane\", \"deces\": null, \"cas_confirmes\": 7.0, \"reanimation\": null, \"Days since 8th death\": 10}, {\"date\": \"2020-03-14T00:00:00\", \"maille_nom\": \"Mayotte\", \"deces\": null, \"cas_confirmes\": 1.0, \"reanimation\": null, \"Days since 8th death\": 0}, {\"date\": \"2020-03-14T00:00:00\", \"maille_nom\": \"Ile-de-France\", \"deces\": null, \"cas_confirmes\": 1240.0, \"reanimation\": 155.0, \"Days since 8th death\": 9}, {\"date\": \"2020-03-14T00:00:00\", \"maille_nom\": \"Centre-Val de Loire\", \"deces\": null, \"cas_confirmes\": 54.0, \"reanimation\": null, \"Days since 8th death\": 9}, {\"date\": \"2020-03-14T00:00:00\", \"maille_nom\": \"Hauts-de-France\", \"deces\": 29.0, \"cas_confirmes\": 463.0, \"reanimation\": null, \"Days since 8th death\": 5}, {\"date\": \"2020-03-14T00:00:00\", \"maille_nom\": \"Grand-Est\", \"deces\": 24.0, \"cas_confirmes\": 1085.0, \"reanimation\": null, \"Days since 8th death\": 3}, {\"date\": \"2020-03-14T00:00:00\", \"maille_nom\": \"Auvergne-Rh\\u00f4ne-Alpes\", \"deces\": 12.0, \"cas_confirmes\": 449.0, \"reanimation\": null, \"Days since 8th death\": 0}, {\"date\": \"2020-03-14T00:00:00\", \"maille_nom\": \"Corse\", \"deces\": 5.0, \"cas_confirmes\": 106.0, \"reanimation\": 2.0, \"Days since 8th death\": 9}, {\"date\": \"2020-03-15T00:00:00\", \"maille_nom\": \"Guadeloupe\", \"deces\": null, \"cas_confirmes\": 5.0, \"reanimation\": null, \"Days since 8th death\": 4}, {\"date\": \"2020-03-15T00:00:00\", \"maille_nom\": \"Guyane\", \"deces\": null, \"cas_confirmes\": 11.0, \"reanimation\": null, \"Days since 8th death\": 11}, {\"date\": \"2020-03-15T00:00:00\", \"maille_nom\": \"Grand-Est\", \"deces\": 45.0, \"cas_confirmes\": 1378.0, \"reanimation\": null, \"Days since 8th death\": 4}, {\"date\": \"2020-03-15T00:00:00\", \"maille_nom\": \"Auvergne-Rh\\u00f4ne-Alpes\", \"deces\": 18.0, \"cas_confirmes\": 523.0, \"reanimation\": null, \"Days since 8th death\": 1}, {\"date\": \"2020-03-15T00:00:00\", \"maille_nom\": \"Corse\", \"deces\": 5.0, \"cas_confirmes\": 115.0, \"reanimation\": 2.0, \"Days since 8th death\": 10}, {\"date\": \"2020-03-16T00:00:00\", \"maille_nom\": \"Guadeloupe\", \"deces\": null, \"cas_confirmes\": 18.0, \"reanimation\": 1.0, \"Days since 8th death\": 5}, {\"date\": \"2020-03-16T00:00:00\", \"maille_nom\": \"Martinique\", \"deces\": null, \"cas_confirmes\": 16.0, \"reanimation\": 1.0, \"Days since 8th death\": 0}, {\"date\": \"2020-03-16T00:00:00\", \"maille_nom\": \"Centre-Val de Loire\", \"deces\": null, \"cas_confirmes\": 90.0, \"reanimation\": null, \"Days since 8th death\": 11}, {\"date\": \"2020-03-16T00:00:00\", \"maille_nom\": \"Hauts-de-France\", \"deces\": 39.0, \"cas_confirmes\": 587.0, \"reanimation\": null, \"Days since 8th death\": 7}, {\"date\": \"2020-03-16T00:00:00\", \"maille_nom\": \"Grand-Est\", \"deces\": 51.0, \"cas_confirmes\": 1543.0, \"reanimation\": null, \"Days since 8th death\": 5}, {\"date\": \"2020-03-16T00:00:00\", \"maille_nom\": \"Auvergne-Rh\\u00f4ne-Alpes\", \"deces\": 20.0, \"cas_confirmes\": 617.0, \"reanimation\": null, \"Days since 8th death\": 2}, {\"date\": \"2020-03-16T00:00:00\", \"maille_nom\": \"Corse\", \"deces\": 7.0, \"cas_confirmes\": 126.0, \"reanimation\": 2.0, \"Days since 8th death\": 11}, {\"date\": \"2020-03-17T00:00:00\", \"maille_nom\": \"Guadeloupe\", \"deces\": null, \"cas_confirmes\": 27.0, \"reanimation\": 2.0, \"Days since 8th death\": 6}, {\"date\": \"2020-03-17T00:00:00\", \"maille_nom\": \"Mayotte\", \"deces\": null, \"cas_confirmes\": 3.0, \"reanimation\": null, \"Days since 8th death\": 3}, {\"date\": \"2020-03-17T00:00:00\", \"maille_nom\": \"Centre-Val de Loire\", \"deces\": 1.0, \"cas_confirmes\": 103.0, \"reanimation\": null, \"Days since 8th death\": 12}, {\"date\": \"2020-03-17T00:00:00\", \"maille_nom\": \"Bourgogne-Franche-Comt\\u00e9\", \"deces\": 10.0, \"cas_confirmes\": null, \"reanimation\": 31.0, \"Days since 8th death\": 0}, {\"date\": \"2020-03-17T00:00:00\", \"maille_nom\": \"Hauts-de-France\", \"deces\": 46.0, \"cas_confirmes\": 613.0, \"reanimation\": null, \"Days since 8th death\": 8}, {\"date\": \"2020-03-17T00:00:00\", \"maille_nom\": \"Grand-Est\", \"deces\": 61.0, \"cas_confirmes\": 1820.0, \"reanimation\": null, \"Days since 8th death\": 6}, {\"date\": \"2020-03-17T00:00:00\", \"maille_nom\": \"Auvergne-Rh\\u00f4ne-Alpes\", \"deces\": 24.0, \"cas_confirmes\": 706.0, \"reanimation\": null, \"Days since 8th death\": 3}, {\"date\": \"2020-03-17T00:00:00\", \"maille_nom\": \"Corse\", \"deces\": null, \"cas_confirmes\": 145.0, \"reanimation\": null, \"Days since 8th death\": 12}, {\"date\": \"2020-03-18T00:00:00\", \"maille_nom\": \"Guyane\", \"deces\": null, \"cas_confirmes\": 15.0, \"reanimation\": null, \"Days since 8th death\": 14}, {\"date\": \"2020-03-18T00:00:00\", \"maille_nom\": \"Mayotte\", \"deces\": null, \"cas_confirmes\": 3.0, \"reanimation\": null, \"Days since 8th death\": 4}, {\"date\": \"2020-03-18T00:00:00\", \"maille_nom\": \"Centre-Val de Loire\", \"deces\": 1.0, \"cas_confirmes\": 128.0, \"reanimation\": null, \"Days since 8th death\": 13}, {\"date\": \"2020-03-18T00:00:00\", \"maille_nom\": \"Bourgogne-Franche-Comt\\u00e9\", \"deces\": 20.0, \"cas_confirmes\": null, \"reanimation\": 43.0, \"Days since 8th death\": 1}, {\"date\": \"2020-03-18T00:00:00\", \"maille_nom\": \"Hauts-de-France\", \"deces\": 55.0, \"cas_confirmes\": 668.0, \"reanimation\": null, \"Days since 8th death\": 9}, {\"date\": \"2020-03-18T00:00:00\", \"maille_nom\": \"Occitanie\", \"deces\": 10.0, \"cas_confirmes\": 389.0, \"reanimation\": 37.0, \"Days since 8th death\": 0}, {\"date\": \"2020-03-18T00:00:00\", \"maille_nom\": \"Auvergne-Rh\\u00f4ne-Alpes\", \"deces\": 27.0, \"cas_confirmes\": 858.0, \"reanimation\": null, \"Days since 8th death\": 4}, {\"date\": \"2020-03-18T00:00:00\", \"maille_nom\": \"Corse\", \"deces\": null, \"cas_confirmes\": 152.0, \"reanimation\": null, \"Days since 8th death\": 13}, {\"date\": \"2020-03-19T00:00:00\", \"maille_nom\": \"Guadeloupe\", \"deces\": null, \"cas_confirmes\": 45.0, \"reanimation\": 3.0, \"Days since 8th death\": 8}, {\"date\": \"2020-03-19T00:00:00\", \"maille_nom\": \"Martinique\", \"deces\": null, \"cas_confirmes\": 32.0, \"reanimation\": 7.0, \"Days since 8th death\": 3}, {\"date\": \"2020-03-19T00:00:00\", \"maille_nom\": \"Martinique\", \"deces\": null, \"cas_confirmes\": 35.0, \"reanimation\": 7.0, \"Days since 8th death\": 3}, {\"date\": \"2020-03-19T00:00:00\", \"maille_nom\": \"Guyane\", \"deces\": null, \"cas_confirmes\": 15.0, \"reanimation\": null, \"Days since 8th death\": 15}, {\"date\": \"2020-03-19T00:00:00\", \"maille_nom\": \"Mayotte\", \"deces\": null, \"cas_confirmes\": 4.0, \"reanimation\": null, \"Days since 8th death\": 5}, {\"date\": \"2020-03-19T00:00:00\", \"maille_nom\": \"Centre-Val de Loire\", \"deces\": 1.0, \"cas_confirmes\": 157.0, \"reanimation\": null, \"Days since 8th death\": 14}, {\"date\": \"2020-03-19T00:00:00\", \"maille_nom\": \"Bourgogne-Franche-Comt\\u00e9\", \"deces\": 23.0, \"cas_confirmes\": null, \"reanimation\": 60.0, \"Days since 8th death\": 2}, {\"date\": \"2020-03-19T00:00:00\", \"maille_nom\": \"Hauts-de-France\", \"deces\": 69.0, \"cas_confirmes\": 719.0, \"reanimation\": null, \"Days since 8th death\": 10}, {\"date\": \"2020-03-19T00:00:00\", \"maille_nom\": \"Grand-Est\", \"deces\": 93.0, \"cas_confirmes\": null, \"reanimation\": 300.0, \"Days since 8th death\": 8}, {\"date\": \"2020-03-19T00:00:00\", \"maille_nom\": \"Bretagne\", \"deces\": 10.0, \"cas_confirmes\": 268.0, \"reanimation\": 26.0, \"Days since 8th death\": 0}, {\"date\": \"2020-03-19T00:00:00\", \"maille_nom\": \"Occitanie\", \"deces\": 17.0, \"cas_confirmes\": 472.0, \"reanimation\": 62.0, \"Days since 8th death\": 1}, {\"date\": \"2020-03-19T00:00:00\", \"maille_nom\": \"Auvergne-Rh\\u00f4ne-Alpes\", \"deces\": 39.0, \"cas_confirmes\": 1014.0, \"reanimation\": null, \"Days since 8th death\": 5}, {\"date\": \"2020-03-19T00:00:00\", \"maille_nom\": \"Provence-Alpes-C\\u00f4te d\\u2019Azur\", \"deces\": 9.0, \"cas_confirmes\": 690.0, \"reanimation\": 44.0, \"Days since 8th death\": 0}, {\"date\": \"2020-03-19T00:00:00\", \"maille_nom\": \"Corse\", \"deces\": null, \"cas_confirmes\": 164.0, \"reanimation\": null, \"Days since 8th death\": 14}, {\"date\": \"2020-03-20T00:00:00\", \"maille_nom\": \"Guadeloupe\", \"deces\": 1.0, \"cas_confirmes\": 51.0, \"reanimation\": 4.0, \"Days since 8th death\": 9}, {\"date\": \"2020-03-20T00:00:00\", \"maille_nom\": \"Guyane\", \"deces\": null, \"cas_confirmes\": 18.0, \"reanimation\": null, \"Days since 8th death\": 16}, {\"date\": \"2020-03-20T00:00:00\", \"maille_nom\": \"Mayotte\", \"deces\": null, \"cas_confirmes\": 6.0, \"reanimation\": 1.0, \"Days since 8th death\": 6}, {\"date\": \"2020-03-20T00:00:00\", \"maille_nom\": \"Centre-Val de Loire\", \"deces\": 1.0, \"cas_confirmes\": 219.0, \"reanimation\": 10.0, \"Days since 8th death\": 15}, {\"date\": \"2020-03-20T00:00:00\", \"maille_nom\": \"Bourgogne-Franche-Comt\\u00e9\", \"deces\": 28.0, \"cas_confirmes\": null, \"reanimation\": 73.0, \"Days since 8th death\": 3}, {\"date\": \"2020-03-20T00:00:00\", \"maille_nom\": \"Hauts-de-France\", \"deces\": 81.0, \"cas_confirmes\": 740.0, \"reanimation\": null, \"Days since 8th death\": 11}, {\"date\": \"2020-03-20T00:00:00\", \"maille_nom\": \"Grand-Est\", \"deces\": 105.0, \"cas_confirmes\": null, \"reanimation\": 352.0, \"Days since 8th death\": 9}, {\"date\": \"2020-03-20T00:00:00\", \"maille_nom\": \"Bretagne\", \"deces\": 12.0, \"cas_confirmes\": 306.0, \"reanimation\": 27.0, \"Days since 8th death\": 1}, {\"date\": \"2020-03-20T00:00:00\", \"maille_nom\": \"Occitanie\", \"deces\": 23.0, \"cas_confirmes\": 520.0, \"reanimation\": 67.0, \"Days since 8th death\": 2}, {\"date\": \"2020-03-20T00:00:00\", \"maille_nom\": \"Provence-Alpes-C\\u00f4te d\\u2019Azur\", \"deces\": 11.0, \"cas_confirmes\": 755.0, \"reanimation\": 59.0, \"Days since 8th death\": 1}, {\"date\": \"2020-03-20T00:00:00\", \"maille_nom\": \"Corse\", \"deces\": null, \"cas_confirmes\": 168.0, \"reanimation\": null, \"Days since 8th death\": 15}, {\"date\": \"2020-03-21T00:00:00\", \"maille_nom\": \"Guadeloupe\", \"deces\": null, \"cas_confirmes\": 56.0, \"reanimation\": 5.0, \"Days since 8th death\": 10}, {\"date\": \"2020-03-21T00:00:00\", \"maille_nom\": \"Guyane\", \"deces\": null, \"cas_confirmes\": 19.0, \"reanimation\": null, \"Days since 8th death\": 17}, {\"date\": \"2020-03-21T00:00:00\", \"maille_nom\": \"Mayotte\", \"deces\": null, \"cas_confirmes\": 9.0, \"reanimation\": 1.0, \"Days since 8th death\": 7}, {\"date\": \"2020-03-21T00:00:00\", \"maille_nom\": \"Centre-Val de Loire\", \"deces\": 2.0, \"cas_confirmes\": 254.0, \"reanimation\": 15.0, \"Days since 8th death\": 16}, {\"date\": \"2020-03-21T00:00:00\", \"maille_nom\": \"Bourgogne-Franche-Comt\\u00e9\", \"deces\": 36.0, \"cas_confirmes\": null, \"reanimation\": 79.0, \"Days since 8th death\": 4}, {\"date\": \"2020-03-21T00:00:00\", \"maille_nom\": \"Hauts-de-France\", \"deces\": 91.0, \"cas_confirmes\": 856.0, \"reanimation\": null, \"Days since 8th death\": 12}, {\"date\": \"2020-03-21T00:00:00\", \"maille_nom\": \"Grand-Est\", \"deces\": 230.0, \"cas_confirmes\": null, \"reanimation\": 435.0, \"Days since 8th death\": 10}, {\"date\": \"2020-03-21T00:00:00\", \"maille_nom\": \"Bretagne\", \"deces\": 15.0, \"cas_confirmes\": 359.0, \"reanimation\": 26.0, \"Days since 8th death\": 2}, {\"date\": \"2020-03-21T00:00:00\", \"maille_nom\": \"Occitanie\", \"deces\": 27.0, \"cas_confirmes\": 611.0, \"reanimation\": 72.0, \"Days since 8th death\": 3}, {\"date\": \"2020-03-21T00:00:00\", \"maille_nom\": \"Auvergne-Rh\\u00f4ne-Alpes\", \"deces\": 57.0, \"cas_confirmes\": 1266.0, \"reanimation\": null, \"Days since 8th death\": 7}, {\"date\": \"2020-03-21T00:00:00\", \"maille_nom\": \"Provence-Alpes-C\\u00f4te d\\u2019Azur\", \"deces\": 13.0, \"cas_confirmes\": 1041.0, \"reanimation\": 75.0, \"Days since 8th death\": 2}, {\"date\": \"2020-03-22T00:00:00\", \"maille_nom\": \"Guyane\", \"deces\": null, \"cas_confirmes\": 20.0, \"reanimation\": null, \"Days since 8th death\": 18}, {\"date\": \"2020-03-22T00:00:00\", \"maille_nom\": \"Mayotte\", \"deces\": null, \"cas_confirmes\": 11.0, \"reanimation\": 1.0, \"Days since 8th death\": 8}, {\"date\": \"2020-03-22T00:00:00\", \"maille_nom\": \"Centre-Val de Loire\", \"deces\": 2.0, \"cas_confirmes\": 291.0, \"reanimation\": 21.0, \"Days since 8th death\": 17}, {\"date\": \"2020-03-22T00:00:00\", \"maille_nom\": \"Bourgogne-Franche-Comt\\u00e9\", \"deces\": 51.0, \"cas_confirmes\": null, \"reanimation\": 100.0, \"Days since 8th death\": 5}, {\"date\": \"2020-03-22T00:00:00\", \"maille_nom\": \"Normandie\", \"deces\": 9.0, \"cas_confirmes\": 462.0, \"reanimation\": null, \"Days since 8th death\": 0}, {\"date\": \"2020-03-22T00:00:00\", \"maille_nom\": \"Hauts-de-France\", \"deces\": 97.0, \"cas_confirmes\": 943.0, \"reanimation\": null, \"Days since 8th death\": 13}, {\"date\": \"2020-03-22T00:00:00\", \"maille_nom\": \"Bretagne\", \"deces\": 17.0, \"cas_confirmes\": 446.0, \"reanimation\": 32.0, \"Days since 8th death\": 3}, {\"date\": \"2020-03-22T00:00:00\", \"maille_nom\": \"Nouvelle-Aquitaine\", \"deces\": 8.0, \"cas_confirmes\": 593.0, \"reanimation\": null, \"Days since 8th death\": 0}, {\"date\": \"2020-03-22T00:00:00\", \"maille_nom\": \"Auvergne-Rh\\u00f4ne-Alpes\", \"deces\": 72.0, \"cas_confirmes\": 1431.0, \"reanimation\": null, \"Days since 8th death\": 8}, {\"date\": \"2020-03-22T00:00:00\", \"maille_nom\": \"Provence-Alpes-C\\u00f4te d\\u2019Azur\", \"deces\": 15.0, \"cas_confirmes\": 1316.0, \"reanimation\": 85.0, \"Days since 8th death\": 3}, {\"date\": \"2020-03-23T00:00:00\", \"maille_nom\": \"Hauts-de-France\", \"deces\": 108.0, \"cas_confirmes\": 1287.0, \"reanimation\": null, \"Days since 8th death\": 14}, {\"date\": \"2020-03-23T00:00:00\", \"maille_nom\": \"Pays de la Loire\", \"deces\": 10.0, \"cas_confirmes\": 293.0, \"reanimation\": 51.0, \"Days since 8th death\": 0}]}}, {\"mode\": \"vega-lite\"});\n",
       "</script>"
      ],
      "text/plain": [
       "alt.LayerChart(...)"
      ]
     },
     "execution_count": 31,
     "metadata": {},
     "output_type": "execute_result"
    }
   ],
   "source": [
    "#hide_input\n",
    "baseline_countries = ['Occitanie','Hauts-de-France','Grand-Est']\n",
    "max_date = dff2['date'].max()\n",
    "color_domain = list(dff2['maille_nom'].unique())\n",
    "color_range = list(map(get_country_colors, color_domain))\n",
    "\n",
    "chart = make_since_chart(dff2, highlight_countries=[], \n",
    "                         baseline_countries=baseline_countries, \n",
    "                         Y_to_plot='deces', scale_type='log',\n",
    "                         title='Trajectoires du nombre de décès')\n",
    "chart"
   ]
  },
  {
   "cell_type": "markdown",
   "metadata": {},
   "source": [
    "# Confirmed cases"
   ]
  },
  {
   "cell_type": "code",
   "execution_count": 14,
   "metadata": {},
   "outputs": [],
   "source": [
    "#hide\n",
    "SINCE_CASES_NUM = 20\n",
    "COL_X = f'Days since {SINCE_CASES_NUM}th case'\n",
    "dff3 = dff[dff['maille_nom'].isin(myregions)].copy()\n",
    "days_since = (dff3.assign(F=dff3['cas_confirmes'].ge(SINCE_CASES_NUM))\n",
    "              .set_index('date')\n",
    "              .groupby('maille_nom')['F'].transform('idxmax'))\n",
    "dff3[COL_X] = (dff3['date'] - days_since.values).dt.days.values\n",
    "dff3 = dff3[dff3[COL_X].ge(0)]\n",
    "\n",
    "dff3.cas_confirmes[dff3.cas_confirmes==0]=np.nan"
   ]
  },
  {
   "cell_type": "code",
   "execution_count": 15,
   "metadata": {},
   "outputs": [
    {
     "data": {
      "text/html": [
       "<div>\n",
       "<style scoped>\n",
       "    .dataframe tbody tr th:only-of-type {\n",
       "        vertical-align: middle;\n",
       "    }\n",
       "\n",
       "    .dataframe tbody tr th {\n",
       "        vertical-align: top;\n",
       "    }\n",
       "\n",
       "    .dataframe thead th {\n",
       "        text-align: right;\n",
       "    }\n",
       "</style>\n",
       "<table border=\"1\" class=\"dataframe\">\n",
       "  <thead>\n",
       "    <tr style=\"text-align: right;\">\n",
       "      <th></th>\n",
       "      <th>date</th>\n",
       "      <th>maille_nom</th>\n",
       "      <th>deces</th>\n",
       "      <th>cas_confirmes</th>\n",
       "      <th>reanimation</th>\n",
       "      <th>Days since 20th case</th>\n",
       "    </tr>\n",
       "  </thead>\n",
       "  <tbody>\n",
       "    <tr>\n",
       "      <th>963</th>\n",
       "      <td>2020-03-09</td>\n",
       "      <td>Hauts-de-France</td>\n",
       "      <td>15.0</td>\n",
       "      <td>181.0</td>\n",
       "      <td>NaN</td>\n",
       "      <td>0</td>\n",
       "    </tr>\n",
       "    <tr>\n",
       "      <th>1091</th>\n",
       "      <td>2020-03-10</td>\n",
       "      <td>Hauts-de-France</td>\n",
       "      <td>16.0</td>\n",
       "      <td>222.0</td>\n",
       "      <td>NaN</td>\n",
       "      <td>1</td>\n",
       "    </tr>\n",
       "    <tr>\n",
       "      <th>1371</th>\n",
       "      <td>2020-03-12</td>\n",
       "      <td>Hauts-de-France</td>\n",
       "      <td>20.0</td>\n",
       "      <td>337.0</td>\n",
       "      <td>NaN</td>\n",
       "      <td>3</td>\n",
       "    </tr>\n",
       "    <tr>\n",
       "      <th>1491</th>\n",
       "      <td>2020-03-13</td>\n",
       "      <td>Hauts-de-France</td>\n",
       "      <td>26.0</td>\n",
       "      <td>368.0</td>\n",
       "      <td>NaN</td>\n",
       "      <td>4</td>\n",
       "    </tr>\n",
       "    <tr>\n",
       "      <th>1618</th>\n",
       "      <td>2020-03-14</td>\n",
       "      <td>Hauts-de-France</td>\n",
       "      <td>29.0</td>\n",
       "      <td>463.0</td>\n",
       "      <td>NaN</td>\n",
       "      <td>5</td>\n",
       "    </tr>\n",
       "    <tr>\n",
       "      <th>1845</th>\n",
       "      <td>2020-03-16</td>\n",
       "      <td>Hauts-de-France</td>\n",
       "      <td>39.0</td>\n",
       "      <td>587.0</td>\n",
       "      <td>NaN</td>\n",
       "      <td>7</td>\n",
       "    </tr>\n",
       "    <tr>\n",
       "      <th>1960</th>\n",
       "      <td>2020-03-17</td>\n",
       "      <td>Hauts-de-France</td>\n",
       "      <td>46.0</td>\n",
       "      <td>613.0</td>\n",
       "      <td>NaN</td>\n",
       "      <td>8</td>\n",
       "    </tr>\n",
       "    <tr>\n",
       "      <th>2180</th>\n",
       "      <td>2020-03-18</td>\n",
       "      <td>Hauts-de-France</td>\n",
       "      <td>55.0</td>\n",
       "      <td>668.0</td>\n",
       "      <td>NaN</td>\n",
       "      <td>9</td>\n",
       "    </tr>\n",
       "    <tr>\n",
       "      <th>2412</th>\n",
       "      <td>2020-03-19</td>\n",
       "      <td>Hauts-de-France</td>\n",
       "      <td>69.0</td>\n",
       "      <td>719.0</td>\n",
       "      <td>NaN</td>\n",
       "      <td>10</td>\n",
       "    </tr>\n",
       "    <tr>\n",
       "      <th>2629</th>\n",
       "      <td>2020-03-20</td>\n",
       "      <td>Hauts-de-France</td>\n",
       "      <td>81.0</td>\n",
       "      <td>740.0</td>\n",
       "      <td>NaN</td>\n",
       "      <td>11</td>\n",
       "    </tr>\n",
       "    <tr>\n",
       "      <th>2856</th>\n",
       "      <td>2020-03-21</td>\n",
       "      <td>Hauts-de-France</td>\n",
       "      <td>91.0</td>\n",
       "      <td>856.0</td>\n",
       "      <td>NaN</td>\n",
       "      <td>12</td>\n",
       "    </tr>\n",
       "    <tr>\n",
       "      <th>3066</th>\n",
       "      <td>2020-03-22</td>\n",
       "      <td>Hauts-de-France</td>\n",
       "      <td>97.0</td>\n",
       "      <td>943.0</td>\n",
       "      <td>NaN</td>\n",
       "      <td>13</td>\n",
       "    </tr>\n",
       "    <tr>\n",
       "      <th>3110</th>\n",
       "      <td>2020-03-23</td>\n",
       "      <td>Hauts-de-France</td>\n",
       "      <td>108.0</td>\n",
       "      <td>1287.0</td>\n",
       "      <td>NaN</td>\n",
       "      <td>14</td>\n",
       "    </tr>\n",
       "  </tbody>\n",
       "</table>\n",
       "</div>"
      ],
      "text/plain": [
       "           date       maille_nom  deces  cas_confirmes  reanimation  \\\n",
       "963  2020-03-09  Hauts-de-France   15.0          181.0          NaN   \n",
       "1091 2020-03-10  Hauts-de-France   16.0          222.0          NaN   \n",
       "1371 2020-03-12  Hauts-de-France   20.0          337.0          NaN   \n",
       "1491 2020-03-13  Hauts-de-France   26.0          368.0          NaN   \n",
       "1618 2020-03-14  Hauts-de-France   29.0          463.0          NaN   \n",
       "1845 2020-03-16  Hauts-de-France   39.0          587.0          NaN   \n",
       "1960 2020-03-17  Hauts-de-France   46.0          613.0          NaN   \n",
       "2180 2020-03-18  Hauts-de-France   55.0          668.0          NaN   \n",
       "2412 2020-03-19  Hauts-de-France   69.0          719.0          NaN   \n",
       "2629 2020-03-20  Hauts-de-France   81.0          740.0          NaN   \n",
       "2856 2020-03-21  Hauts-de-France   91.0          856.0          NaN   \n",
       "3066 2020-03-22  Hauts-de-France   97.0          943.0          NaN   \n",
       "3110 2020-03-23  Hauts-de-France  108.0         1287.0          NaN   \n",
       "\n",
       "      Days since 20th case  \n",
       "963                      0  \n",
       "1091                     1  \n",
       "1371                     3  \n",
       "1491                     4  \n",
       "1618                     5  \n",
       "1845                     7  \n",
       "1960                     8  \n",
       "2180                     9  \n",
       "2412                    10  \n",
       "2629                    11  \n",
       "2856                    12  \n",
       "3066                    13  \n",
       "3110                    14  "
      ]
     },
     "execution_count": 15,
     "metadata": {},
     "output_type": "execute_result"
    }
   ],
   "source": [
    "dff3[dff3.maille_nom=='Hauts-de-France']"
   ]
  },
  {
   "cell_type": "code",
   "execution_count": 16,
   "metadata": {},
   "outputs": [
    {
     "data": {
      "text/html": [
       "\n",
       "<div id=\"altair-viz-9724b160133142bda8973612bb51ff99\"></div>\n",
       "<script type=\"text/javascript\">\n",
       "  (function(spec, embedOpt){\n",
       "    const outputDiv = document.getElementById(\"altair-viz-9724b160133142bda8973612bb51ff99\");\n",
       "    const paths = {\n",
       "      \"vega\": \"https://cdn.jsdelivr.net/npm//vega@5?noext\",\n",
       "      \"vega-lib\": \"https://cdn.jsdelivr.net/npm//vega-lib?noext\",\n",
       "      \"vega-lite\": \"https://cdn.jsdelivr.net/npm//vega-lite@4.0.2?noext\",\n",
       "      \"vega-embed\": \"https://cdn.jsdelivr.net/npm//vega-embed@6?noext\",\n",
       "    };\n",
       "\n",
       "    function loadScript(lib) {\n",
       "      return new Promise(function(resolve, reject) {\n",
       "        var s = document.createElement('script');\n",
       "        s.src = paths[lib];\n",
       "        s.async = true;\n",
       "        s.onload = () => resolve(paths[lib]);\n",
       "        s.onerror = () => reject(`Error loading script: ${paths[lib]}`);\n",
       "        document.getElementsByTagName(\"head\")[0].appendChild(s);\n",
       "      });\n",
       "    }\n",
       "\n",
       "    function showError(err) {\n",
       "      outputDiv.innerHTML = `<div class=\"error\" style=\"color:red;\">${err}</div>`;\n",
       "      throw err;\n",
       "    }\n",
       "\n",
       "    function displayChart(vegaEmbed) {\n",
       "      vegaEmbed(outputDiv, spec, embedOpt)\n",
       "        .catch(err => showError(`Javascript Error: ${err.message}<br>This usually means there's a typo in your chart specification. See the javascript console for the full traceback.`));\n",
       "    }\n",
       "\n",
       "    if(typeof define === \"function\" && define.amd) {\n",
       "      requirejs.config({paths});\n",
       "      require([\"vega-embed\"], displayChart, err => showError(`Error loading script: ${err.message}`));\n",
       "    } else if (typeof vegaEmbed === \"function\") {\n",
       "      displayChart(vegaEmbed);\n",
       "    } else {\n",
       "      loadScript(\"vega\")\n",
       "        .then(() => loadScript(\"vega-lite\"))\n",
       "        .then(() => loadScript(\"vega-embed\"))\n",
       "        .catch(showError)\n",
       "        .then(() => displayChart(vegaEmbed));\n",
       "    }\n",
       "  })({\"config\": {\"view\": {\"continuousWidth\": 400, \"continuousHeight\": 300}}, \"layer\": [{\"data\": {\"name\": \"data-74f1126e3a44d7d6895436790891abbc\"}, \"mark\": {\"type\": \"line\", \"color\": \"black\", \"opacity\": 0.5, \"strokeDash\": [3, 3]}, \"encoding\": {\"x\": {\"type\": \"quantitative\", \"field\": \"Days since 20th case\"}, \"y\": {\"type\": \"quantitative\", \"field\": \"cas_confirmes\"}}}, {\"data\": {\"name\": \"data-74f1126e3a44d7d6895436790891abbc\"}, \"mark\": {\"type\": \"text\", \"align\": \"right\", \"dy\": -6, \"fontSize\": 10, \"text\": \"+33% par jour\"}, \"encoding\": {\"x\": {\"type\": \"quantitative\", \"field\": \"Days since 20th case\"}, \"y\": {\"type\": \"quantitative\", \"field\": \"cas_confirmes\"}}, \"transform\": [{\"filter\": \"(datum['Days since 20th case'] >= 20)\"}]}, {\"data\": {\"name\": \"data-9bfe0c818801dd2efa905b40d537be4a\"}, \"mark\": {\"type\": \"line\", \"point\": true}, \"encoding\": {\"color\": {\"type\": \"nominal\", \"field\": \"maille_nom\", \"scale\": {\"domain\": [\"Auvergne-Rh\\u00f4ne-Alpes\", \"Grand-Est\", \"Bretagne\", \"Ile-de-France\", \"Bourgogne-Franche-Comt\\u00e9\", \"Provence-Alpes-C\\u00f4te d\\u2019Azur\", \"Occitanie\", \"Normandie\", \"Pays de la Loire\", \"Nouvelle-Aquitaine\", \"Hauts-de-France\", \"Corse\", \"Centre-Val de Loire\", \"Mayotte\", \"Guadeloupe\", \"Martinique\", \"Guyane\"], \"range\": [\"#A1BA59\", \"black\", \"#9467bd\", \"black\", \"#A1BA59\", \"black\", \"#E45756\", \"#C1B7AD\", \"#F58518\", \"black\", \"#2495D3\", \"#2495D3\", \"#9D755D\", \"#C1B7AD\", \"#C1B7AD\", \"#C1B7AD\", \"#C1B7AD\"]}}, \"opacity\": {\"condition\": {\"value\": 1, \"selection\": \"selector002\"}, \"value\": 0.05}, \"tooltip\": [{\"type\": \"temporal\", \"field\": \"date\"}, {\"type\": \"nominal\", \"field\": \"maille_nom\"}, {\"type\": \"quantitative\", \"field\": \"deces\"}, {\"type\": \"quantitative\", \"field\": \"cas_confirmes\"}, {\"type\": \"quantitative\", \"field\": \"reanimation\"}, {\"type\": \"quantitative\", \"field\": \"Days since 20th case\"}], \"x\": {\"type\": \"quantitative\", \"field\": \"Days since 20th case\"}, \"y\": {\"type\": \"quantitative\", \"axis\": {\"title\": \"Nombre cumul\\u00e9\"}, \"field\": \"cas_confirmes\", \"scale\": {\"type\": \"log\"}}}, \"selection\": {\"selector002\": {\"type\": \"multi\", \"fields\": [\"maille_nom\"], \"bind\": \"legend\", \"init\": [{\"maille_nom\": \"Occitanie\"}, {\"maille_nom\": \"Hauts-de-France\"}, {\"maille_nom\": \"Grand-Est\"}]}}, \"width\": 550}, {\"data\": {\"name\": \"data-9bfe0c818801dd2efa905b40d537be4a\"}, \"mark\": {\"type\": \"text\", \"align\": \"right\", \"dy\": -8, \"fontWeight\": \"bold\"}, \"encoding\": {\"color\": {\"type\": \"nominal\", \"field\": \"maille_nom\", \"scale\": {\"domain\": [\"Auvergne-Rh\\u00f4ne-Alpes\", \"Grand-Est\", \"Bretagne\", \"Ile-de-France\", \"Bourgogne-Franche-Comt\\u00e9\", \"Provence-Alpes-C\\u00f4te d\\u2019Azur\", \"Occitanie\", \"Normandie\", \"Pays de la Loire\", \"Nouvelle-Aquitaine\", \"Hauts-de-France\", \"Corse\", \"Centre-Val de Loire\", \"Mayotte\", \"Guadeloupe\", \"Martinique\", \"Guyane\"], \"range\": [\"#A1BA59\", \"black\", \"#9467bd\", \"black\", \"#A1BA59\", \"black\", \"#E45756\", \"#C1B7AD\", \"#F58518\", \"black\", \"#2495D3\", \"#2495D3\", \"#9D755D\", \"#C1B7AD\", \"#C1B7AD\", \"#C1B7AD\", \"#C1B7AD\"]}}, \"opacity\": {\"condition\": {\"value\": 1, \"selection\": \"selector002\"}, \"value\": 0.05}, \"text\": {\"type\": \"nominal\", \"field\": \"maille_nom\"}, \"tooltip\": [{\"type\": \"temporal\", \"field\": \"date\"}, {\"type\": \"nominal\", \"field\": \"maille_nom\"}, {\"type\": \"quantitative\", \"field\": \"deces\"}, {\"type\": \"quantitative\", \"field\": \"cas_confirmes\"}, {\"type\": \"quantitative\", \"field\": \"reanimation\"}, {\"type\": \"quantitative\", \"field\": \"Days since 20th case\"}], \"x\": {\"type\": \"quantitative\", \"field\": \"Days since 20th case\"}, \"y\": {\"type\": \"quantitative\", \"axis\": {\"title\": \"Nombre cumul\\u00e9\"}, \"field\": \"cas_confirmes\", \"scale\": {\"type\": \"log\"}}}, \"transform\": [{\"filter\": \"(datum['date'] >= 1584921600000)\"}], \"width\": 550}], \"title\": \"Trajectoires du nombre de cas\", \"$schema\": \"https://vega.github.io/schema/vega-lite/v4.0.2.json\", \"datasets\": {\"data-74f1126e3a44d7d6895436790891abbc\": [{\"Days since 20th case\": 0, \"cas_confirmes\": 20.0}, {\"Days since 20th case\": 1, \"cas_confirmes\": 26.6}, {\"Days since 20th case\": 2, \"cas_confirmes\": 35.378}, {\"Days since 20th case\": 3, \"cas_confirmes\": 47.052740000000014}, {\"Days since 20th case\": 4, \"cas_confirmes\": 62.580144200000014}, {\"Days since 20th case\": 5, \"cas_confirmes\": 83.23159178600002}, {\"Days since 20th case\": 6, \"cas_confirmes\": 110.69801707538004}, {\"Days since 20th case\": 7, \"cas_confirmes\": 147.22836271025545}, {\"Days since 20th case\": 8, \"cas_confirmes\": 195.81372240463978}, {\"Days since 20th case\": 9, \"cas_confirmes\": 260.4322507981709}, {\"Days since 20th case\": 10, \"cas_confirmes\": 346.3748935615673}, {\"Days since 20th case\": 11, \"cas_confirmes\": 460.6786084368846}, {\"Days since 20th case\": 12, \"cas_confirmes\": 612.7025492210565}, {\"Days since 20th case\": 13, \"cas_confirmes\": 814.8943904640053}, {\"Days since 20th case\": 14, \"cas_confirmes\": 1083.809539317127}, {\"Days since 20th case\": 15, \"cas_confirmes\": 1441.466687291779}, {\"Days since 20th case\": 16, \"cas_confirmes\": 1917.150694098066}, {\"Days since 20th case\": 17, \"cas_confirmes\": 2549.810423150428}, {\"Days since 20th case\": 18, \"cas_confirmes\": 3391.2478627900696}, {\"Days since 20th case\": 19, \"cas_confirmes\": 4510.359657510792}, {\"Days since 20th case\": 20, \"cas_confirmes\": 5998.778344489355}], \"data-9bfe0c818801dd2efa905b40d537be4a\": [{\"date\": \"2020-03-02T00:00:00\", \"maille_nom\": \"Auvergne-Rh\\u00f4ne-Alpes\", \"deces\": 0.0, \"cas_confirmes\": 32.0, \"reanimation\": null, \"Days since 20th case\": 0}, {\"date\": \"2020-03-03T00:00:00\", \"maille_nom\": \"Auvergne-Rh\\u00f4ne-Alpes\", \"deces\": 0.0, \"cas_confirmes\": 36.0, \"reanimation\": null, \"Days since 20th case\": 1}, {\"date\": \"2020-03-04T00:00:00\", \"maille_nom\": \"Grand-Est\", \"deces\": 0.0, \"cas_confirmes\": 26.0, \"reanimation\": null, \"Days since 20th case\": 0}, {\"date\": \"2020-03-04T00:00:00\", \"maille_nom\": \"Bretagne\", \"deces\": null, \"cas_confirmes\": 24.0, \"reanimation\": null, \"Days since 20th case\": 0}, {\"date\": \"2020-03-04T00:00:00\", \"maille_nom\": \"Auvergne-Rh\\u00f4ne-Alpes\", \"deces\": 0.0, \"cas_confirmes\": 51.0, \"reanimation\": 4.0, \"Days since 20th case\": 2}, {\"date\": \"2020-03-05T00:00:00\", \"maille_nom\": \"Ile-de-France\", \"deces\": null, \"cas_confirmes\": 77.0, \"reanimation\": null, \"Days since 20th case\": 0}, {\"date\": \"2020-03-05T00:00:00\", \"maille_nom\": \"Bourgogne-Franche-Comt\\u00e9\", \"deces\": 0.0, \"cas_confirmes\": 44.0, \"reanimation\": null, \"Days since 20th case\": 0}, {\"date\": \"2020-03-05T00:00:00\", \"maille_nom\": \"Bretagne\", \"deces\": null, \"cas_confirmes\": 31.0, \"reanimation\": null, \"Days since 20th case\": 1}, {\"date\": \"2020-03-05T00:00:00\", \"maille_nom\": \"Auvergne-Rh\\u00f4ne-Alpes\", \"deces\": 0.0, \"cas_confirmes\": 63.0, \"reanimation\": null, \"Days since 20th case\": 3}, {\"date\": \"2020-03-05T00:00:00\", \"maille_nom\": \"Provence-Alpes-C\\u00f4te d\\u2019Azur\", \"deces\": 0.0, \"cas_confirmes\": 26.0, \"reanimation\": null, \"Days since 20th case\": 0}, {\"date\": \"2020-03-06T00:00:00\", \"maille_nom\": \"Ile-de-France\", \"deces\": 1.0, \"cas_confirmes\": 131.0, \"reanimation\": null, \"Days since 20th case\": 1}, {\"date\": \"2020-03-06T00:00:00\", \"maille_nom\": \"Bourgogne-Franche-Comt\\u00e9\", \"deces\": 0.0, \"cas_confirmes\": 80.0, \"reanimation\": null, \"Days since 20th case\": 1}, {\"date\": \"2020-03-06T00:00:00\", \"maille_nom\": \"Grand-Est\", \"deces\": 0.0, \"cas_confirmes\": 81.0, \"reanimation\": null, \"Days since 20th case\": 2}, {\"date\": \"2020-03-06T00:00:00\", \"maille_nom\": \"Bretagne\", \"deces\": null, \"cas_confirmes\": 34.0, \"reanimation\": null, \"Days since 20th case\": 2}, {\"date\": \"2020-03-06T00:00:00\", \"maille_nom\": \"Auvergne-Rh\\u00f4ne-Alpes\", \"deces\": 0.0, \"cas_confirmes\": 87.0, \"reanimation\": null, \"Days since 20th case\": 4}, {\"date\": \"2020-03-06T00:00:00\", \"maille_nom\": \"Provence-Alpes-C\\u00f4te d\\u2019Azur\", \"deces\": 0.0, \"cas_confirmes\": 31.0, \"reanimation\": null, \"Days since 20th case\": 1}, {\"date\": \"2020-03-07T00:00:00\", \"maille_nom\": \"Ile-de-France\", \"deces\": 1.0, \"cas_confirmes\": 161.0, \"reanimation\": null, \"Days since 20th case\": 2}, {\"date\": \"2020-03-07T00:00:00\", \"maille_nom\": \"Bourgogne-Franche-Comt\\u00e9\", \"deces\": 0.0, \"cas_confirmes\": 106.0, \"reanimation\": null, \"Days since 20th case\": 2}, {\"date\": \"2020-03-07T00:00:00\", \"maille_nom\": \"Bretagne\", \"deces\": null, \"cas_confirmes\": 47.0, \"reanimation\": null, \"Days since 20th case\": 3}, {\"date\": \"2020-03-07T00:00:00\", \"maille_nom\": \"Occitanie\", \"deces\": null, \"cas_confirmes\": 29.0, \"reanimation\": 1.0, \"Days since 20th case\": 0}, {\"date\": \"2020-03-07T00:00:00\", \"maille_nom\": \"Auvergne-Rh\\u00f4ne-Alpes\", \"deces\": 0.0, \"cas_confirmes\": 125.0, \"reanimation\": null, \"Days since 20th case\": 5}, {\"date\": \"2020-03-07T00:00:00\", \"maille_nom\": \"Provence-Alpes-C\\u00f4te d\\u2019Azur\", \"deces\": 0.0, \"cas_confirmes\": 37.0, \"reanimation\": null, \"Days since 20th case\": 2}, {\"date\": \"2020-03-08T00:00:00\", \"maille_nom\": \"Ile-de-France\", \"deces\": 1.0, \"cas_confirmes\": 226.0, \"reanimation\": null, \"Days since 20th case\": 3}, {\"date\": \"2020-03-08T00:00:00\", \"maille_nom\": \"Bourgogne-Franche-Comt\\u00e9\", \"deces\": 0.0, \"cas_confirmes\": 112.0, \"reanimation\": null, \"Days since 20th case\": 3}, {\"date\": \"2020-03-08T00:00:00\", \"maille_nom\": \"Normandie\", \"deces\": 1.0, \"cas_confirmes\": 22.0, \"reanimation\": null, \"Days since 20th case\": 0}, {\"date\": \"2020-03-08T00:00:00\", \"maille_nom\": \"Grand-Est\", \"deces\": 3.0, \"cas_confirmes\": 262.0, \"reanimation\": 45.0, \"Days since 20th case\": 4}, {\"date\": \"2020-03-08T00:00:00\", \"maille_nom\": \"Pays de la Loire\", \"deces\": null, \"cas_confirmes\": 24.0, \"reanimation\": null, \"Days since 20th case\": 0}, {\"date\": \"2020-03-08T00:00:00\", \"maille_nom\": \"Bretagne\", \"deces\": null, \"cas_confirmes\": 59.0, \"reanimation\": null, \"Days since 20th case\": 4}, {\"date\": \"2020-03-08T00:00:00\", \"maille_nom\": \"Nouvelle-Aquitaine\", \"deces\": null, \"cas_confirmes\": 29.0, \"reanimation\": null, \"Days since 20th case\": 0}, {\"date\": \"2020-03-08T00:00:00\", \"maille_nom\": \"Auvergne-Rh\\u00f4ne-Alpes\", \"deces\": 1.0, \"cas_confirmes\": 146.0, \"reanimation\": null, \"Days since 20th case\": 6}, {\"date\": \"2020-03-08T00:00:00\", \"maille_nom\": \"Provence-Alpes-C\\u00f4te d\\u2019Azur\", \"deces\": 0.0, \"cas_confirmes\": 52.0, \"reanimation\": null, \"Days since 20th case\": 3}, {\"date\": \"2020-03-09T00:00:00\", \"maille_nom\": \"Ile-de-France\", \"deces\": 1.0, \"cas_confirmes\": 283.0, \"reanimation\": null, \"Days since 20th case\": 4}, {\"date\": \"2020-03-09T00:00:00\", \"maille_nom\": \"Bourgogne-Franche-Comt\\u00e9\", \"deces\": 0.0, \"cas_confirmes\": 119.0, \"reanimation\": null, \"Days since 20th case\": 4}, {\"date\": \"2020-03-09T00:00:00\", \"maille_nom\": \"Normandie\", \"deces\": 1.0, \"cas_confirmes\": 25.0, \"reanimation\": null, \"Days since 20th case\": 1}, {\"date\": \"2020-03-09T00:00:00\", \"maille_nom\": \"Hauts-de-France\", \"deces\": 15.0, \"cas_confirmes\": 181.0, \"reanimation\": null, \"Days since 20th case\": 0}, {\"date\": \"2020-03-09T00:00:00\", \"maille_nom\": \"Grand-Est\", \"deces\": 4.0, \"cas_confirmes\": 310.0, \"reanimation\": null, \"Days since 20th case\": 5}, {\"date\": \"2020-03-09T00:00:00\", \"maille_nom\": \"Bretagne\", \"deces\": null, \"cas_confirmes\": 71.0, \"reanimation\": null, \"Days since 20th case\": 5}, {\"date\": \"2020-03-09T00:00:00\", \"maille_nom\": \"Nouvelle-Aquitaine\", \"deces\": null, \"cas_confirmes\": 39.0, \"reanimation\": null, \"Days since 20th case\": 1}, {\"date\": \"2020-03-09T00:00:00\", \"maille_nom\": \"Occitanie\", \"deces\": null, \"cas_confirmes\": 60.0, \"reanimation\": 2.0, \"Days since 20th case\": 2}, {\"date\": \"2020-03-09T00:00:00\", \"maille_nom\": \"Auvergne-Rh\\u00f4ne-Alpes\", \"deces\": 3.0, \"cas_confirmes\": 182.0, \"reanimation\": null, \"Days since 20th case\": 7}, {\"date\": \"2020-03-09T00:00:00\", \"maille_nom\": \"Provence-Alpes-C\\u00f4te d\\u2019Azur\", \"deces\": 0.0, \"cas_confirmes\": 72.0, \"reanimation\": null, \"Days since 20th case\": 4}, {\"date\": \"2020-03-09T00:00:00\", \"maille_nom\": \"Corse\", \"deces\": 1.0, \"cas_confirmes\": 38.0, \"reanimation\": 2.0, \"Days since 20th case\": 0}, {\"date\": \"2020-03-10T00:00:00\", \"maille_nom\": \"Ile-de-France\", \"deces\": 4.0, \"cas_confirmes\": 283.0, \"reanimation\": null, \"Days since 20th case\": 5}, {\"date\": \"2020-03-10T00:00:00\", \"maille_nom\": \"Bourgogne-Franche-Comt\\u00e9\", \"deces\": 1.0, \"cas_confirmes\": 147.0, \"reanimation\": 5.0, \"Days since 20th case\": 5}, {\"date\": \"2020-03-10T00:00:00\", \"maille_nom\": \"Normandie\", \"deces\": 1.0, \"cas_confirmes\": 39.0, \"reanimation\": null, \"Days since 20th case\": 2}, {\"date\": \"2020-03-10T00:00:00\", \"maille_nom\": \"Hauts-de-France\", \"deces\": 16.0, \"cas_confirmes\": 222.0, \"reanimation\": null, \"Days since 20th case\": 1}, {\"date\": \"2020-03-10T00:00:00\", \"maille_nom\": \"Grand-Est\", \"deces\": 5.0, \"cas_confirmes\": 464.0, \"reanimation\": null, \"Days since 20th case\": 6}, {\"date\": \"2020-03-10T00:00:00\", \"maille_nom\": \"Pays de la Loire\", \"deces\": null, \"cas_confirmes\": 27.0, \"reanimation\": null, \"Days since 20th case\": 2}, {\"date\": \"2020-03-10T00:00:00\", \"maille_nom\": \"Bretagne\", \"deces\": null, \"cas_confirmes\": 81.0, \"reanimation\": null, \"Days since 20th case\": 6}, {\"date\": \"2020-03-10T00:00:00\", \"maille_nom\": \"Nouvelle-Aquitaine\", \"deces\": null, \"cas_confirmes\": 55.0, \"reanimation\": null, \"Days since 20th case\": 2}, {\"date\": \"2020-03-10T00:00:00\", \"maille_nom\": \"Auvergne-Rh\\u00f4ne-Alpes\", \"deces\": 3.0, \"cas_confirmes\": 227.0, \"reanimation\": null, \"Days since 20th case\": 8}, {\"date\": \"2020-03-10T00:00:00\", \"maille_nom\": \"Provence-Alpes-C\\u00f4te d\\u2019Azur\", \"deces\": 0.0, \"cas_confirmes\": 90.0, \"reanimation\": null, \"Days since 20th case\": 5}, {\"date\": \"2020-03-10T00:00:00\", \"maille_nom\": \"Corse\", \"deces\": 2.0, \"cas_confirmes\": 42.0, \"reanimation\": 2.0, \"Days since 20th case\": 1}, {\"date\": \"2020-03-11T00:00:00\", \"maille_nom\": \"Ile-de-France\", \"deces\": 4.0, \"cas_confirmes\": 512.0, \"reanimation\": null, \"Days since 20th case\": 6}, {\"date\": \"2020-03-11T00:00:00\", \"maille_nom\": \"Centre-Val de Loire\", \"deces\": null, \"cas_confirmes\": 20.0, \"reanimation\": null, \"Days since 20th case\": 0}, {\"date\": \"2020-03-11T00:00:00\", \"maille_nom\": \"Bourgogne-Franche-Comt\\u00e9\", \"deces\": 3.0, \"cas_confirmes\": 165.0, \"reanimation\": 8.0, \"Days since 20th case\": 6}, {\"date\": \"2020-03-11T00:00:00\", \"maille_nom\": \"Normandie\", \"deces\": 1.0, \"cas_confirmes\": 57.0, \"reanimation\": null, \"Days since 20th case\": 3}, {\"date\": \"2020-03-11T00:00:00\", \"maille_nom\": \"Grand-Est\", \"deces\": 9.0, \"cas_confirmes\": 587.0, \"reanimation\": null, \"Days since 20th case\": 7}, {\"date\": \"2020-03-11T00:00:00\", \"maille_nom\": \"Bretagne\", \"deces\": 1.0, \"cas_confirmes\": 93.0, \"reanimation\": null, \"Days since 20th case\": 7}, {\"date\": \"2020-03-11T00:00:00\", \"maille_nom\": \"Nouvelle-Aquitaine\", \"deces\": null, \"cas_confirmes\": 72.0, \"reanimation\": null, \"Days since 20th case\": 3}, {\"date\": \"2020-03-11T00:00:00\", \"maille_nom\": \"Occitanie\", \"deces\": null, \"cas_confirmes\": 118.0, \"reanimation\": 8.0, \"Days since 20th case\": 4}, {\"date\": \"2020-03-11T00:00:00\", \"maille_nom\": \"Auvergne-Rh\\u00f4ne-Alpes\", \"deces\": 3.0, \"cas_confirmes\": 262.0, \"reanimation\": null, \"Days since 20th case\": 9}, {\"date\": \"2020-03-11T00:00:00\", \"maille_nom\": \"Provence-Alpes-C\\u00f4te d\\u2019Azur\", \"deces\": 0.0, \"cas_confirmes\": 112.0, \"reanimation\": 6.0, \"Days since 20th case\": 6}, {\"date\": \"2020-03-11T00:00:00\", \"maille_nom\": \"Corse\", \"deces\": 3.0, \"cas_confirmes\": 51.0, \"reanimation\": 2.0, \"Days since 20th case\": 2}, {\"date\": \"2020-03-12T00:00:00\", \"maille_nom\": \"Ile-de-France\", \"deces\": 4.0, \"cas_confirmes\": 605.0, \"reanimation\": null, \"Days since 20th case\": 7}, {\"date\": \"2020-03-12T00:00:00\", \"maille_nom\": \"Centre-Val de Loire\", \"deces\": null, \"cas_confirmes\": 30.0, \"reanimation\": null, \"Days since 20th case\": 1}, {\"date\": \"2020-03-12T00:00:00\", \"maille_nom\": \"Bourgogne-Franche-Comt\\u00e9\", \"deces\": 5.0, \"cas_confirmes\": 219.0, \"reanimation\": 11.0, \"Days since 20th case\": 7}, {\"date\": \"2020-03-12T00:00:00\", \"maille_nom\": \"Normandie\", \"deces\": 1.0, \"cas_confirmes\": 68.0, \"reanimation\": null, \"Days since 20th case\": 4}, {\"date\": \"2020-03-12T00:00:00\", \"maille_nom\": \"Hauts-de-France\", \"deces\": 20.0, \"cas_confirmes\": 337.0, \"reanimation\": null, \"Days since 20th case\": 3}, {\"date\": \"2020-03-12T00:00:00\", \"maille_nom\": \"Pays de la Loire\", \"deces\": null, \"cas_confirmes\": 42.0, \"reanimation\": null, \"Days since 20th case\": 4}, {\"date\": \"2020-03-12T00:00:00\", \"maille_nom\": \"Bretagne\", \"deces\": 3.0, \"cas_confirmes\": 120.0, \"reanimation\": null, \"Days since 20th case\": 8}, {\"date\": \"2020-03-12T00:00:00\", \"maille_nom\": \"Nouvelle-Aquitaine\", \"deces\": null, \"cas_confirmes\": 88.0, \"reanimation\": null, \"Days since 20th case\": 4}, {\"date\": \"2020-03-12T00:00:00\", \"maille_nom\": \"Occitanie\", \"deces\": null, \"cas_confirmes\": 150.0, \"reanimation\": 11.0, \"Days since 20th case\": 5}, {\"date\": \"2020-03-12T00:00:00\", \"maille_nom\": \"Auvergne-Rh\\u00f4ne-Alpes\", \"deces\": 7.0, \"cas_confirmes\": 333.0, \"reanimation\": null, \"Days since 20th case\": 10}, {\"date\": \"2020-03-12T00:00:00\", \"maille_nom\": \"Provence-Alpes-C\\u00f4te d\\u2019Azur\", \"deces\": 0.0, \"cas_confirmes\": 151.0, \"reanimation\": 7.0, \"Days since 20th case\": 7}, {\"date\": \"2020-03-12T00:00:00\", \"maille_nom\": \"Corse\", \"deces\": 3.0, \"cas_confirmes\": 64.0, \"reanimation\": 2.0, \"Days since 20th case\": 3}, {\"date\": \"2020-03-13T00:00:00\", \"maille_nom\": \"Ile-de-France\", \"deces\": null, \"cas_confirmes\": 876.0, \"reanimation\": null, \"Days since 20th case\": 8}, {\"date\": \"2020-03-13T00:00:00\", \"maille_nom\": \"Centre-Val de Loire\", \"deces\": null, \"cas_confirmes\": 33.0, \"reanimation\": null, \"Days since 20th case\": 2}, {\"date\": \"2020-03-13T00:00:00\", \"maille_nom\": \"Bourgogne-Franche-Comt\\u00e9\", \"deces\": 5.0, \"cas_confirmes\": 272.0, \"reanimation\": 15.0, \"Days since 20th case\": 8}, {\"date\": \"2020-03-13T00:00:00\", \"maille_nom\": \"Normandie\", \"deces\": 1.0, \"cas_confirmes\": 97.0, \"reanimation\": null, \"Days since 20th case\": 5}, {\"date\": \"2020-03-13T00:00:00\", \"maille_nom\": \"Hauts-de-France\", \"deces\": 26.0, \"cas_confirmes\": 368.0, \"reanimation\": null, \"Days since 20th case\": 4}, {\"date\": \"2020-03-13T00:00:00\", \"maille_nom\": \"Grand-Est\", \"deces\": 21.0, \"cas_confirmes\": 910.0, \"reanimation\": null, \"Days since 20th case\": 9}, {\"date\": \"2020-03-13T00:00:00\", \"maille_nom\": \"Pays de la Loire\", \"deces\": null, \"cas_confirmes\": 56.0, \"reanimation\": null, \"Days since 20th case\": 5}, {\"date\": \"2020-03-13T00:00:00\", \"maille_nom\": \"Bretagne\", \"deces\": 3.0, \"cas_confirmes\": 157.0, \"reanimation\": null, \"Days since 20th case\": 9}, {\"date\": \"2020-03-13T00:00:00\", \"maille_nom\": \"Nouvelle-Aquitaine\", \"deces\": null, \"cas_confirmes\": 115.0, \"reanimation\": null, \"Days since 20th case\": 5}, {\"date\": \"2020-03-13T00:00:00\", \"maille_nom\": \"Occitanie\", \"deces\": null, \"cas_confirmes\": 175.0, \"reanimation\": 17.0, \"Days since 20th case\": 6}, {\"date\": \"2020-03-13T00:00:00\", \"maille_nom\": \"Provence-Alpes-C\\u00f4te d\\u2019Azur\", \"deces\": 0.0, \"cas_confirmes\": 211.0, \"reanimation\": 11.0, \"Days since 20th case\": 8}, {\"date\": \"2020-03-13T00:00:00\", \"maille_nom\": \"Corse\", \"deces\": 5.0, \"cas_confirmes\": 85.0, \"reanimation\": 2.0, \"Days since 20th case\": 4}, {\"date\": \"2020-03-14T00:00:00\", \"maille_nom\": \"Mayotte\", \"deces\": null, \"cas_confirmes\": 1.0, \"reanimation\": null, \"Days since 20th case\": 0}, {\"date\": \"2020-03-14T00:00:00\", \"maille_nom\": \"Ile-de-France\", \"deces\": null, \"cas_confirmes\": 1240.0, \"reanimation\": 155.0, \"Days since 20th case\": 9}, {\"date\": \"2020-03-14T00:00:00\", \"maille_nom\": \"Centre-Val de Loire\", \"deces\": null, \"cas_confirmes\": 54.0, \"reanimation\": null, \"Days since 20th case\": 3}, {\"date\": \"2020-03-14T00:00:00\", \"maille_nom\": \"Bourgogne-Franche-Comt\\u00e9\", \"deces\": 6.0, \"cas_confirmes\": 340.0, \"reanimation\": 20.0, \"Days since 20th case\": 9}, {\"date\": \"2020-03-14T00:00:00\", \"maille_nom\": \"Normandie\", \"deces\": 1.0, \"cas_confirmes\": 127.0, \"reanimation\": null, \"Days since 20th case\": 6}, {\"date\": \"2020-03-14T00:00:00\", \"maille_nom\": \"Hauts-de-France\", \"deces\": 29.0, \"cas_confirmes\": 463.0, \"reanimation\": null, \"Days since 20th case\": 5}, {\"date\": \"2020-03-14T00:00:00\", \"maille_nom\": \"Grand-Est\", \"deces\": 24.0, \"cas_confirmes\": 1085.0, \"reanimation\": null, \"Days since 20th case\": 10}, {\"date\": \"2020-03-14T00:00:00\", \"maille_nom\": \"Pays de la Loire\", \"deces\": null, \"cas_confirmes\": 82.0, \"reanimation\": null, \"Days since 20th case\": 6}, {\"date\": \"2020-03-14T00:00:00\", \"maille_nom\": \"Bretagne\", \"deces\": 3.0, \"cas_confirmes\": 178.0, \"reanimation\": null, \"Days since 20th case\": 10}, {\"date\": \"2020-03-14T00:00:00\", \"maille_nom\": \"Nouvelle-Aquitaine\", \"deces\": null, \"cas_confirmes\": 133.0, \"reanimation\": null, \"Days since 20th case\": 6}, {\"date\": \"2020-03-14T00:00:00\", \"maille_nom\": \"Occitanie\", \"deces\": null, \"cas_confirmes\": 210.0, \"reanimation\": 17.0, \"Days since 20th case\": 7}, {\"date\": \"2020-03-14T00:00:00\", \"maille_nom\": \"Auvergne-Rh\\u00f4ne-Alpes\", \"deces\": 12.0, \"cas_confirmes\": 449.0, \"reanimation\": null, \"Days since 20th case\": 12}, {\"date\": \"2020-03-14T00:00:00\", \"maille_nom\": \"Corse\", \"deces\": 5.0, \"cas_confirmes\": 106.0, \"reanimation\": 2.0, \"Days since 20th case\": 5}, {\"date\": \"2020-03-15T00:00:00\", \"maille_nom\": \"Bourgogne-Franche-Comt\\u00e9\", \"deces\": 6.0, \"cas_confirmes\": 412.0, \"reanimation\": 25.0, \"Days since 20th case\": 10}, {\"date\": \"2020-03-15T00:00:00\", \"maille_nom\": \"Normandie\", \"deces\": 1.0, \"cas_confirmes\": 143.0, \"reanimation\": null, \"Days since 20th case\": 7}, {\"date\": \"2020-03-15T00:00:00\", \"maille_nom\": \"Grand-Est\", \"deces\": 45.0, \"cas_confirmes\": 1378.0, \"reanimation\": null, \"Days since 20th case\": 11}, {\"date\": \"2020-03-15T00:00:00\", \"maille_nom\": \"Pays de la Loire\", \"deces\": null, \"cas_confirmes\": 99.0, \"reanimation\": null, \"Days since 20th case\": 7}, {\"date\": \"2020-03-15T00:00:00\", \"maille_nom\": \"Bretagne\", \"deces\": 3.0, \"cas_confirmes\": 195.0, \"reanimation\": null, \"Days since 20th case\": 11}, {\"date\": \"2020-03-15T00:00:00\", \"maille_nom\": \"Nouvelle-Aquitaine\", \"deces\": 2.0, \"cas_confirmes\": 152.0, \"reanimation\": null, \"Days since 20th case\": 7}, {\"date\": \"2020-03-15T00:00:00\", \"maille_nom\": \"Occitanie\", \"deces\": 1.0, \"cas_confirmes\": 254.0, \"reanimation\": 23.0, \"Days since 20th case\": 8}, {\"date\": \"2020-03-15T00:00:00\", \"maille_nom\": \"Auvergne-Rh\\u00f4ne-Alpes\", \"deces\": 18.0, \"cas_confirmes\": 523.0, \"reanimation\": null, \"Days since 20th case\": 13}, {\"date\": \"2020-03-15T00:00:00\", \"maille_nom\": \"Corse\", \"deces\": 5.0, \"cas_confirmes\": 115.0, \"reanimation\": 2.0, \"Days since 20th case\": 6}, {\"date\": \"2020-03-16T00:00:00\", \"maille_nom\": \"Centre-Val de Loire\", \"deces\": null, \"cas_confirmes\": 90.0, \"reanimation\": null, \"Days since 20th case\": 5}, {\"date\": \"2020-03-16T00:00:00\", \"maille_nom\": \"Bourgogne-Franche-Comt\\u00e9\", \"deces\": 6.0, \"cas_confirmes\": 507.0, \"reanimation\": 28.0, \"Days since 20th case\": 11}, {\"date\": \"2020-03-16T00:00:00\", \"maille_nom\": \"Hauts-de-France\", \"deces\": 39.0, \"cas_confirmes\": 587.0, \"reanimation\": null, \"Days since 20th case\": 7}, {\"date\": \"2020-03-16T00:00:00\", \"maille_nom\": \"Grand-Est\", \"deces\": 51.0, \"cas_confirmes\": 1543.0, \"reanimation\": null, \"Days since 20th case\": 12}, {\"date\": \"2020-03-16T00:00:00\", \"maille_nom\": \"Pays de la Loire\", \"deces\": 0.0, \"cas_confirmes\": 109.0, \"reanimation\": null, \"Days since 20th case\": 8}, {\"date\": \"2020-03-16T00:00:00\", \"maille_nom\": \"Bretagne\", \"deces\": 3.0, \"cas_confirmes\": 213.0, \"reanimation\": null, \"Days since 20th case\": 12}, {\"date\": \"2020-03-16T00:00:00\", \"maille_nom\": \"Nouvelle-Aquitaine\", \"deces\": 2.0, \"cas_confirmes\": 179.0, \"reanimation\": null, \"Days since 20th case\": 8}, {\"date\": \"2020-03-16T00:00:00\", \"maille_nom\": \"Occitanie\", \"deces\": 3.0, \"cas_confirmes\": 284.0, \"reanimation\": 23.0, \"Days since 20th case\": 9}, {\"date\": \"2020-03-16T00:00:00\", \"maille_nom\": \"Auvergne-Rh\\u00f4ne-Alpes\", \"deces\": 20.0, \"cas_confirmes\": 617.0, \"reanimation\": null, \"Days since 20th case\": 14}, {\"date\": \"2020-03-16T00:00:00\", \"maille_nom\": \"Corse\", \"deces\": 7.0, \"cas_confirmes\": 126.0, \"reanimation\": 2.0, \"Days since 20th case\": 7}, {\"date\": \"2020-03-17T00:00:00\", \"maille_nom\": \"Guadeloupe\", \"deces\": null, \"cas_confirmes\": 27.0, \"reanimation\": 2.0, \"Days since 20th case\": 0}, {\"date\": \"2020-03-17T00:00:00\", \"maille_nom\": \"Mayotte\", \"deces\": null, \"cas_confirmes\": 3.0, \"reanimation\": null, \"Days since 20th case\": 3}, {\"date\": \"2020-03-17T00:00:00\", \"maille_nom\": \"Centre-Val de Loire\", \"deces\": 1.0, \"cas_confirmes\": 103.0, \"reanimation\": null, \"Days since 20th case\": 6}, {\"date\": \"2020-03-17T00:00:00\", \"maille_nom\": \"Bourgogne-Franche-Comt\\u00e9\", \"deces\": 10.0, \"cas_confirmes\": null, \"reanimation\": 31.0, \"Days since 20th case\": 12}, {\"date\": \"2020-03-17T00:00:00\", \"maille_nom\": \"Hauts-de-France\", \"deces\": 46.0, \"cas_confirmes\": 613.0, \"reanimation\": null, \"Days since 20th case\": 8}, {\"date\": \"2020-03-17T00:00:00\", \"maille_nom\": \"Grand-Est\", \"deces\": 61.0, \"cas_confirmes\": 1820.0, \"reanimation\": null, \"Days since 20th case\": 13}, {\"date\": \"2020-03-17T00:00:00\", \"maille_nom\": \"Pays de la Loire\", \"deces\": 1.0, \"cas_confirmes\": null, \"reanimation\": 13.0, \"Days since 20th case\": 9}, {\"date\": \"2020-03-17T00:00:00\", \"maille_nom\": \"Bretagne\", \"deces\": 3.0, \"cas_confirmes\": 236.0, \"reanimation\": null, \"Days since 20th case\": 13}, {\"date\": \"2020-03-17T00:00:00\", \"maille_nom\": \"Nouvelle-Aquitaine\", \"deces\": 2.0, \"cas_confirmes\": 207.0, \"reanimation\": null, \"Days since 20th case\": 9}, {\"date\": \"2020-03-17T00:00:00\", \"maille_nom\": \"Occitanie\", \"deces\": 5.0, \"cas_confirmes\": 313.0, \"reanimation\": 32.0, \"Days since 20th case\": 10}, {\"date\": \"2020-03-17T00:00:00\", \"maille_nom\": \"Auvergne-Rh\\u00f4ne-Alpes\", \"deces\": 24.0, \"cas_confirmes\": 706.0, \"reanimation\": null, \"Days since 20th case\": 15}, {\"date\": \"2020-03-17T00:00:00\", \"maille_nom\": \"Provence-Alpes-C\\u00f4te d\\u2019Azur\", \"deces\": 4.0, \"cas_confirmes\": 481.0, \"reanimation\": 22.0, \"Days since 20th case\": 12}, {\"date\": \"2020-03-17T00:00:00\", \"maille_nom\": \"Corse\", \"deces\": null, \"cas_confirmes\": 145.0, \"reanimation\": null, \"Days since 20th case\": 8}, {\"date\": \"2020-03-18T00:00:00\", \"maille_nom\": \"Mayotte\", \"deces\": null, \"cas_confirmes\": 3.0, \"reanimation\": null, \"Days since 20th case\": 4}, {\"date\": \"2020-03-18T00:00:00\", \"maille_nom\": \"Centre-Val de Loire\", \"deces\": 1.0, \"cas_confirmes\": 128.0, \"reanimation\": null, \"Days since 20th case\": 7}, {\"date\": \"2020-03-18T00:00:00\", \"maille_nom\": \"Bourgogne-Franche-Comt\\u00e9\", \"deces\": 20.0, \"cas_confirmes\": null, \"reanimation\": 43.0, \"Days since 20th case\": 13}, {\"date\": \"2020-03-18T00:00:00\", \"maille_nom\": \"Normandie\", \"deces\": 3.0, \"cas_confirmes\": 208.0, \"reanimation\": null, \"Days since 20th case\": 10}, {\"date\": \"2020-03-18T00:00:00\", \"maille_nom\": \"Hauts-de-France\", \"deces\": 55.0, \"cas_confirmes\": 668.0, \"reanimation\": null, \"Days since 20th case\": 9}, {\"date\": \"2020-03-18T00:00:00\", \"maille_nom\": \"Pays de la Loire\", \"deces\": null, \"cas_confirmes\": null, \"reanimation\": 13.0, \"Days since 20th case\": 10}, {\"date\": \"2020-03-18T00:00:00\", \"maille_nom\": \"Bretagne\", \"deces\": 7.0, \"cas_confirmes\": 252.0, \"reanimation\": 25.0, \"Days since 20th case\": 14}, {\"date\": \"2020-03-18T00:00:00\", \"maille_nom\": \"Nouvelle-Aquitaine\", \"deces\": 2.0, \"cas_confirmes\": 242.0, \"reanimation\": null, \"Days since 20th case\": 10}, {\"date\": \"2020-03-18T00:00:00\", \"maille_nom\": \"Occitanie\", \"deces\": 10.0, \"cas_confirmes\": 389.0, \"reanimation\": 37.0, \"Days since 20th case\": 11}, {\"date\": \"2020-03-18T00:00:00\", \"maille_nom\": \"Auvergne-Rh\\u00f4ne-Alpes\", \"deces\": 27.0, \"cas_confirmes\": 858.0, \"reanimation\": null, \"Days since 20th case\": 16}, {\"date\": \"2020-03-18T00:00:00\", \"maille_nom\": \"Provence-Alpes-C\\u00f4te d\\u2019Azur\", \"deces\": 7.0, \"cas_confirmes\": 566.0, \"reanimation\": 33.0, \"Days since 20th case\": 13}, {\"date\": \"2020-03-18T00:00:00\", \"maille_nom\": \"Corse\", \"deces\": null, \"cas_confirmes\": 152.0, \"reanimation\": null, \"Days since 20th case\": 9}, {\"date\": \"2020-03-19T00:00:00\", \"maille_nom\": \"Guadeloupe\", \"deces\": null, \"cas_confirmes\": 45.0, \"reanimation\": 3.0, \"Days since 20th case\": 2}, {\"date\": \"2020-03-19T00:00:00\", \"maille_nom\": \"Martinique\", \"deces\": null, \"cas_confirmes\": 32.0, \"reanimation\": 7.0, \"Days since 20th case\": 0}, {\"date\": \"2020-03-19T00:00:00\", \"maille_nom\": \"Martinique\", \"deces\": null, \"cas_confirmes\": 35.0, \"reanimation\": 7.0, \"Days since 20th case\": 0}, {\"date\": \"2020-03-19T00:00:00\", \"maille_nom\": \"Mayotte\", \"deces\": null, \"cas_confirmes\": 4.0, \"reanimation\": null, \"Days since 20th case\": 5}, {\"date\": \"2020-03-19T00:00:00\", \"maille_nom\": \"Centre-Val de Loire\", \"deces\": 1.0, \"cas_confirmes\": 157.0, \"reanimation\": null, \"Days since 20th case\": 8}, {\"date\": \"2020-03-19T00:00:00\", \"maille_nom\": \"Bourgogne-Franche-Comt\\u00e9\", \"deces\": 23.0, \"cas_confirmes\": null, \"reanimation\": 60.0, \"Days since 20th case\": 14}, {\"date\": \"2020-03-19T00:00:00\", \"maille_nom\": \"Normandie\", \"deces\": 5.0, \"cas_confirmes\": 241.0, \"reanimation\": null, \"Days since 20th case\": 11}, {\"date\": \"2020-03-19T00:00:00\", \"maille_nom\": \"Hauts-de-France\", \"deces\": 69.0, \"cas_confirmes\": 719.0, \"reanimation\": null, \"Days since 20th case\": 10}, {\"date\": \"2020-03-19T00:00:00\", \"maille_nom\": \"Grand-Est\", \"deces\": 93.0, \"cas_confirmes\": null, \"reanimation\": 300.0, \"Days since 20th case\": 15}, {\"date\": \"2020-03-19T00:00:00\", \"maille_nom\": \"Pays de la Loire\", \"deces\": 3.0, \"cas_confirmes\": null, \"reanimation\": 23.0, \"Days since 20th case\": 11}, {\"date\": \"2020-03-19T00:00:00\", \"maille_nom\": \"Bretagne\", \"deces\": 10.0, \"cas_confirmes\": 268.0, \"reanimation\": 26.0, \"Days since 20th case\": 15}, {\"date\": \"2020-03-19T00:00:00\", \"maille_nom\": \"Nouvelle-Aquitaine\", \"deces\": 3.0, \"cas_confirmes\": 305.0, \"reanimation\": null, \"Days since 20th case\": 11}, {\"date\": \"2020-03-19T00:00:00\", \"maille_nom\": \"Occitanie\", \"deces\": 17.0, \"cas_confirmes\": 472.0, \"reanimation\": 62.0, \"Days since 20th case\": 12}, {\"date\": \"2020-03-19T00:00:00\", \"maille_nom\": \"Auvergne-Rh\\u00f4ne-Alpes\", \"deces\": 39.0, \"cas_confirmes\": 1014.0, \"reanimation\": null, \"Days since 20th case\": 17}, {\"date\": \"2020-03-19T00:00:00\", \"maille_nom\": \"Provence-Alpes-C\\u00f4te d\\u2019Azur\", \"deces\": 9.0, \"cas_confirmes\": 690.0, \"reanimation\": 44.0, \"Days since 20th case\": 14}, {\"date\": \"2020-03-19T00:00:00\", \"maille_nom\": \"Corse\", \"deces\": null, \"cas_confirmes\": 164.0, \"reanimation\": null, \"Days since 20th case\": 10}, {\"date\": \"2020-03-20T00:00:00\", \"maille_nom\": \"Guadeloupe\", \"deces\": 1.0, \"cas_confirmes\": 51.0, \"reanimation\": 4.0, \"Days since 20th case\": 3}, {\"date\": \"2020-03-20T00:00:00\", \"maille_nom\": \"Mayotte\", \"deces\": null, \"cas_confirmes\": 6.0, \"reanimation\": 1.0, \"Days since 20th case\": 6}, {\"date\": \"2020-03-20T00:00:00\", \"maille_nom\": \"Centre-Val de Loire\", \"deces\": 1.0, \"cas_confirmes\": 219.0, \"reanimation\": 10.0, \"Days since 20th case\": 9}, {\"date\": \"2020-03-20T00:00:00\", \"maille_nom\": \"Bourgogne-Franche-Comt\\u00e9\", \"deces\": 28.0, \"cas_confirmes\": null, \"reanimation\": 73.0, \"Days since 20th case\": 15}, {\"date\": \"2020-03-20T00:00:00\", \"maille_nom\": \"Normandie\", \"deces\": 7.0, \"cas_confirmes\": 287.0, \"reanimation\": null, \"Days since 20th case\": 12}, {\"date\": \"2020-03-20T00:00:00\", \"maille_nom\": \"Hauts-de-France\", \"deces\": 81.0, \"cas_confirmes\": 740.0, \"reanimation\": null, \"Days since 20th case\": 11}, {\"date\": \"2020-03-20T00:00:00\", \"maille_nom\": \"Grand-Est\", \"deces\": 105.0, \"cas_confirmes\": null, \"reanimation\": 352.0, \"Days since 20th case\": 16}, {\"date\": \"2020-03-20T00:00:00\", \"maille_nom\": \"Pays de la Loire\", \"deces\": 3.0, \"cas_confirmes\": 161.0, \"reanimation\": 25.0, \"Days since 20th case\": 12}, {\"date\": \"2020-03-20T00:00:00\", \"maille_nom\": \"Bretagne\", \"deces\": 12.0, \"cas_confirmes\": 306.0, \"reanimation\": 27.0, \"Days since 20th case\": 16}, {\"date\": \"2020-03-20T00:00:00\", \"maille_nom\": \"Nouvelle-Aquitaine\", \"deces\": 3.0, \"cas_confirmes\": 406.0, \"reanimation\": null, \"Days since 20th case\": 12}, {\"date\": \"2020-03-20T00:00:00\", \"maille_nom\": \"Occitanie\", \"deces\": 23.0, \"cas_confirmes\": 520.0, \"reanimation\": 67.0, \"Days since 20th case\": 13}, {\"date\": \"2020-03-20T00:00:00\", \"maille_nom\": \"Provence-Alpes-C\\u00f4te d\\u2019Azur\", \"deces\": 11.0, \"cas_confirmes\": 755.0, \"reanimation\": 59.0, \"Days since 20th case\": 15}, {\"date\": \"2020-03-20T00:00:00\", \"maille_nom\": \"Corse\", \"deces\": null, \"cas_confirmes\": 168.0, \"reanimation\": null, \"Days since 20th case\": 11}, {\"date\": \"2020-03-21T00:00:00\", \"maille_nom\": \"Guadeloupe\", \"deces\": 0.0, \"cas_confirmes\": 56.0, \"reanimation\": 5.0, \"Days since 20th case\": 4}, {\"date\": \"2020-03-21T00:00:00\", \"maille_nom\": \"Mayotte\", \"deces\": null, \"cas_confirmes\": 9.0, \"reanimation\": 1.0, \"Days since 20th case\": 7}, {\"date\": \"2020-03-21T00:00:00\", \"maille_nom\": \"Centre-Val de Loire\", \"deces\": 2.0, \"cas_confirmes\": 254.0, \"reanimation\": 15.0, \"Days since 20th case\": 10}, {\"date\": \"2020-03-21T00:00:00\", \"maille_nom\": \"Bourgogne-Franche-Comt\\u00e9\", \"deces\": 36.0, \"cas_confirmes\": null, \"reanimation\": 79.0, \"Days since 20th case\": 16}, {\"date\": \"2020-03-21T00:00:00\", \"maille_nom\": \"Normandie\", \"deces\": 7.0, \"cas_confirmes\": 345.0, \"reanimation\": null, \"Days since 20th case\": 13}, {\"date\": \"2020-03-21T00:00:00\", \"maille_nom\": \"Hauts-de-France\", \"deces\": 91.0, \"cas_confirmes\": 856.0, \"reanimation\": null, \"Days since 20th case\": 12}, {\"date\": \"2020-03-21T00:00:00\", \"maille_nom\": \"Grand-Est\", \"deces\": 230.0, \"cas_confirmes\": null, \"reanimation\": 435.0, \"Days since 20th case\": 17}, {\"date\": \"2020-03-21T00:00:00\", \"maille_nom\": \"Bretagne\", \"deces\": 15.0, \"cas_confirmes\": 359.0, \"reanimation\": 26.0, \"Days since 20th case\": 17}, {\"date\": \"2020-03-21T00:00:00\", \"maille_nom\": \"Nouvelle-Aquitaine\", \"deces\": 7.0, \"cas_confirmes\": 501.0, \"reanimation\": null, \"Days since 20th case\": 13}, {\"date\": \"2020-03-21T00:00:00\", \"maille_nom\": \"Occitanie\", \"deces\": 27.0, \"cas_confirmes\": 611.0, \"reanimation\": 72.0, \"Days since 20th case\": 14}, {\"date\": \"2020-03-21T00:00:00\", \"maille_nom\": \"Auvergne-Rh\\u00f4ne-Alpes\", \"deces\": 57.0, \"cas_confirmes\": 1266.0, \"reanimation\": null, \"Days since 20th case\": 19}, {\"date\": \"2020-03-21T00:00:00\", \"maille_nom\": \"Provence-Alpes-C\\u00f4te d\\u2019Azur\", \"deces\": 13.0, \"cas_confirmes\": 1041.0, \"reanimation\": 75.0, \"Days since 20th case\": 16}, {\"date\": \"2020-03-22T00:00:00\", \"maille_nom\": \"Guyane\", \"deces\": 0.0, \"cas_confirmes\": 20.0, \"reanimation\": null, \"Days since 20th case\": 0}, {\"date\": \"2020-03-22T00:00:00\", \"maille_nom\": \"Mayotte\", \"deces\": null, \"cas_confirmes\": 11.0, \"reanimation\": 1.0, \"Days since 20th case\": 8}, {\"date\": \"2020-03-22T00:00:00\", \"maille_nom\": \"Centre-Val de Loire\", \"deces\": 2.0, \"cas_confirmes\": 291.0, \"reanimation\": 21.0, \"Days since 20th case\": 11}, {\"date\": \"2020-03-22T00:00:00\", \"maille_nom\": \"Bourgogne-Franche-Comt\\u00e9\", \"deces\": 51.0, \"cas_confirmes\": null, \"reanimation\": 100.0, \"Days since 20th case\": 17}, {\"date\": \"2020-03-22T00:00:00\", \"maille_nom\": \"Normandie\", \"deces\": 9.0, \"cas_confirmes\": 462.0, \"reanimation\": null, \"Days since 20th case\": 14}, {\"date\": \"2020-03-22T00:00:00\", \"maille_nom\": \"Hauts-de-France\", \"deces\": 97.0, \"cas_confirmes\": 943.0, \"reanimation\": null, \"Days since 20th case\": 13}, {\"date\": \"2020-03-22T00:00:00\", \"maille_nom\": \"Bretagne\", \"deces\": 17.0, \"cas_confirmes\": 446.0, \"reanimation\": 32.0, \"Days since 20th case\": 18}, {\"date\": \"2020-03-22T00:00:00\", \"maille_nom\": \"Nouvelle-Aquitaine\", \"deces\": 8.0, \"cas_confirmes\": 593.0, \"reanimation\": null, \"Days since 20th case\": 14}, {\"date\": \"2020-03-22T00:00:00\", \"maille_nom\": \"Auvergne-Rh\\u00f4ne-Alpes\", \"deces\": 72.0, \"cas_confirmes\": 1431.0, \"reanimation\": null, \"Days since 20th case\": 20}, {\"date\": \"2020-03-22T00:00:00\", \"maille_nom\": \"Provence-Alpes-C\\u00f4te d\\u2019Azur\", \"deces\": 15.0, \"cas_confirmes\": 1316.0, \"reanimation\": 85.0, \"Days since 20th case\": 17}, {\"date\": \"2020-03-23T00:00:00\", \"maille_nom\": \"Hauts-de-France\", \"deces\": 108.0, \"cas_confirmes\": 1287.0, \"reanimation\": null, \"Days since 20th case\": 14}, {\"date\": \"2020-03-23T00:00:00\", \"maille_nom\": \"Pays de la Loire\", \"deces\": 10.0, \"cas_confirmes\": 293.0, \"reanimation\": 51.0, \"Days since 20th case\": 15}]}}, {\"mode\": \"vega-lite\"});\n",
       "</script>"
      ],
      "text/plain": [
       "alt.LayerChart(...)"
      ]
     },
     "execution_count": 16,
     "metadata": {},
     "output_type": "execute_result"
    }
   ],
   "source": [
    "#hide_input\n",
    "baseline_countries = ['Occitanie','Hauts-de-France','Grand-Est']\n",
    "max_date = dff3['date'].max()\n",
    "color_domain = list(dff3['maille_nom'].unique())\n",
    "color_range = list(map(get_country_colors, color_domain))\n",
    "\n",
    "chart = make_since_chart(dff3, highlight_countries=[], \n",
    "                         baseline_countries=baseline_countries, \n",
    "                         Y_to_plot='cas_confirmes', \n",
    "                         title='Trajectoires du nombre de cas')\n",
    "chart"
   ]
  }
 ],
 "metadata": {
  "kernelspec": {
   "display_name": "Python 3",
   "language": "python",
   "name": "python3"
  },
  "language_info": {
   "codemirror_mode": {
    "name": "ipython",
    "version": 3
   },
   "file_extension": ".py",
   "mimetype": "text/x-python",
   "name": "python",
   "nbconvert_exporter": "python",
   "pygments_lexer": "ipython3",
   "version": "3.7.6"
  }
 },
 "nbformat": 4,
 "nbformat_minor": 4
}
