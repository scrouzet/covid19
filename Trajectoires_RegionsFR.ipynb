{
 "cells": [
  {
   "cell_type": "markdown",
   "metadata": {},
   "source": [
    "- loglin plot with regional french data\n",
    "- compare the FR numbers from here to those of Hopkins\n",
    "- same for departement data\n",
    "- pareil pour les \"en réa\""
   ]
  },
  {
   "cell_type": "code",
   "execution_count": 92,
   "metadata": {},
   "outputs": [],
   "source": [
    "import pandas as pd\n",
    "import numpy as np\n",
    "import yaml\n",
    "import altair as alt\n",
    "import seaborn as sns\n",
    "import matplotlib.pyplot as plt"
   ]
  },
  {
   "cell_type": "code",
   "execution_count": null,
   "metadata": {},
   "outputs": [],
   "source": [
    "#!git clone https://github.com/opencovid19-fr/data.git\n",
    "%cd data\n",
    "!git pull https://github.com/opencovid19-fr/data.git"
   ]
  },
  {
   "cell_type": "code",
   "execution_count": 47,
   "metadata": {},
   "outputs": [
    {
     "name": "stdout",
     "output_type": "stream",
     "text": [
      "/home/sebastien/src/corona\n"
     ]
    }
   ],
   "source": [
    "%cd .."
   ]
  },
  {
   "cell_type": "code",
   "execution_count": 48,
   "metadata": {},
   "outputs": [],
   "source": [
    "#file = ('./data/agences-regionales-sante/'\n",
    "#       'auvergne-rhone-alpes/2020-02-27.yaml')\n",
    "#fruits_list = yaml.load(open(file), Loader=yaml.FullLoader)"
   ]
  },
  {
   "cell_type": "code",
   "execution_count": 49,
   "metadata": {},
   "outputs": [],
   "source": [
    "csv_filename = './data/dist/chiffres-cles.csv'\n",
    "df = pd.read_csv(csv_filename)"
   ]
  },
  {
   "cell_type": "code",
   "execution_count": 50,
   "metadata": {},
   "outputs": [],
   "source": [
    "df.date = pd.to_datetime(df.date, format='%Y-%m-%d')"
   ]
  },
  {
   "cell_type": "code",
   "execution_count": 70,
   "metadata": {},
   "outputs": [
    {
     "data": {
      "text/plain": [
       "Index(['date', 'granularite', 'maille_code', 'maille_nom', 'cas_confirmes',\n",
       "       'deces', 'reanimation', 'source_nom', 'source_url', 'source_type'],\n",
       "      dtype='object')"
      ]
     },
     "execution_count": 70,
     "metadata": {},
     "output_type": "execute_result"
    }
   ],
   "source": [
    "df.columns"
   ]
  },
  {
   "cell_type": "code",
   "execution_count": 71,
   "metadata": {},
   "outputs": [],
   "source": [
    "dff = df.loc[(df.granularite=='region') & (df['source_nom'].str.contains(\"ARS\")),\n",
    "            ['date', 'maille_nom', 'deces', 'cas_confirmes', 'reanimation']]"
   ]
  },
  {
   "cell_type": "code",
   "execution_count": 72,
   "metadata": {},
   "outputs": [
    {
     "data": {
      "text/html": [
       "<div>\n",
       "<style scoped>\n",
       "    .dataframe tbody tr th:only-of-type {\n",
       "        vertical-align: middle;\n",
       "    }\n",
       "\n",
       "    .dataframe tbody tr th {\n",
       "        vertical-align: top;\n",
       "    }\n",
       "\n",
       "    .dataframe thead th {\n",
       "        text-align: right;\n",
       "    }\n",
       "</style>\n",
       "<table border=\"1\" class=\"dataframe\">\n",
       "  <thead>\n",
       "    <tr style=\"text-align: right;\">\n",
       "      <th></th>\n",
       "      <th>date</th>\n",
       "      <th>maille_nom</th>\n",
       "      <th>deces</th>\n",
       "      <th>cas_confirmes</th>\n",
       "      <th>reanimation</th>\n",
       "    </tr>\n",
       "  </thead>\n",
       "  <tbody>\n",
       "    <tr>\n",
       "      <th>587</th>\n",
       "      <td>2020-03-07</td>\n",
       "      <td>Occitanie</td>\n",
       "      <td>NaN</td>\n",
       "      <td>29.0</td>\n",
       "      <td>1.0</td>\n",
       "    </tr>\n",
       "    <tr>\n",
       "      <th>794</th>\n",
       "      <td>2020-03-09</td>\n",
       "      <td>Occitanie</td>\n",
       "      <td>NaN</td>\n",
       "      <td>60.0</td>\n",
       "      <td>2.0</td>\n",
       "    </tr>\n",
       "    <tr>\n",
       "      <th>1064</th>\n",
       "      <td>2020-03-11</td>\n",
       "      <td>Occitanie</td>\n",
       "      <td>NaN</td>\n",
       "      <td>118.0</td>\n",
       "      <td>8.0</td>\n",
       "    </tr>\n",
       "    <tr>\n",
       "      <th>1198</th>\n",
       "      <td>2020-03-12</td>\n",
       "      <td>Occitanie</td>\n",
       "      <td>NaN</td>\n",
       "      <td>150.0</td>\n",
       "      <td>11.0</td>\n",
       "    </tr>\n",
       "    <tr>\n",
       "      <th>1318</th>\n",
       "      <td>2020-03-13</td>\n",
       "      <td>Occitanie</td>\n",
       "      <td>NaN</td>\n",
       "      <td>175.0</td>\n",
       "      <td>17.0</td>\n",
       "    </tr>\n",
       "    <tr>\n",
       "      <th>1442</th>\n",
       "      <td>2020-03-14</td>\n",
       "      <td>Occitanie</td>\n",
       "      <td>NaN</td>\n",
       "      <td>210.0</td>\n",
       "      <td>17.0</td>\n",
       "    </tr>\n",
       "    <tr>\n",
       "      <th>1554</th>\n",
       "      <td>2020-03-15</td>\n",
       "      <td>Occitanie</td>\n",
       "      <td>1.0</td>\n",
       "      <td>254.0</td>\n",
       "      <td>23.0</td>\n",
       "    </tr>\n",
       "    <tr>\n",
       "      <th>1665</th>\n",
       "      <td>2020-03-16</td>\n",
       "      <td>Occitanie</td>\n",
       "      <td>3.0</td>\n",
       "      <td>284.0</td>\n",
       "      <td>23.0</td>\n",
       "    </tr>\n",
       "    <tr>\n",
       "      <th>1775</th>\n",
       "      <td>2020-03-17</td>\n",
       "      <td>Occitanie</td>\n",
       "      <td>5.0</td>\n",
       "      <td>313.0</td>\n",
       "      <td>32.0</td>\n",
       "    </tr>\n",
       "    <tr>\n",
       "      <th>1877</th>\n",
       "      <td>2020-03-18</td>\n",
       "      <td>Occitanie</td>\n",
       "      <td>10.0</td>\n",
       "      <td>389.0</td>\n",
       "      <td>37.0</td>\n",
       "    </tr>\n",
       "    <tr>\n",
       "      <th>1974</th>\n",
       "      <td>2020-03-19</td>\n",
       "      <td>Occitanie</td>\n",
       "      <td>17.0</td>\n",
       "      <td>472.0</td>\n",
       "      <td>62.0</td>\n",
       "    </tr>\n",
       "  </tbody>\n",
       "</table>\n",
       "</div>"
      ],
      "text/plain": [
       "           date maille_nom  deces  cas_confirmes  reanimation\n",
       "587  2020-03-07  Occitanie    NaN           29.0          1.0\n",
       "794  2020-03-09  Occitanie    NaN           60.0          2.0\n",
       "1064 2020-03-11  Occitanie    NaN          118.0          8.0\n",
       "1198 2020-03-12  Occitanie    NaN          150.0         11.0\n",
       "1318 2020-03-13  Occitanie    NaN          175.0         17.0\n",
       "1442 2020-03-14  Occitanie    NaN          210.0         17.0\n",
       "1554 2020-03-15  Occitanie    1.0          254.0         23.0\n",
       "1665 2020-03-16  Occitanie    3.0          284.0         23.0\n",
       "1775 2020-03-17  Occitanie    5.0          313.0         32.0\n",
       "1877 2020-03-18  Occitanie   10.0          389.0         37.0\n",
       "1974 2020-03-19  Occitanie   17.0          472.0         62.0"
      ]
     },
     "execution_count": 72,
     "metadata": {},
     "output_type": "execute_result"
    }
   ],
   "source": [
    "dff[dff['maille_nom']=='Occitanie']"
   ]
  },
  {
   "cell_type": "code",
   "execution_count": 73,
   "metadata": {},
   "outputs": [],
   "source": [
    "#dff = dff.dropna() \n",
    "myregions = np.unique(dff.maille_nom)\n",
    "dt_cols = np.unique(dff.date)"
   ]
  },
  {
   "cell_type": "code",
   "execution_count": 74,
   "metadata": {},
   "outputs": [
    {
     "data": {
      "text/plain": [
       "Timestamp('2020-03-19 00:00:00')"
      ]
     },
     "execution_count": 74,
     "metadata": {},
     "output_type": "execute_result"
    }
   ],
   "source": [
    "LAST_DATE = dff.date.max()\n",
    "LAST_DATE"
   ]
  },
  {
   "cell_type": "code",
   "execution_count": 75,
   "metadata": {},
   "outputs": [],
   "source": [
    "#countries = dff[dff['date'].eq(LAST_DATE) & dff['Confirmed Cases'].ge(MIN_CASES) & dff['Country'].ne('China')].sort_values(by='Confirmed Cases', ascending=False)\n",
    "#countries = countries['Country'].values"
   ]
  },
  {
   "cell_type": "code",
   "execution_count": 77,
   "metadata": {},
   "outputs": [],
   "source": [
    "#hide\n",
    "MIN_CONFIRMES = 10\n",
    "LAST_DATE = dt_cols[-1]\n",
    "\n",
    "#myregion = dff[dff['date'].eq(LAST_DATE) & dff['deces'].ge(MIN_CASES)\n",
    "#       ].sort_values(by='deces', ascending=False)\n",
    "myregion = dff[dff['cas_confirmes'].ge(MIN_CONFIRMES)\n",
    "       ].sort_values(by='cas_confirmes', ascending=False)\n",
    "myregion = myregion['maille_nom'].values"
   ]
  },
  {
   "cell_type": "code",
   "execution_count": 80,
   "metadata": {},
   "outputs": [
    {
     "data": {
      "text/plain": [
       "array(['Auvergne Rhône-Alpes', 'Bourgogne-Franche-Comté', 'Bretagne',\n",
       "       'Centre Val de Loire', 'Corse', 'Grand Est', 'Grand-Est',\n",
       "       'Guadeloupe', 'Guyane', 'Hauts-de-France', 'Ile-de-France',\n",
       "       'Martinique', 'Normandie', 'Nouvelle-Aquitaine', 'Occitanie',\n",
       "       'Pays de la Loire', 'Provence-Alpes-Côte d’Azur'], dtype=object)"
      ]
     },
     "execution_count": 80,
     "metadata": {},
     "output_type": "execute_result"
    }
   ],
   "source": [
    "myregion = np.unique(myregion)\n",
    "myregion"
   ]
  },
  {
   "cell_type": "code",
   "execution_count": 81,
   "metadata": {},
   "outputs": [],
   "source": [
    "#hide\n",
    "def get_country_colors(x):\n",
    "    mapping = {\n",
    "        'Italy': 'black',\n",
    "        'Iran': '#A1BA59',\n",
    "        'South Korea': '#A1BA59', #'#E45756',\n",
    "        'Spain': '#E45756', #'#F58518',\n",
    "        'Germany': '#9D755D',\n",
    "        'France': '#2495D3', #'#F58518',\n",
    "        'US': '#2495D3',\n",
    "        'Switzerland': '#9D755D',\n",
    "        'Norway': '#C1B7AD',\n",
    "        'United Kingdom': '#C1B7AD', #'#2495D3',\n",
    "        'Netherlands': '#F58518', #'#C1B7AD',\n",
    "        'Sweden': '#C1B7AD',\n",
    "        'Belgium': '#C1B7AD',\n",
    "        'Denmark': '#C1B7AD',\n",
    "        'Austria': '#C1B7AD',\n",
    "        'Japan': '#9467bd'}\n",
    "    return mapping.get(x, '#C1B7AD')"
   ]
  },
  {
   "cell_type": "code",
   "execution_count": 82,
   "metadata": {},
   "outputs": [],
   "source": [
    "import random\n",
    "get_colors = lambda n: list(map(lambda i: \"#\" + \"%06x\" % random.randint(0, 0xFFFFFF),range(n)))\n",
    "color_range = get_colors(15) # sample return:  ['#8af5da', '#fbc08c', '#b741d0', '#e599f1', '#bbcb59', '#a2a6c0']"
   ]
  },
  {
   "cell_type": "markdown",
   "metadata": {},
   "source": [
    "# Décès"
   ]
  },
  {
   "cell_type": "code",
   "execution_count": 83,
   "metadata": {},
   "outputs": [],
   "source": [
    "#hide\n",
    "SINCE_CASES_NUM = 2\n",
    "COL_X = f'Days since {SINCE_CASES_NUM}th death'\n",
    "dff2 = dff[dff['maille_nom'].isin(myregions)].copy()\n",
    "days_since = (dff2.assign(F=dff2['deces'].ge(SINCE_CASES_NUM))\n",
    "              .set_index('date')\n",
    "              .groupby('maille_nom')['F'].transform('idxmax'))\n",
    "dff2[COL_X] = (dff2['date'] - days_since.values).dt.days.values\n",
    "dff2 = dff2[dff2[COL_X].ge(0)]"
   ]
  },
  {
   "cell_type": "code",
   "execution_count": 87,
   "metadata": {},
   "outputs": [
    {
     "data": {
      "text/html": [
       "<div>\n",
       "<style scoped>\n",
       "    .dataframe tbody tr th:only-of-type {\n",
       "        vertical-align: middle;\n",
       "    }\n",
       "\n",
       "    .dataframe tbody tr th {\n",
       "        vertical-align: top;\n",
       "    }\n",
       "\n",
       "    .dataframe thead th {\n",
       "        text-align: right;\n",
       "    }\n",
       "</style>\n",
       "<table border=\"1\" class=\"dataframe\">\n",
       "  <thead>\n",
       "    <tr style=\"text-align: right;\">\n",
       "      <th></th>\n",
       "      <th>date</th>\n",
       "      <th>maille_nom</th>\n",
       "      <th>deces</th>\n",
       "      <th>cas_confirmes</th>\n",
       "      <th>reanimation</th>\n",
       "      <th>Days since 2th death</th>\n",
       "    </tr>\n",
       "  </thead>\n",
       "  <tbody>\n",
       "    <tr>\n",
       "      <th>791</th>\n",
       "      <td>2020-03-09</td>\n",
       "      <td>Grand-Est</td>\n",
       "      <td>4.0</td>\n",
       "      <td>310.0</td>\n",
       "      <td>NaN</td>\n",
       "      <td>0</td>\n",
       "    </tr>\n",
       "    <tr>\n",
       "      <th>917</th>\n",
       "      <td>2020-03-10</td>\n",
       "      <td>Grand-Est</td>\n",
       "      <td>5.0</td>\n",
       "      <td>464.0</td>\n",
       "      <td>NaN</td>\n",
       "      <td>1</td>\n",
       "    </tr>\n",
       "    <tr>\n",
       "      <th>1057</th>\n",
       "      <td>2020-03-11</td>\n",
       "      <td>Grand-Est</td>\n",
       "      <td>9.0</td>\n",
       "      <td>587.0</td>\n",
       "      <td>NaN</td>\n",
       "      <td>2</td>\n",
       "    </tr>\n",
       "    <tr>\n",
       "      <th>1310</th>\n",
       "      <td>2020-03-13</td>\n",
       "      <td>Grand-Est</td>\n",
       "      <td>21.0</td>\n",
       "      <td>910.0</td>\n",
       "      <td>NaN</td>\n",
       "      <td>4</td>\n",
       "    </tr>\n",
       "    <tr>\n",
       "      <th>1434</th>\n",
       "      <td>2020-03-14</td>\n",
       "      <td>Grand-Est</td>\n",
       "      <td>24.0</td>\n",
       "      <td>1085.0</td>\n",
       "      <td>NaN</td>\n",
       "      <td>5</td>\n",
       "    </tr>\n",
       "    <tr>\n",
       "      <th>1546</th>\n",
       "      <td>2020-03-15</td>\n",
       "      <td>Grand-Est</td>\n",
       "      <td>45.0</td>\n",
       "      <td>1378.0</td>\n",
       "      <td>NaN</td>\n",
       "      <td>6</td>\n",
       "    </tr>\n",
       "    <tr>\n",
       "      <th>1657</th>\n",
       "      <td>2020-03-16</td>\n",
       "      <td>Grand-Est</td>\n",
       "      <td>51.0</td>\n",
       "      <td>1543.0</td>\n",
       "      <td>NaN</td>\n",
       "      <td>7</td>\n",
       "    </tr>\n",
       "    <tr>\n",
       "      <th>1767</th>\n",
       "      <td>2020-03-17</td>\n",
       "      <td>Grand-Est</td>\n",
       "      <td>61.0</td>\n",
       "      <td>1820.0</td>\n",
       "      <td>NaN</td>\n",
       "      <td>8</td>\n",
       "    </tr>\n",
       "  </tbody>\n",
       "</table>\n",
       "</div>"
      ],
      "text/plain": [
       "           date maille_nom  deces  cas_confirmes  reanimation  \\\n",
       "791  2020-03-09  Grand-Est    4.0          310.0          NaN   \n",
       "917  2020-03-10  Grand-Est    5.0          464.0          NaN   \n",
       "1057 2020-03-11  Grand-Est    9.0          587.0          NaN   \n",
       "1310 2020-03-13  Grand-Est   21.0          910.0          NaN   \n",
       "1434 2020-03-14  Grand-Est   24.0         1085.0          NaN   \n",
       "1546 2020-03-15  Grand-Est   45.0         1378.0          NaN   \n",
       "1657 2020-03-16  Grand-Est   51.0         1543.0          NaN   \n",
       "1767 2020-03-17  Grand-Est   61.0         1820.0          NaN   \n",
       "\n",
       "      Days since 2th death  \n",
       "791                      0  \n",
       "917                      1  \n",
       "1057                     2  \n",
       "1310                     4  \n",
       "1434                     5  \n",
       "1546                     6  \n",
       "1657                     7  \n",
       "1767                     8  "
      ]
     },
     "execution_count": 87,
     "metadata": {},
     "output_type": "execute_result"
    }
   ],
   "source": [
    "dff2[dff2['maille_nom']=='Grand-Est']"
   ]
  },
  {
   "cell_type": "code",
   "execution_count": null,
   "metadata": {},
   "outputs": [],
   "source": [
    "#f, ax = plt.subplots(figsize=(7, 7))\n",
    "#ax.set(xscale=\"linear\", yscale=\"log\")\n",
    "#sns.lmplot(\"date\", \"deces\", dff2scatter_kws={\"maille_nom\": 100})\n",
    "#plt.plot(dff2['date'],dff2['deces'])\n",
    "\n",
    "fig, ax = plt.subplots(figsize=(8,6))\n",
    "bp = dff2.groupby('maille_nom').plot(kind='kde', ax=ax)"
   ]
  },
  {
   "cell_type": "code",
   "execution_count": 101,
   "metadata": {},
   "outputs": [],
   "source": [
    "#hide_input\n",
    "baseline_countries = ['Occitanie','Hauts-de-France','Ile-de-France']\n",
    "max_date = dff2['date'].max()\n",
    "color_domain = list(dff2['maille_nom'].unique())\n",
    "#color_range = list(map(get_country_colors, color_domain))\n",
    "\n",
    "def make_since_chart(highlight_countries=[], baseline_countries=baseline_countries):\n",
    "    selection = alt.selection_multi(fields=['maille_nom'], bind='legend', \n",
    "                                    init=[{'maille_nom': x} for x in highlight_countries + baseline_countries])\n",
    "\n",
    "    base = alt.Chart(dff2, width=550).encode(\n",
    "        x=f'{COL_X}:Q',\n",
    "        y=alt.Y('deces:Q', scale=alt.Scale(type='linear'), axis=alt.Axis(title='Cumulative Deaths')),\n",
    "        color=alt.Color('maille_nom:N', scale=alt.Scale(domain=color_domain, range=color_range)),\n",
    "        tooltip=list(dff2),\n",
    "        opacity=alt.condition(selection, alt.value(1), alt.value(0.05))\n",
    "    )\n",
    "    max_day = dff2[COL_X].max()\n",
    "    ref = pd.DataFrame([[x, SINCE_CASES_NUM*1.33**x] for x in range(max_day+1)], columns=[COL_X, 'deces'])\n",
    "    base_ref = alt.Chart(ref).encode(x=f'{COL_X}:Q', y='deces:Q')\n",
    "    return (\n",
    "        base_ref.mark_line(color='black', opacity=.5, strokeDash=[3,3]) +\n",
    "        base_ref.transform_filter(\n",
    "            alt.datum[COL_X] >= max_day\n",
    "        ).mark_text(dy=-6, align='right', fontSize=10, text='33% Daily Growth') +\n",
    "        base.mark_line(point=True).add_selection(selection) + \n",
    "        base.transform_filter(\n",
    "            alt.datum['Date'] >= int(max_date.timestamp() * 1000)\n",
    "        ).mark_text(dy=-8, align='right', fontWeight='bold').encode(text='maille_nom:N')\n",
    "    ).properties(\n",
    "        #title=f\"Compare {', '.join(highlight_countries)} death trajectory with {', '.join(baseline_countries)}\"\n",
    "        title=f\"Compare countries death trajectories\"\n",
    "    )"
   ]
  },
  {
   "cell_type": "code",
   "execution_count": 102,
   "metadata": {},
   "outputs": [
    {
     "data": {
      "text/html": [
       "\n",
       "<div id=\"altair-viz-a093c32842414b939c6a235656cb2cd1\"></div>\n",
       "<script type=\"text/javascript\">\n",
       "  (function(spec, embedOpt){\n",
       "    const outputDiv = document.getElementById(\"altair-viz-a093c32842414b939c6a235656cb2cd1\");\n",
       "    const paths = {\n",
       "      \"vega\": \"https://cdn.jsdelivr.net/npm//vega@5?noext\",\n",
       "      \"vega-lib\": \"https://cdn.jsdelivr.net/npm//vega-lib?noext\",\n",
       "      \"vega-lite\": \"https://cdn.jsdelivr.net/npm//vega-lite@4.0.2?noext\",\n",
       "      \"vega-embed\": \"https://cdn.jsdelivr.net/npm//vega-embed@6?noext\",\n",
       "    };\n",
       "\n",
       "    function loadScript(lib) {\n",
       "      return new Promise(function(resolve, reject) {\n",
       "        var s = document.createElement('script');\n",
       "        s.src = paths[lib];\n",
       "        s.async = true;\n",
       "        s.onload = () => resolve(paths[lib]);\n",
       "        s.onerror = () => reject(`Error loading script: ${paths[lib]}`);\n",
       "        document.getElementsByTagName(\"head\")[0].appendChild(s);\n",
       "      });\n",
       "    }\n",
       "\n",
       "    function showError(err) {\n",
       "      outputDiv.innerHTML = `<div class=\"error\" style=\"color:red;\">${err}</div>`;\n",
       "      throw err;\n",
       "    }\n",
       "\n",
       "    function displayChart(vegaEmbed) {\n",
       "      vegaEmbed(outputDiv, spec, embedOpt)\n",
       "        .catch(err => showError(`Javascript Error: ${err.message}<br>This usually means there's a typo in your chart specification. See the javascript console for the full traceback.`));\n",
       "    }\n",
       "\n",
       "    if(typeof define === \"function\" && define.amd) {\n",
       "      requirejs.config({paths});\n",
       "      require([\"vega-embed\"], displayChart, err => showError(`Error loading script: ${err.message}`));\n",
       "    } else if (typeof vegaEmbed === \"function\") {\n",
       "      displayChart(vegaEmbed);\n",
       "    } else {\n",
       "      loadScript(\"vega\")\n",
       "        .then(() => loadScript(\"vega-lite\"))\n",
       "        .then(() => loadScript(\"vega-embed\"))\n",
       "        .catch(showError)\n",
       "        .then(() => displayChart(vegaEmbed));\n",
       "    }\n",
       "  })({\"config\": {\"view\": {\"continuousWidth\": 400, \"continuousHeight\": 300}}, \"layer\": [{\"mark\": {\"type\": \"line\", \"color\": \"black\", \"opacity\": 0.5, \"strokeDash\": [3, 3]}, \"encoding\": {\"x\": {\"type\": \"quantitative\", \"field\": \"Days since 2th death\"}, \"y\": {\"type\": \"quantitative\", \"field\": \"deces\"}}}, {\"mark\": {\"type\": \"text\", \"align\": \"right\", \"dy\": -6, \"fontSize\": 10, \"text\": \"33% Daily Growth\"}, \"encoding\": {\"x\": {\"type\": \"quantitative\", \"field\": \"Days since 2th death\"}, \"y\": {\"type\": \"quantitative\", \"field\": \"deces\"}}, \"transform\": [{\"filter\": \"(datum['Days since 2th death'] >= 15)\"}]}, {\"data\": {\"name\": \"data-757c3e6a1335b6066cb73acadbdb3c2f\"}, \"mark\": {\"type\": \"line\", \"point\": true}, \"encoding\": {\"color\": {\"type\": \"nominal\", \"field\": \"maille_nom\", \"scale\": {\"domain\": [\"Guyane\", \"Centre Val de Loire\", \"Hauts-de-France\", \"Pays de la Loire\", \"Grand Est\", \"Grand-Est\", \"Auvergne Rh\\u00f4ne-Alpes\", \"Ile-de-France\", \"Corse\", \"Guadeloupe\", \"Bourgogne-Franche-Comt\\u00e9\", \"Bretagne\", \"Nouvelle-Aquitaine\", \"Martinique\", \"Occitanie\", \"Provence-Alpes-C\\u00f4te d\\u2019Azur\", \"Normandie\"], \"range\": [\"#de6add\", \"#5f4cc6\", \"#dcb590\", \"#e6bba7\", \"#2e0380\", \"#1f5b8a\", \"#346c03\", \"#95e734\", \"#32819f\", \"#7e9667\", \"#8914ca\", \"#4f1b7d\", \"#2fff24\", \"#c6fcb2\", \"#efd61e\"]}}, \"opacity\": {\"condition\": {\"value\": 1, \"selection\": \"selector004\"}, \"value\": 0.05}, \"tooltip\": [{\"type\": \"temporal\", \"field\": \"date\"}, {\"type\": \"nominal\", \"field\": \"maille_nom\"}, {\"type\": \"quantitative\", \"field\": \"deces\"}, {\"type\": \"quantitative\", \"field\": \"cas_confirmes\"}, {\"type\": \"quantitative\", \"field\": \"reanimation\"}, {\"type\": \"quantitative\", \"field\": \"Days since 2th death\"}], \"x\": {\"type\": \"quantitative\", \"field\": \"Days since 2th death\"}, \"y\": {\"type\": \"quantitative\", \"axis\": {\"title\": \"Cumulative Deaths\"}, \"field\": \"deces\", \"scale\": {\"type\": \"linear\"}}}, \"selection\": {\"selector004\": {\"type\": \"multi\", \"fields\": [\"maille_nom\"], \"bind\": \"legend\", \"init\": [{\"maille_nom\": \"Occitanie\"}, {\"maille_nom\": \"Hauts-de-France\"}, {\"maille_nom\": \"Ile-de-France\"}]}}, \"width\": 550}, {\"data\": {\"name\": \"data-757c3e6a1335b6066cb73acadbdb3c2f\"}, \"mark\": {\"type\": \"text\", \"align\": \"right\", \"dy\": -8, \"fontWeight\": \"bold\"}, \"encoding\": {\"color\": {\"type\": \"nominal\", \"field\": \"maille_nom\", \"scale\": {\"domain\": [\"Guyane\", \"Centre Val de Loire\", \"Hauts-de-France\", \"Pays de la Loire\", \"Grand Est\", \"Grand-Est\", \"Auvergne Rh\\u00f4ne-Alpes\", \"Ile-de-France\", \"Corse\", \"Guadeloupe\", \"Bourgogne-Franche-Comt\\u00e9\", \"Bretagne\", \"Nouvelle-Aquitaine\", \"Martinique\", \"Occitanie\", \"Provence-Alpes-C\\u00f4te d\\u2019Azur\", \"Normandie\"], \"range\": [\"#de6add\", \"#5f4cc6\", \"#dcb590\", \"#e6bba7\", \"#2e0380\", \"#1f5b8a\", \"#346c03\", \"#95e734\", \"#32819f\", \"#7e9667\", \"#8914ca\", \"#4f1b7d\", \"#2fff24\", \"#c6fcb2\", \"#efd61e\"]}}, \"opacity\": {\"condition\": {\"value\": 1, \"selection\": \"selector004\"}, \"value\": 0.05}, \"text\": {\"type\": \"nominal\", \"field\": \"maille_nom\"}, \"tooltip\": [{\"type\": \"temporal\", \"field\": \"date\"}, {\"type\": \"nominal\", \"field\": \"maille_nom\"}, {\"type\": \"quantitative\", \"field\": \"deces\"}, {\"type\": \"quantitative\", \"field\": \"cas_confirmes\"}, {\"type\": \"quantitative\", \"field\": \"reanimation\"}, {\"type\": \"quantitative\", \"field\": \"Days since 2th death\"}], \"x\": {\"type\": \"quantitative\", \"field\": \"Days since 2th death\"}, \"y\": {\"type\": \"quantitative\", \"axis\": {\"title\": \"Cumulative Deaths\"}, \"field\": \"deces\", \"scale\": {\"type\": \"linear\"}}}, \"transform\": [{\"filter\": \"(datum['Date'] >= 1584576000000)\"}], \"width\": 550}], \"data\": {\"name\": \"data-f03109c91cd2128b82e7ac37fbe8ac49\"}, \"title\": \"Compare countries death trajectories\", \"$schema\": \"https://vega.github.io/schema/vega-lite/v4.0.2.json\", \"datasets\": {\"data-f03109c91cd2128b82e7ac37fbe8ac49\": [{\"Days since 2th death\": 0, \"deces\": 2.0}, {\"Days since 2th death\": 1, \"deces\": 2.66}, {\"Days since 2th death\": 2, \"deces\": 3.5378000000000003}, {\"Days since 2th death\": 3, \"deces\": 4.705274000000001}, {\"Days since 2th death\": 4, \"deces\": 6.258014420000001}, {\"Days since 2th death\": 5, \"deces\": 8.323159178600003}, {\"Days since 2th death\": 6, \"deces\": 11.069801707538003}, {\"Days since 2th death\": 7, \"deces\": 14.722836271025546}, {\"Days since 2th death\": 8, \"deces\": 19.581372240463978}, {\"Days since 2th death\": 9, \"deces\": 26.04322507981709}, {\"Days since 2th death\": 10, \"deces\": 34.637489356156735}, {\"Days since 2th death\": 11, \"deces\": 46.06786084368846}, {\"Days since 2th death\": 12, \"deces\": 61.27025492210565}, {\"Days since 2th death\": 13, \"deces\": 81.48943904640052}, {\"Days since 2th death\": 14, \"deces\": 108.3809539317127}, {\"Days since 2th death\": 15, \"deces\": 144.1466687291779}], \"data-757c3e6a1335b6066cb73acadbdb3c2f\": [{\"date\": \"2020-03-04T00:00:00\", \"maille_nom\": \"Guyane\", \"deces\": 0.0, \"cas_confirmes\": 5.0, \"reanimation\": null, \"Days since 2th death\": 0}, {\"date\": \"2020-03-05T00:00:00\", \"maille_nom\": \"Centre Val de Loire\", \"deces\": null, \"cas_confirmes\": 3.0, \"reanimation\": null, \"Days since 2th death\": 0}, {\"date\": \"2020-03-05T00:00:00\", \"maille_nom\": \"Hauts-de-France\", \"deces\": 4.0, \"cas_confirmes\": 5.0, \"reanimation\": null, \"Days since 2th death\": 0}, {\"date\": \"2020-03-06T00:00:00\", \"maille_nom\": \"Centre Val de Loire\", \"deces\": null, \"cas_confirmes\": 7.0, \"reanimation\": null, \"Days since 2th death\": 1}, {\"date\": \"2020-03-06T00:00:00\", \"maille_nom\": \"Pays de la Loire\", \"deces\": null, \"cas_confirmes\": 12.0, \"reanimation\": null, \"Days since 2th death\": 0}, {\"date\": \"2020-03-08T00:00:00\", \"maille_nom\": \"Centre Val de Loire\", \"deces\": null, \"cas_confirmes\": 17.0, \"reanimation\": null, \"Days since 2th death\": 3}, {\"date\": \"2020-03-08T00:00:00\", \"maille_nom\": \"Grand Est\", \"deces\": 3.0, \"cas_confirmes\": 262.0, \"reanimation\": 45.0, \"Days since 2th death\": 0}, {\"date\": \"2020-03-08T00:00:00\", \"maille_nom\": \"Pays de la Loire\", \"deces\": null, \"cas_confirmes\": 24.0, \"reanimation\": null, \"Days since 2th death\": 2}, {\"date\": \"2020-03-09T00:00:00\", \"maille_nom\": \"Hauts-de-France\", \"deces\": 15.0, \"cas_confirmes\": 181.0, \"reanimation\": null, \"Days since 2th death\": 4}, {\"date\": \"2020-03-09T00:00:00\", \"maille_nom\": \"Grand-Est\", \"deces\": 4.0, \"cas_confirmes\": 310.0, \"reanimation\": null, \"Days since 2th death\": 0}, {\"date\": \"2020-03-09T00:00:00\", \"maille_nom\": \"Auvergne Rh\\u00f4ne-Alpes\", \"deces\": 3.0, \"cas_confirmes\": 182.0, \"reanimation\": null, \"Days since 2th death\": 0}, {\"date\": \"2020-03-10T00:00:00\", \"maille_nom\": \"Ile-de-France\", \"deces\": 4.0, \"cas_confirmes\": 283.0, \"reanimation\": null, \"Days since 2th death\": 0}, {\"date\": \"2020-03-10T00:00:00\", \"maille_nom\": \"Centre Val de Loire\", \"deces\": null, \"cas_confirmes\": 17.0, \"reanimation\": null, \"Days since 2th death\": 5}, {\"date\": \"2020-03-10T00:00:00\", \"maille_nom\": \"Hauts-de-France\", \"deces\": 16.0, \"cas_confirmes\": 222.0, \"reanimation\": null, \"Days since 2th death\": 5}, {\"date\": \"2020-03-10T00:00:00\", \"maille_nom\": \"Grand-Est\", \"deces\": 5.0, \"cas_confirmes\": 464.0, \"reanimation\": null, \"Days since 2th death\": 1}, {\"date\": \"2020-03-10T00:00:00\", \"maille_nom\": \"Pays de la Loire\", \"deces\": null, \"cas_confirmes\": 27.0, \"reanimation\": null, \"Days since 2th death\": 4}, {\"date\": \"2020-03-10T00:00:00\", \"maille_nom\": \"Auvergne Rh\\u00f4ne-Alpes\", \"deces\": 3.0, \"cas_confirmes\": 227.0, \"reanimation\": null, \"Days since 2th death\": 1}, {\"date\": \"2020-03-10T00:00:00\", \"maille_nom\": \"Corse\", \"deces\": 2.0, \"cas_confirmes\": 42.0, \"reanimation\": 2.0, \"Days since 2th death\": 0}, {\"date\": \"2020-03-11T00:00:00\", \"maille_nom\": \"Guadeloupe\", \"deces\": null, \"cas_confirmes\": 0.0, \"reanimation\": null, \"Days since 2th death\": 0}, {\"date\": \"2020-03-11T00:00:00\", \"maille_nom\": \"Guyane\", \"deces\": 0.0, \"cas_confirmes\": 6.0, \"reanimation\": null, \"Days since 2th death\": 7}, {\"date\": \"2020-03-11T00:00:00\", \"maille_nom\": \"Ile-de-France\", \"deces\": 4.0, \"cas_confirmes\": 512.0, \"reanimation\": null, \"Days since 2th death\": 1}, {\"date\": \"2020-03-11T00:00:00\", \"maille_nom\": \"Centre Val de Loire\", \"deces\": null, \"cas_confirmes\": 20.0, \"reanimation\": null, \"Days since 2th death\": 6}, {\"date\": \"2020-03-11T00:00:00\", \"maille_nom\": \"Bourgogne-Franche-Comt\\u00e9\", \"deces\": 3.0, \"cas_confirmes\": 165.0, \"reanimation\": 8.0, \"Days since 2th death\": 0}, {\"date\": \"2020-03-11T00:00:00\", \"maille_nom\": \"Grand-Est\", \"deces\": 9.0, \"cas_confirmes\": 587.0, \"reanimation\": null, \"Days since 2th death\": 2}, {\"date\": \"2020-03-11T00:00:00\", \"maille_nom\": \"Auvergne Rh\\u00f4ne-Alpes\", \"deces\": 3.0, \"cas_confirmes\": 262.0, \"reanimation\": null, \"Days since 2th death\": 2}, {\"date\": \"2020-03-11T00:00:00\", \"maille_nom\": \"Corse\", \"deces\": 3.0, \"cas_confirmes\": 51.0, \"reanimation\": 2.0, \"Days since 2th death\": 1}, {\"date\": \"2020-03-12T00:00:00\", \"maille_nom\": \"Ile-de-France\", \"deces\": 4.0, \"cas_confirmes\": 605.0, \"reanimation\": null, \"Days since 2th death\": 2}, {\"date\": \"2020-03-12T00:00:00\", \"maille_nom\": \"Centre Val de Loire\", \"deces\": null, \"cas_confirmes\": 30.0, \"reanimation\": null, \"Days since 2th death\": 7}, {\"date\": \"2020-03-12T00:00:00\", \"maille_nom\": \"Bourgogne-Franche-Comt\\u00e9\", \"deces\": 5.0, \"cas_confirmes\": 219.0, \"reanimation\": 11.0, \"Days since 2th death\": 1}, {\"date\": \"2020-03-12T00:00:00\", \"maille_nom\": \"Hauts-de-France\", \"deces\": 20.0, \"cas_confirmes\": 337.0, \"reanimation\": null, \"Days since 2th death\": 7}, {\"date\": \"2020-03-12T00:00:00\", \"maille_nom\": \"Pays de la Loire\", \"deces\": null, \"cas_confirmes\": 42.0, \"reanimation\": null, \"Days since 2th death\": 6}, {\"date\": \"2020-03-12T00:00:00\", \"maille_nom\": \"Bretagne\", \"deces\": 3.0, \"cas_confirmes\": 120.0, \"reanimation\": null, \"Days since 2th death\": 0}, {\"date\": \"2020-03-12T00:00:00\", \"maille_nom\": \"Auvergne Rh\\u00f4ne-Alpes\", \"deces\": 7.0, \"cas_confirmes\": 333.0, \"reanimation\": null, \"Days since 2th death\": 3}, {\"date\": \"2020-03-12T00:00:00\", \"maille_nom\": \"Corse\", \"deces\": 3.0, \"cas_confirmes\": 64.0, \"reanimation\": 2.0, \"Days since 2th death\": 2}, {\"date\": \"2020-03-13T00:00:00\", \"maille_nom\": \"Guadeloupe\", \"deces\": null, \"cas_confirmes\": 1.0, \"reanimation\": null, \"Days since 2th death\": 2}, {\"date\": \"2020-03-13T00:00:00\", \"maille_nom\": \"Ile-de-France\", \"deces\": null, \"cas_confirmes\": 876.0, \"reanimation\": null, \"Days since 2th death\": 3}, {\"date\": \"2020-03-13T00:00:00\", \"maille_nom\": \"Centre Val de Loire\", \"deces\": null, \"cas_confirmes\": 33.0, \"reanimation\": null, \"Days since 2th death\": 8}, {\"date\": \"2020-03-13T00:00:00\", \"maille_nom\": \"Bourgogne-Franche-Comt\\u00e9\", \"deces\": 5.0, \"cas_confirmes\": 272.0, \"reanimation\": 15.0, \"Days since 2th death\": 2}, {\"date\": \"2020-03-13T00:00:00\", \"maille_nom\": \"Hauts-de-France\", \"deces\": 26.0, \"cas_confirmes\": 368.0, \"reanimation\": null, \"Days since 2th death\": 8}, {\"date\": \"2020-03-13T00:00:00\", \"maille_nom\": \"Grand-Est\", \"deces\": 21.0, \"cas_confirmes\": 910.0, \"reanimation\": null, \"Days since 2th death\": 4}, {\"date\": \"2020-03-13T00:00:00\", \"maille_nom\": \"Pays de la Loire\", \"deces\": null, \"cas_confirmes\": 56.0, \"reanimation\": null, \"Days since 2th death\": 7}, {\"date\": \"2020-03-13T00:00:00\", \"maille_nom\": \"Bretagne\", \"deces\": 3.0, \"cas_confirmes\": 157.0, \"reanimation\": null, \"Days since 2th death\": 1}, {\"date\": \"2020-03-13T00:00:00\", \"maille_nom\": \"Corse\", \"deces\": 5.0, \"cas_confirmes\": 85.0, \"reanimation\": 2.0, \"Days since 2th death\": 3}, {\"date\": \"2020-03-14T00:00:00\", \"maille_nom\": \"Guadeloupe\", \"deces\": null, \"cas_confirmes\": 5.0, \"reanimation\": null, \"Days since 2th death\": 3}, {\"date\": \"2020-03-14T00:00:00\", \"maille_nom\": \"Guyane\", \"deces\": 0.0, \"cas_confirmes\": 7.0, \"reanimation\": null, \"Days since 2th death\": 10}, {\"date\": \"2020-03-14T00:00:00\", \"maille_nom\": \"Ile-de-France\", \"deces\": null, \"cas_confirmes\": 1240.0, \"reanimation\": 155.0, \"Days since 2th death\": 4}, {\"date\": \"2020-03-14T00:00:00\", \"maille_nom\": \"Centre Val de Loire\", \"deces\": null, \"cas_confirmes\": 54.0, \"reanimation\": null, \"Days since 2th death\": 9}, {\"date\": \"2020-03-14T00:00:00\", \"maille_nom\": \"Bourgogne-Franche-Comt\\u00e9\", \"deces\": 6.0, \"cas_confirmes\": 340.0, \"reanimation\": 20.0, \"Days since 2th death\": 3}, {\"date\": \"2020-03-14T00:00:00\", \"maille_nom\": \"Hauts-de-France\", \"deces\": 29.0, \"cas_confirmes\": 463.0, \"reanimation\": null, \"Days since 2th death\": 9}, {\"date\": \"2020-03-14T00:00:00\", \"maille_nom\": \"Grand-Est\", \"deces\": 24.0, \"cas_confirmes\": 1085.0, \"reanimation\": null, \"Days since 2th death\": 5}, {\"date\": \"2020-03-14T00:00:00\", \"maille_nom\": \"Pays de la Loire\", \"deces\": null, \"cas_confirmes\": 82.0, \"reanimation\": null, \"Days since 2th death\": 8}, {\"date\": \"2020-03-14T00:00:00\", \"maille_nom\": \"Bretagne\", \"deces\": 3.0, \"cas_confirmes\": 178.0, \"reanimation\": null, \"Days since 2th death\": 2}, {\"date\": \"2020-03-14T00:00:00\", \"maille_nom\": \"Auvergne Rh\\u00f4ne-Alpes\", \"deces\": 12.0, \"cas_confirmes\": 449.0, \"reanimation\": null, \"Days since 2th death\": 5}, {\"date\": \"2020-03-14T00:00:00\", \"maille_nom\": \"Corse\", \"deces\": 5.0, \"cas_confirmes\": 106.0, \"reanimation\": 2.0, \"Days since 2th death\": 4}, {\"date\": \"2020-03-15T00:00:00\", \"maille_nom\": \"Guadeloupe\", \"deces\": null, \"cas_confirmes\": 5.0, \"reanimation\": null, \"Days since 2th death\": 4}, {\"date\": \"2020-03-15T00:00:00\", \"maille_nom\": \"Guyane\", \"deces\": 0.0, \"cas_confirmes\": 11.0, \"reanimation\": null, \"Days since 2th death\": 11}, {\"date\": \"2020-03-15T00:00:00\", \"maille_nom\": \"Bourgogne-Franche-Comt\\u00e9\", \"deces\": 6.0, \"cas_confirmes\": 412.0, \"reanimation\": 25.0, \"Days since 2th death\": 4}, {\"date\": \"2020-03-15T00:00:00\", \"maille_nom\": \"Grand-Est\", \"deces\": 45.0, \"cas_confirmes\": 1378.0, \"reanimation\": null, \"Days since 2th death\": 6}, {\"date\": \"2020-03-15T00:00:00\", \"maille_nom\": \"Pays de la Loire\", \"deces\": null, \"cas_confirmes\": 99.0, \"reanimation\": null, \"Days since 2th death\": 9}, {\"date\": \"2020-03-15T00:00:00\", \"maille_nom\": \"Bretagne\", \"deces\": 3.0, \"cas_confirmes\": 195.0, \"reanimation\": null, \"Days since 2th death\": 3}, {\"date\": \"2020-03-15T00:00:00\", \"maille_nom\": \"Nouvelle-Aquitaine\", \"deces\": 2.0, \"cas_confirmes\": 152.0, \"reanimation\": null, \"Days since 2th death\": 0}, {\"date\": \"2020-03-15T00:00:00\", \"maille_nom\": \"Auvergne Rh\\u00f4ne-Alpes\", \"deces\": 18.0, \"cas_confirmes\": 523.0, \"reanimation\": null, \"Days since 2th death\": 6}, {\"date\": \"2020-03-15T00:00:00\", \"maille_nom\": \"Corse\", \"deces\": 5.0, \"cas_confirmes\": 115.0, \"reanimation\": 2.0, \"Days since 2th death\": 5}, {\"date\": \"2020-03-16T00:00:00\", \"maille_nom\": \"Guadeloupe\", \"deces\": null, \"cas_confirmes\": 18.0, \"reanimation\": 1.0, \"Days since 2th death\": 5}, {\"date\": \"2020-03-16T00:00:00\", \"maille_nom\": \"Martinique\", \"deces\": null, \"cas_confirmes\": 16.0, \"reanimation\": 1.0, \"Days since 2th death\": 0}, {\"date\": \"2020-03-16T00:00:00\", \"maille_nom\": \"Centre Val de Loire\", \"deces\": null, \"cas_confirmes\": 90.0, \"reanimation\": null, \"Days since 2th death\": 11}, {\"date\": \"2020-03-16T00:00:00\", \"maille_nom\": \"Bourgogne-Franche-Comt\\u00e9\", \"deces\": 6.0, \"cas_confirmes\": 507.0, \"reanimation\": 28.0, \"Days since 2th death\": 5}, {\"date\": \"2020-03-16T00:00:00\", \"maille_nom\": \"Hauts-de-France\", \"deces\": 39.0, \"cas_confirmes\": 587.0, \"reanimation\": null, \"Days since 2th death\": 11}, {\"date\": \"2020-03-16T00:00:00\", \"maille_nom\": \"Grand-Est\", \"deces\": 51.0, \"cas_confirmes\": 1543.0, \"reanimation\": null, \"Days since 2th death\": 7}, {\"date\": \"2020-03-16T00:00:00\", \"maille_nom\": \"Pays de la Loire\", \"deces\": 0.0, \"cas_confirmes\": 109.0, \"reanimation\": null, \"Days since 2th death\": 10}, {\"date\": \"2020-03-16T00:00:00\", \"maille_nom\": \"Bretagne\", \"deces\": 3.0, \"cas_confirmes\": 213.0, \"reanimation\": null, \"Days since 2th death\": 4}, {\"date\": \"2020-03-16T00:00:00\", \"maille_nom\": \"Nouvelle-Aquitaine\", \"deces\": 2.0, \"cas_confirmes\": 179.0, \"reanimation\": null, \"Days since 2th death\": 1}, {\"date\": \"2020-03-16T00:00:00\", \"maille_nom\": \"Occitanie\", \"deces\": 3.0, \"cas_confirmes\": 284.0, \"reanimation\": 23.0, \"Days since 2th death\": 0}, {\"date\": \"2020-03-16T00:00:00\", \"maille_nom\": \"Auvergne Rh\\u00f4ne-Alpes\", \"deces\": 20.0, \"cas_confirmes\": 617.0, \"reanimation\": null, \"Days since 2th death\": 7}, {\"date\": \"2020-03-16T00:00:00\", \"maille_nom\": \"Corse\", \"deces\": 7.0, \"cas_confirmes\": 126.0, \"reanimation\": 2.0, \"Days since 2th death\": 6}, {\"date\": \"2020-03-17T00:00:00\", \"maille_nom\": \"Guadeloupe\", \"deces\": null, \"cas_confirmes\": 27.0, \"reanimation\": 2.0, \"Days since 2th death\": 6}, {\"date\": \"2020-03-17T00:00:00\", \"maille_nom\": \"Ile-de-France\", \"deces\": null, \"cas_confirmes\": 1240.0, \"reanimation\": 155.0, \"Days since 2th death\": 7}, {\"date\": \"2020-03-17T00:00:00\", \"maille_nom\": \"Centre Val de Loire\", \"deces\": 1.0, \"cas_confirmes\": 103.0, \"reanimation\": null, \"Days since 2th death\": 12}, {\"date\": \"2020-03-17T00:00:00\", \"maille_nom\": \"Bourgogne-Franche-Comt\\u00e9\", \"deces\": 10.0, \"cas_confirmes\": null, \"reanimation\": 31.0, \"Days since 2th death\": 6}, {\"date\": \"2020-03-17T00:00:00\", \"maille_nom\": \"Hauts-de-France\", \"deces\": 46.0, \"cas_confirmes\": 613.0, \"reanimation\": null, \"Days since 2th death\": 12}, {\"date\": \"2020-03-17T00:00:00\", \"maille_nom\": \"Grand-Est\", \"deces\": 61.0, \"cas_confirmes\": 1820.0, \"reanimation\": null, \"Days since 2th death\": 8}, {\"date\": \"2020-03-17T00:00:00\", \"maille_nom\": \"Pays de la Loire\", \"deces\": 1.0, \"cas_confirmes\": null, \"reanimation\": 13.0, \"Days since 2th death\": 11}, {\"date\": \"2020-03-17T00:00:00\", \"maille_nom\": \"Bretagne\", \"deces\": 3.0, \"cas_confirmes\": 236.0, \"reanimation\": null, \"Days since 2th death\": 5}, {\"date\": \"2020-03-17T00:00:00\", \"maille_nom\": \"Nouvelle-Aquitaine\", \"deces\": 2.0, \"cas_confirmes\": 207.0, \"reanimation\": null, \"Days since 2th death\": 2}, {\"date\": \"2020-03-17T00:00:00\", \"maille_nom\": \"Occitanie\", \"deces\": 5.0, \"cas_confirmes\": 313.0, \"reanimation\": 32.0, \"Days since 2th death\": 1}, {\"date\": \"2020-03-17T00:00:00\", \"maille_nom\": \"Auvergne Rh\\u00f4ne-Alpes\", \"deces\": 24.0, \"cas_confirmes\": 706.0, \"reanimation\": null, \"Days since 2th death\": 8}, {\"date\": \"2020-03-17T00:00:00\", \"maille_nom\": \"Provence-Alpes-C\\u00f4te d\\u2019Azur\", \"deces\": 4.0, \"cas_confirmes\": 481.0, \"reanimation\": 22.0, \"Days since 2th death\": 0}, {\"date\": \"2020-03-17T00:00:00\", \"maille_nom\": \"Corse\", \"deces\": null, \"cas_confirmes\": 145.0, \"reanimation\": null, \"Days since 2th death\": 7}, {\"date\": \"2020-03-18T00:00:00\", \"maille_nom\": \"Guyane\", \"deces\": 0.0, \"cas_confirmes\": 15.0, \"reanimation\": null, \"Days since 2th death\": 14}, {\"date\": \"2020-03-18T00:00:00\", \"maille_nom\": \"Centre Val de Loire\", \"deces\": 1.0, \"cas_confirmes\": 128.0, \"reanimation\": null, \"Days since 2th death\": 13}, {\"date\": \"2020-03-18T00:00:00\", \"maille_nom\": \"Auvergne Rh\\u00f4ne-Alpes\", \"deces\": 27.0, \"cas_confirmes\": 858.0, \"reanimation\": null, \"Days since 2th death\": 9}, {\"date\": \"2020-03-18T00:00:00\", \"maille_nom\": \"Bourgogne-Franche-Comt\\u00e9\", \"deces\": 20.0, \"cas_confirmes\": null, \"reanimation\": 43.0, \"Days since 2th death\": 7}, {\"date\": \"2020-03-18T00:00:00\", \"maille_nom\": \"Normandie\", \"deces\": 3.0, \"cas_confirmes\": 208.0, \"reanimation\": null, \"Days since 2th death\": 0}, {\"date\": \"2020-03-18T00:00:00\", \"maille_nom\": \"Hauts-de-France\", \"deces\": 55.0, \"cas_confirmes\": 668.0, \"reanimation\": null, \"Days since 2th death\": 13}, {\"date\": \"2020-03-18T00:00:00\", \"maille_nom\": \"Pays de la Loire\", \"deces\": null, \"cas_confirmes\": null, \"reanimation\": 13.0, \"Days since 2th death\": 12}, {\"date\": \"2020-03-18T00:00:00\", \"maille_nom\": \"Bretagne\", \"deces\": 7.0, \"cas_confirmes\": 252.0, \"reanimation\": 25.0, \"Days since 2th death\": 6}, {\"date\": \"2020-03-18T00:00:00\", \"maille_nom\": \"Nouvelle-Aquitaine\", \"deces\": 2.0, \"cas_confirmes\": 242.0, \"reanimation\": null, \"Days since 2th death\": 3}, {\"date\": \"2020-03-18T00:00:00\", \"maille_nom\": \"Occitanie\", \"deces\": 10.0, \"cas_confirmes\": 389.0, \"reanimation\": 37.0, \"Days since 2th death\": 2}, {\"date\": \"2020-03-18T00:00:00\", \"maille_nom\": \"Provence-Alpes-C\\u00f4te d\\u2019Azur\", \"deces\": 7.0, \"cas_confirmes\": 566.0, \"reanimation\": 33.0, \"Days since 2th death\": 1}, {\"date\": \"2020-03-18T00:00:00\", \"maille_nom\": \"Corse\", \"deces\": null, \"cas_confirmes\": 152.0, \"reanimation\": null, \"Days since 2th death\": 8}, {\"date\": \"2020-03-19T00:00:00\", \"maille_nom\": \"Guadeloupe\", \"deces\": null, \"cas_confirmes\": 45.0, \"reanimation\": 3.0, \"Days since 2th death\": 8}, {\"date\": \"2020-03-19T00:00:00\", \"maille_nom\": \"Martinique\", \"deces\": null, \"cas_confirmes\": 32.0, \"reanimation\": 7.0, \"Days since 2th death\": 3}, {\"date\": \"2020-03-19T00:00:00\", \"maille_nom\": \"Guyane\", \"deces\": 0.0, \"cas_confirmes\": 15.0, \"reanimation\": null, \"Days since 2th death\": 15}, {\"date\": \"2020-03-19T00:00:00\", \"maille_nom\": \"Centre Val de Loire\", \"deces\": 1.0, \"cas_confirmes\": 157.0, \"reanimation\": null, \"Days since 2th death\": 14}, {\"date\": \"2020-03-19T00:00:00\", \"maille_nom\": \"Auvergne Rh\\u00f4ne-Alpes\", \"deces\": 39.0, \"cas_confirmes\": 1014.0, \"reanimation\": null, \"Days since 2th death\": 10}, {\"date\": \"2020-03-19T00:00:00\", \"maille_nom\": \"Bourgogne-Franche-Comt\\u00e9\", \"deces\": 23.0, \"cas_confirmes\": null, \"reanimation\": 60.0, \"Days since 2th death\": 8}, {\"date\": \"2020-03-19T00:00:00\", \"maille_nom\": \"Normandie\", \"deces\": 5.0, \"cas_confirmes\": 241.0, \"reanimation\": null, \"Days since 2th death\": 1}, {\"date\": \"2020-03-19T00:00:00\", \"maille_nom\": \"Bretagne\", \"deces\": 10.0, \"cas_confirmes\": 268.0, \"reanimation\": 26.0, \"Days since 2th death\": 7}, {\"date\": \"2020-03-19T00:00:00\", \"maille_nom\": \"Nouvelle-Aquitaine\", \"deces\": 3.0, \"cas_confirmes\": 305.0, \"reanimation\": null, \"Days since 2th death\": 4}, {\"date\": \"2020-03-19T00:00:00\", \"maille_nom\": \"Occitanie\", \"deces\": 17.0, \"cas_confirmes\": 472.0, \"reanimation\": 62.0, \"Days since 2th death\": 3}, {\"date\": \"2020-03-19T00:00:00\", \"maille_nom\": \"Provence-Alpes-C\\u00f4te d\\u2019Azur\", \"deces\": 9.0, \"cas_confirmes\": 690.0, \"reanimation\": 44.0, \"Days since 2th death\": 2}, {\"date\": \"2020-03-19T00:00:00\", \"maille_nom\": \"Corse\", \"deces\": null, \"cas_confirmes\": 164.0, \"reanimation\": null, \"Days since 2th death\": 9}]}}, {\"mode\": \"vega-lite\"});\n",
       "</script>"
      ],
      "text/plain": [
       "alt.LayerChart(...)"
      ]
     },
     "execution_count": 102,
     "metadata": {},
     "output_type": "execute_result"
    }
   ],
   "source": [
    "#hide_input\n",
    "chart = make_since_chart()\n",
    "chart"
   ]
  },
  {
   "cell_type": "markdown",
   "metadata": {},
   "source": [
    "# Confirmed cases"
   ]
  },
  {
   "cell_type": "code",
   "execution_count": 109,
   "metadata": {},
   "outputs": [],
   "source": [
    "#hide\n",
    "SINCE_CASES_NUM = 100\n",
    "COL_X = f'Days since {SINCE_CASES_NUM}th case'\n",
    "dff2 = dff[dff['maille_nom'].isin(myregions)].copy()\n",
    "days_since = (dff2.assign(F=dff2['cas_confirmes'].ge(SINCE_CASES_NUM))\n",
    "              .set_index('date')\n",
    "              .groupby('maille_nom')['F'].transform('idxmax'))\n",
    "dff2[COL_X] = (dff2['date'] - days_since.values).dt.days.values\n",
    "dff2 = dff2[dff2[COL_X].ge(0)]"
   ]
  },
  {
   "cell_type": "code",
   "execution_count": 117,
   "metadata": {},
   "outputs": [
    {
     "data": {
      "text/html": [
       "<div>\n",
       "<style scoped>\n",
       "    .dataframe tbody tr th:only-of-type {\n",
       "        vertical-align: middle;\n",
       "    }\n",
       "\n",
       "    .dataframe tbody tr th {\n",
       "        vertical-align: top;\n",
       "    }\n",
       "\n",
       "    .dataframe thead th {\n",
       "        text-align: right;\n",
       "    }\n",
       "</style>\n",
       "<table border=\"1\" class=\"dataframe\">\n",
       "  <thead>\n",
       "    <tr style=\"text-align: right;\">\n",
       "      <th></th>\n",
       "      <th>date</th>\n",
       "      <th>maille_nom</th>\n",
       "      <th>deces</th>\n",
       "      <th>cas_confirmes</th>\n",
       "      <th>reanimation</th>\n",
       "      <th>Days since 100th case</th>\n",
       "    </tr>\n",
       "  </thead>\n",
       "  <tbody>\n",
       "    <tr>\n",
       "      <th>466</th>\n",
       "      <td>2020-03-06</td>\n",
       "      <td>Ile-de-France</td>\n",
       "      <td>1</td>\n",
       "      <td>131</td>\n",
       "      <td>&lt;NA&gt;</td>\n",
       "      <td>0</td>\n",
       "    </tr>\n",
       "    <tr>\n",
       "      <th>573</th>\n",
       "      <td>2020-03-07</td>\n",
       "      <td>Ile-de-France</td>\n",
       "      <td>1</td>\n",
       "      <td>161</td>\n",
       "      <td>&lt;NA&gt;</td>\n",
       "      <td>1</td>\n",
       "    </tr>\n",
       "    <tr>\n",
       "      <th>685</th>\n",
       "      <td>2020-03-08</td>\n",
       "      <td>Ile-de-France</td>\n",
       "      <td>1</td>\n",
       "      <td>226</td>\n",
       "      <td>&lt;NA&gt;</td>\n",
       "      <td>2</td>\n",
       "    </tr>\n",
       "    <tr>\n",
       "      <th>787</th>\n",
       "      <td>2020-03-09</td>\n",
       "      <td>Ile-de-France</td>\n",
       "      <td>1</td>\n",
       "      <td>283</td>\n",
       "      <td>&lt;NA&gt;</td>\n",
       "      <td>3</td>\n",
       "    </tr>\n",
       "    <tr>\n",
       "      <th>907</th>\n",
       "      <td>2020-03-10</td>\n",
       "      <td>Ile-de-France</td>\n",
       "      <td>4</td>\n",
       "      <td>283</td>\n",
       "      <td>&lt;NA&gt;</td>\n",
       "      <td>4</td>\n",
       "    </tr>\n",
       "    <tr>\n",
       "      <th>1048</th>\n",
       "      <td>2020-03-11</td>\n",
       "      <td>Ile-de-France</td>\n",
       "      <td>4</td>\n",
       "      <td>512</td>\n",
       "      <td>&lt;NA&gt;</td>\n",
       "      <td>5</td>\n",
       "    </tr>\n",
       "    <tr>\n",
       "      <th>1181</th>\n",
       "      <td>2020-03-12</td>\n",
       "      <td>Ile-de-France</td>\n",
       "      <td>4</td>\n",
       "      <td>605</td>\n",
       "      <td>&lt;NA&gt;</td>\n",
       "      <td>6</td>\n",
       "    </tr>\n",
       "    <tr>\n",
       "      <th>1300</th>\n",
       "      <td>2020-03-13</td>\n",
       "      <td>Ile-de-France</td>\n",
       "      <td>&lt;NA&gt;</td>\n",
       "      <td>876</td>\n",
       "      <td>&lt;NA&gt;</td>\n",
       "      <td>7</td>\n",
       "    </tr>\n",
       "    <tr>\n",
       "      <th>1424</th>\n",
       "      <td>2020-03-14</td>\n",
       "      <td>Ile-de-France</td>\n",
       "      <td>&lt;NA&gt;</td>\n",
       "      <td>1240</td>\n",
       "      <td>155</td>\n",
       "      <td>8</td>\n",
       "    </tr>\n",
       "    <tr>\n",
       "      <th>1758</th>\n",
       "      <td>2020-03-17</td>\n",
       "      <td>Ile-de-France</td>\n",
       "      <td>&lt;NA&gt;</td>\n",
       "      <td>1240</td>\n",
       "      <td>155</td>\n",
       "      <td>11</td>\n",
       "    </tr>\n",
       "  </tbody>\n",
       "</table>\n",
       "</div>"
      ],
      "text/plain": [
       "           date     maille_nom  deces  cas_confirmes  reanimation  \\\n",
       "466  2020-03-06  Ile-de-France      1            131         <NA>   \n",
       "573  2020-03-07  Ile-de-France      1            161         <NA>   \n",
       "685  2020-03-08  Ile-de-France      1            226         <NA>   \n",
       "787  2020-03-09  Ile-de-France      1            283         <NA>   \n",
       "907  2020-03-10  Ile-de-France      4            283         <NA>   \n",
       "1048 2020-03-11  Ile-de-France      4            512         <NA>   \n",
       "1181 2020-03-12  Ile-de-France      4            605         <NA>   \n",
       "1300 2020-03-13  Ile-de-France   <NA>            876         <NA>   \n",
       "1424 2020-03-14  Ile-de-France   <NA>           1240          155   \n",
       "1758 2020-03-17  Ile-de-France   <NA>           1240          155   \n",
       "\n",
       "      Days since 100th case  \n",
       "466                       0  \n",
       "573                       1  \n",
       "685                       2  \n",
       "787                       3  \n",
       "907                       4  \n",
       "1048                      5  \n",
       "1181                      6  \n",
       "1300                      7  \n",
       "1424                      8  \n",
       "1758                     11  "
      ]
     },
     "execution_count": 117,
     "metadata": {},
     "output_type": "execute_result"
    }
   ],
   "source": [
    "#dff2.deces = dff2.deces.astype('Int64')\n",
    "#dff2.cas_confirmes = dff2.cas_confirmes.astype('Int64')\n",
    "#dff2.reanimation = dff2.reanimation.astype('Int64')\n",
    "dff2[dff2.maille_nom=='Ile-de-France']"
   ]
  },
  {
   "cell_type": "code",
   "execution_count": 118,
   "metadata": {},
   "outputs": [
    {
     "ename": "TypeError",
     "evalue": "data type not understood",
     "output_type": "error",
     "traceback": [
      "\u001b[0;31m---------------------------------------------------------------------------\u001b[0m",
      "\u001b[0;31mTypeError\u001b[0m                                 Traceback (most recent call last)",
      "\u001b[0;32m~/miniconda3/envs/corona/lib/python3.7/site-packages/altair/vegalite/v4/api.py\u001b[0m in \u001b[0;36mto_dict\u001b[0;34m(self, *args, **kwargs)\u001b[0m\n\u001b[1;32m    363\u001b[0m \u001b[0;34m\u001b[0m\u001b[0m\n\u001b[1;32m    364\u001b[0m         \u001b[0;32mtry\u001b[0m\u001b[0;34m:\u001b[0m\u001b[0;34m\u001b[0m\u001b[0;34m\u001b[0m\u001b[0m\n\u001b[0;32m--> 365\u001b[0;31m             \u001b[0mdct\u001b[0m \u001b[0;34m=\u001b[0m \u001b[0msuper\u001b[0m\u001b[0;34m(\u001b[0m\u001b[0mTopLevelMixin\u001b[0m\u001b[0;34m,\u001b[0m \u001b[0mcopy\u001b[0m\u001b[0;34m)\u001b[0m\u001b[0;34m.\u001b[0m\u001b[0mto_dict\u001b[0m\u001b[0;34m(\u001b[0m\u001b[0;34m*\u001b[0m\u001b[0margs\u001b[0m\u001b[0;34m,\u001b[0m \u001b[0;34m**\u001b[0m\u001b[0mkwargs\u001b[0m\u001b[0;34m)\u001b[0m\u001b[0;34m\u001b[0m\u001b[0;34m\u001b[0m\u001b[0m\n\u001b[0m\u001b[1;32m    366\u001b[0m         \u001b[0;32mexcept\u001b[0m \u001b[0mjsonschema\u001b[0m\u001b[0;34m.\u001b[0m\u001b[0mValidationError\u001b[0m\u001b[0;34m:\u001b[0m\u001b[0;34m\u001b[0m\u001b[0;34m\u001b[0m\u001b[0m\n\u001b[1;32m    367\u001b[0m             \u001b[0mdct\u001b[0m \u001b[0;34m=\u001b[0m \u001b[0;32mNone\u001b[0m\u001b[0;34m\u001b[0m\u001b[0;34m\u001b[0m\u001b[0m\n",
      "\u001b[0;32m~/miniconda3/envs/corona/lib/python3.7/site-packages/altair/utils/schemapi.py\u001b[0m in \u001b[0;36mto_dict\u001b[0;34m(self, validate, ignore, context)\u001b[0m\n\u001b[1;32m    297\u001b[0m             result = _todict({k: v for k, v in self._kwds.items()\n\u001b[1;32m    298\u001b[0m                               if k not in ignore},\n\u001b[0;32m--> 299\u001b[0;31m                               validate=sub_validate, context=context)\n\u001b[0m\u001b[1;32m    300\u001b[0m         \u001b[0;32melse\u001b[0m\u001b[0;34m:\u001b[0m\u001b[0;34m\u001b[0m\u001b[0;34m\u001b[0m\u001b[0m\n\u001b[1;32m    301\u001b[0m             raise ValueError(\"{} instance has both a value and properties : \"\n",
      "\u001b[0;32m~/miniconda3/envs/corona/lib/python3.7/site-packages/altair/utils/schemapi.py\u001b[0m in \u001b[0;36m_todict\u001b[0;34m(obj, validate, context)\u001b[0m\n\u001b[1;32m     58\u001b[0m         \u001b[0;32mreturn\u001b[0m \u001b[0;34m[\u001b[0m\u001b[0m_todict\u001b[0m\u001b[0;34m(\u001b[0m\u001b[0mv\u001b[0m\u001b[0;34m,\u001b[0m \u001b[0mvalidate\u001b[0m\u001b[0;34m,\u001b[0m \u001b[0mcontext\u001b[0m\u001b[0;34m)\u001b[0m \u001b[0;32mfor\u001b[0m \u001b[0mv\u001b[0m \u001b[0;32min\u001b[0m \u001b[0mobj\u001b[0m\u001b[0;34m]\u001b[0m\u001b[0;34m\u001b[0m\u001b[0;34m\u001b[0m\u001b[0m\n\u001b[1;32m     59\u001b[0m     \u001b[0;32melif\u001b[0m \u001b[0misinstance\u001b[0m\u001b[0;34m(\u001b[0m\u001b[0mobj\u001b[0m\u001b[0;34m,\u001b[0m \u001b[0mdict\u001b[0m\u001b[0;34m)\u001b[0m\u001b[0;34m:\u001b[0m\u001b[0;34m\u001b[0m\u001b[0;34m\u001b[0m\u001b[0m\n\u001b[0;32m---> 60\u001b[0;31m         return {k: _todict(v, validate, context) for k, v in obj.items()\n\u001b[0m\u001b[1;32m     61\u001b[0m                 if v is not Undefined}\n\u001b[1;32m     62\u001b[0m     \u001b[0;32melif\u001b[0m \u001b[0mhasattr\u001b[0m\u001b[0;34m(\u001b[0m\u001b[0mobj\u001b[0m\u001b[0;34m,\u001b[0m \u001b[0;34m'to_dict'\u001b[0m\u001b[0;34m)\u001b[0m\u001b[0;34m:\u001b[0m\u001b[0;34m\u001b[0m\u001b[0;34m\u001b[0m\u001b[0m\n",
      "\u001b[0;32m~/miniconda3/envs/corona/lib/python3.7/site-packages/altair/utils/schemapi.py\u001b[0m in \u001b[0;36m<dictcomp>\u001b[0;34m(.0)\u001b[0m\n\u001b[1;32m     59\u001b[0m     \u001b[0;32melif\u001b[0m \u001b[0misinstance\u001b[0m\u001b[0;34m(\u001b[0m\u001b[0mobj\u001b[0m\u001b[0;34m,\u001b[0m \u001b[0mdict\u001b[0m\u001b[0;34m)\u001b[0m\u001b[0;34m:\u001b[0m\u001b[0;34m\u001b[0m\u001b[0;34m\u001b[0m\u001b[0m\n\u001b[1;32m     60\u001b[0m         return {k: _todict(v, validate, context) for k, v in obj.items()\n\u001b[0;32m---> 61\u001b[0;31m                 if v is not Undefined}\n\u001b[0m\u001b[1;32m     62\u001b[0m     \u001b[0;32melif\u001b[0m \u001b[0mhasattr\u001b[0m\u001b[0;34m(\u001b[0m\u001b[0mobj\u001b[0m\u001b[0;34m,\u001b[0m \u001b[0;34m'to_dict'\u001b[0m\u001b[0;34m)\u001b[0m\u001b[0;34m:\u001b[0m\u001b[0;34m\u001b[0m\u001b[0;34m\u001b[0m\u001b[0m\n\u001b[1;32m     63\u001b[0m         \u001b[0;32mreturn\u001b[0m \u001b[0mobj\u001b[0m\u001b[0;34m.\u001b[0m\u001b[0mto_dict\u001b[0m\u001b[0;34m(\u001b[0m\u001b[0;34m)\u001b[0m\u001b[0;34m\u001b[0m\u001b[0;34m\u001b[0m\u001b[0m\n",
      "\u001b[0;32m~/miniconda3/envs/corona/lib/python3.7/site-packages/altair/utils/schemapi.py\u001b[0m in \u001b[0;36m_todict\u001b[0;34m(obj, validate, context)\u001b[0m\n\u001b[1;32m     56\u001b[0m         \u001b[0;32mreturn\u001b[0m \u001b[0mobj\u001b[0m\u001b[0;34m.\u001b[0m\u001b[0mto_dict\u001b[0m\u001b[0;34m(\u001b[0m\u001b[0mvalidate\u001b[0m\u001b[0;34m=\u001b[0m\u001b[0mvalidate\u001b[0m\u001b[0;34m,\u001b[0m \u001b[0mcontext\u001b[0m\u001b[0;34m=\u001b[0m\u001b[0mcontext\u001b[0m\u001b[0;34m)\u001b[0m\u001b[0;34m\u001b[0m\u001b[0;34m\u001b[0m\u001b[0m\n\u001b[1;32m     57\u001b[0m     \u001b[0;32melif\u001b[0m \u001b[0misinstance\u001b[0m\u001b[0;34m(\u001b[0m\u001b[0mobj\u001b[0m\u001b[0;34m,\u001b[0m \u001b[0;34m(\u001b[0m\u001b[0mlist\u001b[0m\u001b[0;34m,\u001b[0m \u001b[0mtuple\u001b[0m\u001b[0;34m)\u001b[0m\u001b[0;34m)\u001b[0m\u001b[0;34m:\u001b[0m\u001b[0;34m\u001b[0m\u001b[0;34m\u001b[0m\u001b[0m\n\u001b[0;32m---> 58\u001b[0;31m         \u001b[0;32mreturn\u001b[0m \u001b[0;34m[\u001b[0m\u001b[0m_todict\u001b[0m\u001b[0;34m(\u001b[0m\u001b[0mv\u001b[0m\u001b[0;34m,\u001b[0m \u001b[0mvalidate\u001b[0m\u001b[0;34m,\u001b[0m \u001b[0mcontext\u001b[0m\u001b[0;34m)\u001b[0m \u001b[0;32mfor\u001b[0m \u001b[0mv\u001b[0m \u001b[0;32min\u001b[0m \u001b[0mobj\u001b[0m\u001b[0;34m]\u001b[0m\u001b[0;34m\u001b[0m\u001b[0;34m\u001b[0m\u001b[0m\n\u001b[0m\u001b[1;32m     59\u001b[0m     \u001b[0;32melif\u001b[0m \u001b[0misinstance\u001b[0m\u001b[0;34m(\u001b[0m\u001b[0mobj\u001b[0m\u001b[0;34m,\u001b[0m \u001b[0mdict\u001b[0m\u001b[0;34m)\u001b[0m\u001b[0;34m:\u001b[0m\u001b[0;34m\u001b[0m\u001b[0;34m\u001b[0m\u001b[0m\n\u001b[1;32m     60\u001b[0m         return {k: _todict(v, validate, context) for k, v in obj.items()\n",
      "\u001b[0;32m~/miniconda3/envs/corona/lib/python3.7/site-packages/altair/utils/schemapi.py\u001b[0m in \u001b[0;36m<listcomp>\u001b[0;34m(.0)\u001b[0m\n\u001b[1;32m     56\u001b[0m         \u001b[0;32mreturn\u001b[0m \u001b[0mobj\u001b[0m\u001b[0;34m.\u001b[0m\u001b[0mto_dict\u001b[0m\u001b[0;34m(\u001b[0m\u001b[0mvalidate\u001b[0m\u001b[0;34m=\u001b[0m\u001b[0mvalidate\u001b[0m\u001b[0;34m,\u001b[0m \u001b[0mcontext\u001b[0m\u001b[0;34m=\u001b[0m\u001b[0mcontext\u001b[0m\u001b[0;34m)\u001b[0m\u001b[0;34m\u001b[0m\u001b[0;34m\u001b[0m\u001b[0m\n\u001b[1;32m     57\u001b[0m     \u001b[0;32melif\u001b[0m \u001b[0misinstance\u001b[0m\u001b[0;34m(\u001b[0m\u001b[0mobj\u001b[0m\u001b[0;34m,\u001b[0m \u001b[0;34m(\u001b[0m\u001b[0mlist\u001b[0m\u001b[0;34m,\u001b[0m \u001b[0mtuple\u001b[0m\u001b[0;34m)\u001b[0m\u001b[0;34m)\u001b[0m\u001b[0;34m:\u001b[0m\u001b[0;34m\u001b[0m\u001b[0;34m\u001b[0m\u001b[0m\n\u001b[0;32m---> 58\u001b[0;31m         \u001b[0;32mreturn\u001b[0m \u001b[0;34m[\u001b[0m\u001b[0m_todict\u001b[0m\u001b[0;34m(\u001b[0m\u001b[0mv\u001b[0m\u001b[0;34m,\u001b[0m \u001b[0mvalidate\u001b[0m\u001b[0;34m,\u001b[0m \u001b[0mcontext\u001b[0m\u001b[0;34m)\u001b[0m \u001b[0;32mfor\u001b[0m \u001b[0mv\u001b[0m \u001b[0;32min\u001b[0m \u001b[0mobj\u001b[0m\u001b[0;34m]\u001b[0m\u001b[0;34m\u001b[0m\u001b[0;34m\u001b[0m\u001b[0m\n\u001b[0m\u001b[1;32m     59\u001b[0m     \u001b[0;32melif\u001b[0m \u001b[0misinstance\u001b[0m\u001b[0;34m(\u001b[0m\u001b[0mobj\u001b[0m\u001b[0;34m,\u001b[0m \u001b[0mdict\u001b[0m\u001b[0;34m)\u001b[0m\u001b[0;34m:\u001b[0m\u001b[0;34m\u001b[0m\u001b[0;34m\u001b[0m\u001b[0m\n\u001b[1;32m     60\u001b[0m         return {k: _todict(v, validate, context) for k, v in obj.items()\n",
      "\u001b[0;32m~/miniconda3/envs/corona/lib/python3.7/site-packages/altair/utils/schemapi.py\u001b[0m in \u001b[0;36m_todict\u001b[0;34m(obj, validate, context)\u001b[0m\n\u001b[1;32m     54\u001b[0m     \u001b[0;34m\"\"\"Convert an object to a dict representation.\"\"\"\u001b[0m\u001b[0;34m\u001b[0m\u001b[0;34m\u001b[0m\u001b[0m\n\u001b[1;32m     55\u001b[0m     \u001b[0;32mif\u001b[0m \u001b[0misinstance\u001b[0m\u001b[0;34m(\u001b[0m\u001b[0mobj\u001b[0m\u001b[0;34m,\u001b[0m \u001b[0mSchemaBase\u001b[0m\u001b[0;34m)\u001b[0m\u001b[0;34m:\u001b[0m\u001b[0;34m\u001b[0m\u001b[0;34m\u001b[0m\u001b[0m\n\u001b[0;32m---> 56\u001b[0;31m         \u001b[0;32mreturn\u001b[0m \u001b[0mobj\u001b[0m\u001b[0;34m.\u001b[0m\u001b[0mto_dict\u001b[0m\u001b[0;34m(\u001b[0m\u001b[0mvalidate\u001b[0m\u001b[0;34m=\u001b[0m\u001b[0mvalidate\u001b[0m\u001b[0;34m,\u001b[0m \u001b[0mcontext\u001b[0m\u001b[0;34m=\u001b[0m\u001b[0mcontext\u001b[0m\u001b[0;34m)\u001b[0m\u001b[0;34m\u001b[0m\u001b[0;34m\u001b[0m\u001b[0m\n\u001b[0m\u001b[1;32m     57\u001b[0m     \u001b[0;32melif\u001b[0m \u001b[0misinstance\u001b[0m\u001b[0;34m(\u001b[0m\u001b[0mobj\u001b[0m\u001b[0;34m,\u001b[0m \u001b[0;34m(\u001b[0m\u001b[0mlist\u001b[0m\u001b[0;34m,\u001b[0m \u001b[0mtuple\u001b[0m\u001b[0;34m)\u001b[0m\u001b[0;34m)\u001b[0m\u001b[0;34m:\u001b[0m\u001b[0;34m\u001b[0m\u001b[0;34m\u001b[0m\u001b[0m\n\u001b[1;32m     58\u001b[0m         \u001b[0;32mreturn\u001b[0m \u001b[0;34m[\u001b[0m\u001b[0m_todict\u001b[0m\u001b[0;34m(\u001b[0m\u001b[0mv\u001b[0m\u001b[0;34m,\u001b[0m \u001b[0mvalidate\u001b[0m\u001b[0;34m,\u001b[0m \u001b[0mcontext\u001b[0m\u001b[0;34m)\u001b[0m \u001b[0;32mfor\u001b[0m \u001b[0mv\u001b[0m \u001b[0;32min\u001b[0m \u001b[0mobj\u001b[0m\u001b[0;34m]\u001b[0m\u001b[0;34m\u001b[0m\u001b[0;34m\u001b[0m\u001b[0m\n",
      "\u001b[0;32m~/miniconda3/envs/corona/lib/python3.7/site-packages/altair/vegalite/v4/api.py\u001b[0m in \u001b[0;36mto_dict\u001b[0;34m(self, *args, **kwargs)\u001b[0m\n\u001b[1;32m    353\u001b[0m         \u001b[0mcopy\u001b[0m \u001b[0;34m=\u001b[0m \u001b[0mself\u001b[0m\u001b[0;34m.\u001b[0m\u001b[0mcopy\u001b[0m\u001b[0;34m(\u001b[0m\u001b[0mdeep\u001b[0m\u001b[0;34m=\u001b[0m\u001b[0;32mFalse\u001b[0m\u001b[0;34m)\u001b[0m\u001b[0;34m\u001b[0m\u001b[0;34m\u001b[0m\u001b[0m\n\u001b[1;32m    354\u001b[0m         \u001b[0moriginal_data\u001b[0m \u001b[0;34m=\u001b[0m \u001b[0mgetattr\u001b[0m\u001b[0;34m(\u001b[0m\u001b[0mcopy\u001b[0m\u001b[0;34m,\u001b[0m \u001b[0;34m'data'\u001b[0m\u001b[0;34m,\u001b[0m \u001b[0mUndefined\u001b[0m\u001b[0;34m)\u001b[0m\u001b[0;34m\u001b[0m\u001b[0;34m\u001b[0m\u001b[0m\n\u001b[0;32m--> 355\u001b[0;31m         \u001b[0mcopy\u001b[0m\u001b[0;34m.\u001b[0m\u001b[0mdata\u001b[0m \u001b[0;34m=\u001b[0m \u001b[0m_prepare_data\u001b[0m\u001b[0;34m(\u001b[0m\u001b[0moriginal_data\u001b[0m\u001b[0;34m,\u001b[0m \u001b[0mcontext\u001b[0m\u001b[0;34m)\u001b[0m\u001b[0;34m\u001b[0m\u001b[0;34m\u001b[0m\u001b[0m\n\u001b[0m\u001b[1;32m    356\u001b[0m \u001b[0;34m\u001b[0m\u001b[0m\n\u001b[1;32m    357\u001b[0m         \u001b[0;32mif\u001b[0m \u001b[0moriginal_data\u001b[0m \u001b[0;32mis\u001b[0m \u001b[0;32mnot\u001b[0m \u001b[0mUndefined\u001b[0m\u001b[0;34m:\u001b[0m\u001b[0;34m\u001b[0m\u001b[0;34m\u001b[0m\u001b[0m\n",
      "\u001b[0;32m~/miniconda3/envs/corona/lib/python3.7/site-packages/altair/vegalite/v4/api.py\u001b[0m in \u001b[0;36m_prepare_data\u001b[0;34m(data, context)\u001b[0m\n\u001b[1;32m     82\u001b[0m     \u001b[0;31m# convert dataframes  or objects with __geo_interface__ to dict\u001b[0m\u001b[0;34m\u001b[0m\u001b[0;34m\u001b[0m\u001b[0;34m\u001b[0m\u001b[0m\n\u001b[1;32m     83\u001b[0m     \u001b[0;32mif\u001b[0m \u001b[0misinstance\u001b[0m\u001b[0;34m(\u001b[0m\u001b[0mdata\u001b[0m\u001b[0;34m,\u001b[0m \u001b[0mpd\u001b[0m\u001b[0;34m.\u001b[0m\u001b[0mDataFrame\u001b[0m\u001b[0;34m)\u001b[0m \u001b[0;32mor\u001b[0m \u001b[0mhasattr\u001b[0m\u001b[0;34m(\u001b[0m\u001b[0mdata\u001b[0m\u001b[0;34m,\u001b[0m \u001b[0;34m'__geo_interface__'\u001b[0m\u001b[0;34m)\u001b[0m\u001b[0;34m:\u001b[0m\u001b[0;34m\u001b[0m\u001b[0;34m\u001b[0m\u001b[0m\n\u001b[0;32m---> 84\u001b[0;31m         \u001b[0mdata\u001b[0m \u001b[0;34m=\u001b[0m \u001b[0mpipe\u001b[0m\u001b[0;34m(\u001b[0m\u001b[0mdata\u001b[0m\u001b[0;34m,\u001b[0m \u001b[0mdata_transformers\u001b[0m\u001b[0;34m.\u001b[0m\u001b[0mget\u001b[0m\u001b[0;34m(\u001b[0m\u001b[0;34m)\u001b[0m\u001b[0;34m)\u001b[0m\u001b[0;34m\u001b[0m\u001b[0;34m\u001b[0m\u001b[0m\n\u001b[0m\u001b[1;32m     85\u001b[0m \u001b[0;34m\u001b[0m\u001b[0m\n\u001b[1;32m     86\u001b[0m     \u001b[0;31m# convert string input to a URLData\u001b[0m\u001b[0;34m\u001b[0m\u001b[0;34m\u001b[0m\u001b[0;34m\u001b[0m\u001b[0m\n",
      "\u001b[0;32m~/miniconda3/envs/corona/lib/python3.7/site-packages/toolz/functoolz.py\u001b[0m in \u001b[0;36mpipe\u001b[0;34m(data, *funcs)\u001b[0m\n\u001b[1;32m    632\u001b[0m     \"\"\"\n\u001b[1;32m    633\u001b[0m     \u001b[0;32mfor\u001b[0m \u001b[0mfunc\u001b[0m \u001b[0;32min\u001b[0m \u001b[0mfuncs\u001b[0m\u001b[0;34m:\u001b[0m\u001b[0;34m\u001b[0m\u001b[0;34m\u001b[0m\u001b[0m\n\u001b[0;32m--> 634\u001b[0;31m         \u001b[0mdata\u001b[0m \u001b[0;34m=\u001b[0m \u001b[0mfunc\u001b[0m\u001b[0;34m(\u001b[0m\u001b[0mdata\u001b[0m\u001b[0;34m)\u001b[0m\u001b[0;34m\u001b[0m\u001b[0;34m\u001b[0m\u001b[0m\n\u001b[0m\u001b[1;32m    635\u001b[0m     \u001b[0;32mreturn\u001b[0m \u001b[0mdata\u001b[0m\u001b[0;34m\u001b[0m\u001b[0;34m\u001b[0m\u001b[0m\n\u001b[1;32m    636\u001b[0m \u001b[0;34m\u001b[0m\u001b[0m\n",
      "\u001b[0;32m~/miniconda3/envs/corona/lib/python3.7/site-packages/toolz/functoolz.py\u001b[0m in \u001b[0;36m__call__\u001b[0;34m(self, *args, **kwargs)\u001b[0m\n\u001b[1;32m    301\u001b[0m     \u001b[0;32mdef\u001b[0m \u001b[0m__call__\u001b[0m\u001b[0;34m(\u001b[0m\u001b[0mself\u001b[0m\u001b[0;34m,\u001b[0m \u001b[0;34m*\u001b[0m\u001b[0margs\u001b[0m\u001b[0;34m,\u001b[0m \u001b[0;34m**\u001b[0m\u001b[0mkwargs\u001b[0m\u001b[0;34m)\u001b[0m\u001b[0;34m:\u001b[0m\u001b[0;34m\u001b[0m\u001b[0;34m\u001b[0m\u001b[0m\n\u001b[1;32m    302\u001b[0m         \u001b[0;32mtry\u001b[0m\u001b[0;34m:\u001b[0m\u001b[0;34m\u001b[0m\u001b[0;34m\u001b[0m\u001b[0m\n\u001b[0;32m--> 303\u001b[0;31m             \u001b[0;32mreturn\u001b[0m \u001b[0mself\u001b[0m\u001b[0;34m.\u001b[0m\u001b[0m_partial\u001b[0m\u001b[0;34m(\u001b[0m\u001b[0;34m*\u001b[0m\u001b[0margs\u001b[0m\u001b[0;34m,\u001b[0m \u001b[0;34m**\u001b[0m\u001b[0mkwargs\u001b[0m\u001b[0;34m)\u001b[0m\u001b[0;34m\u001b[0m\u001b[0;34m\u001b[0m\u001b[0m\n\u001b[0m\u001b[1;32m    304\u001b[0m         \u001b[0;32mexcept\u001b[0m \u001b[0mTypeError\u001b[0m \u001b[0;32mas\u001b[0m \u001b[0mexc\u001b[0m\u001b[0;34m:\u001b[0m\u001b[0;34m\u001b[0m\u001b[0;34m\u001b[0m\u001b[0m\n\u001b[1;32m    305\u001b[0m             \u001b[0;32mif\u001b[0m \u001b[0mself\u001b[0m\u001b[0;34m.\u001b[0m\u001b[0m_should_curry\u001b[0m\u001b[0;34m(\u001b[0m\u001b[0margs\u001b[0m\u001b[0;34m,\u001b[0m \u001b[0mkwargs\u001b[0m\u001b[0;34m,\u001b[0m \u001b[0mexc\u001b[0m\u001b[0;34m)\u001b[0m\u001b[0;34m:\u001b[0m\u001b[0;34m\u001b[0m\u001b[0;34m\u001b[0m\u001b[0m\n",
      "\u001b[0;32m~/miniconda3/envs/corona/lib/python3.7/site-packages/altair/vegalite/data.py\u001b[0m in \u001b[0;36mdefault_data_transformer\u001b[0;34m(data, max_rows)\u001b[0m\n\u001b[1;32m     11\u001b[0m \u001b[0;34m@\u001b[0m\u001b[0mcurry\u001b[0m\u001b[0;34m\u001b[0m\u001b[0;34m\u001b[0m\u001b[0m\n\u001b[1;32m     12\u001b[0m \u001b[0;32mdef\u001b[0m \u001b[0mdefault_data_transformer\u001b[0m\u001b[0;34m(\u001b[0m\u001b[0mdata\u001b[0m\u001b[0;34m,\u001b[0m \u001b[0mmax_rows\u001b[0m\u001b[0;34m=\u001b[0m\u001b[0;36m5000\u001b[0m\u001b[0;34m)\u001b[0m\u001b[0;34m:\u001b[0m\u001b[0;34m\u001b[0m\u001b[0;34m\u001b[0m\u001b[0m\n\u001b[0;32m---> 13\u001b[0;31m     \u001b[0;32mreturn\u001b[0m \u001b[0mpipe\u001b[0m\u001b[0;34m(\u001b[0m\u001b[0mdata\u001b[0m\u001b[0;34m,\u001b[0m \u001b[0mlimit_rows\u001b[0m\u001b[0;34m(\u001b[0m\u001b[0mmax_rows\u001b[0m\u001b[0;34m=\u001b[0m\u001b[0mmax_rows\u001b[0m\u001b[0;34m)\u001b[0m\u001b[0;34m,\u001b[0m \u001b[0mto_values\u001b[0m\u001b[0;34m)\u001b[0m\u001b[0;34m\u001b[0m\u001b[0;34m\u001b[0m\u001b[0m\n\u001b[0m\u001b[1;32m     14\u001b[0m \u001b[0;34m\u001b[0m\u001b[0m\n\u001b[1;32m     15\u001b[0m \u001b[0;34m\u001b[0m\u001b[0m\n",
      "\u001b[0;32m~/miniconda3/envs/corona/lib/python3.7/site-packages/toolz/functoolz.py\u001b[0m in \u001b[0;36mpipe\u001b[0;34m(data, *funcs)\u001b[0m\n\u001b[1;32m    632\u001b[0m     \"\"\"\n\u001b[1;32m    633\u001b[0m     \u001b[0;32mfor\u001b[0m \u001b[0mfunc\u001b[0m \u001b[0;32min\u001b[0m \u001b[0mfuncs\u001b[0m\u001b[0;34m:\u001b[0m\u001b[0;34m\u001b[0m\u001b[0;34m\u001b[0m\u001b[0m\n\u001b[0;32m--> 634\u001b[0;31m         \u001b[0mdata\u001b[0m \u001b[0;34m=\u001b[0m \u001b[0mfunc\u001b[0m\u001b[0;34m(\u001b[0m\u001b[0mdata\u001b[0m\u001b[0;34m)\u001b[0m\u001b[0;34m\u001b[0m\u001b[0;34m\u001b[0m\u001b[0m\n\u001b[0m\u001b[1;32m    635\u001b[0m     \u001b[0;32mreturn\u001b[0m \u001b[0mdata\u001b[0m\u001b[0;34m\u001b[0m\u001b[0;34m\u001b[0m\u001b[0m\n\u001b[1;32m    636\u001b[0m \u001b[0;34m\u001b[0m\u001b[0m\n",
      "\u001b[0;32m~/miniconda3/envs/corona/lib/python3.7/site-packages/toolz/functoolz.py\u001b[0m in \u001b[0;36m__call__\u001b[0;34m(self, *args, **kwargs)\u001b[0m\n\u001b[1;32m    301\u001b[0m     \u001b[0;32mdef\u001b[0m \u001b[0m__call__\u001b[0m\u001b[0;34m(\u001b[0m\u001b[0mself\u001b[0m\u001b[0;34m,\u001b[0m \u001b[0;34m*\u001b[0m\u001b[0margs\u001b[0m\u001b[0;34m,\u001b[0m \u001b[0;34m**\u001b[0m\u001b[0mkwargs\u001b[0m\u001b[0;34m)\u001b[0m\u001b[0;34m:\u001b[0m\u001b[0;34m\u001b[0m\u001b[0;34m\u001b[0m\u001b[0m\n\u001b[1;32m    302\u001b[0m         \u001b[0;32mtry\u001b[0m\u001b[0;34m:\u001b[0m\u001b[0;34m\u001b[0m\u001b[0;34m\u001b[0m\u001b[0m\n\u001b[0;32m--> 303\u001b[0;31m             \u001b[0;32mreturn\u001b[0m \u001b[0mself\u001b[0m\u001b[0;34m.\u001b[0m\u001b[0m_partial\u001b[0m\u001b[0;34m(\u001b[0m\u001b[0;34m*\u001b[0m\u001b[0margs\u001b[0m\u001b[0;34m,\u001b[0m \u001b[0;34m**\u001b[0m\u001b[0mkwargs\u001b[0m\u001b[0;34m)\u001b[0m\u001b[0;34m\u001b[0m\u001b[0;34m\u001b[0m\u001b[0m\n\u001b[0m\u001b[1;32m    304\u001b[0m         \u001b[0;32mexcept\u001b[0m \u001b[0mTypeError\u001b[0m \u001b[0;32mas\u001b[0m \u001b[0mexc\u001b[0m\u001b[0;34m:\u001b[0m\u001b[0;34m\u001b[0m\u001b[0;34m\u001b[0m\u001b[0m\n\u001b[1;32m    305\u001b[0m             \u001b[0;32mif\u001b[0m \u001b[0mself\u001b[0m\u001b[0;34m.\u001b[0m\u001b[0m_should_curry\u001b[0m\u001b[0;34m(\u001b[0m\u001b[0margs\u001b[0m\u001b[0;34m,\u001b[0m \u001b[0mkwargs\u001b[0m\u001b[0;34m,\u001b[0m \u001b[0mexc\u001b[0m\u001b[0;34m)\u001b[0m\u001b[0;34m:\u001b[0m\u001b[0;34m\u001b[0m\u001b[0;34m\u001b[0m\u001b[0m\n",
      "\u001b[0;32m~/miniconda3/envs/corona/lib/python3.7/site-packages/altair/utils/data.py\u001b[0m in \u001b[0;36mto_values\u001b[0;34m(data)\u001b[0m\n\u001b[1;32m    138\u001b[0m         \u001b[0;32mreturn\u001b[0m \u001b[0;34m{\u001b[0m\u001b[0;34m'values'\u001b[0m\u001b[0;34m:\u001b[0m \u001b[0mdata\u001b[0m\u001b[0;34m}\u001b[0m\u001b[0;34m\u001b[0m\u001b[0;34m\u001b[0m\u001b[0m\n\u001b[1;32m    139\u001b[0m     \u001b[0;32melif\u001b[0m \u001b[0misinstance\u001b[0m\u001b[0;34m(\u001b[0m\u001b[0mdata\u001b[0m\u001b[0;34m,\u001b[0m \u001b[0mpd\u001b[0m\u001b[0;34m.\u001b[0m\u001b[0mDataFrame\u001b[0m\u001b[0;34m)\u001b[0m\u001b[0;34m:\u001b[0m\u001b[0;34m\u001b[0m\u001b[0;34m\u001b[0m\u001b[0m\n\u001b[0;32m--> 140\u001b[0;31m         \u001b[0mdata\u001b[0m \u001b[0;34m=\u001b[0m \u001b[0msanitize_dataframe\u001b[0m\u001b[0;34m(\u001b[0m\u001b[0mdata\u001b[0m\u001b[0;34m)\u001b[0m\u001b[0;34m\u001b[0m\u001b[0;34m\u001b[0m\u001b[0m\n\u001b[0m\u001b[1;32m    141\u001b[0m         \u001b[0;32mreturn\u001b[0m \u001b[0;34m{\u001b[0m\u001b[0;34m'values'\u001b[0m\u001b[0;34m:\u001b[0m \u001b[0mdata\u001b[0m\u001b[0;34m.\u001b[0m\u001b[0mto_dict\u001b[0m\u001b[0;34m(\u001b[0m\u001b[0morient\u001b[0m\u001b[0;34m=\u001b[0m\u001b[0;34m'records'\u001b[0m\u001b[0;34m)\u001b[0m\u001b[0;34m}\u001b[0m\u001b[0;34m\u001b[0m\u001b[0;34m\u001b[0m\u001b[0m\n\u001b[1;32m    142\u001b[0m     \u001b[0;32melif\u001b[0m \u001b[0misinstance\u001b[0m\u001b[0;34m(\u001b[0m\u001b[0mdata\u001b[0m\u001b[0;34m,\u001b[0m \u001b[0mdict\u001b[0m\u001b[0;34m)\u001b[0m\u001b[0;34m:\u001b[0m\u001b[0;34m\u001b[0m\u001b[0;34m\u001b[0m\u001b[0m\n",
      "\u001b[0;32m~/miniconda3/envs/corona/lib/python3.7/site-packages/altair/utils/core.py\u001b[0m in \u001b[0;36msanitize_dataframe\u001b[0;34m(df)\u001b[0m\n\u001b[1;32m    221\u001b[0m             \u001b[0;31m# otherwise it will give an error on np.issubdtype(dtype, np.integer)\u001b[0m\u001b[0;34m\u001b[0m\u001b[0;34m\u001b[0m\u001b[0;34m\u001b[0m\u001b[0m\n\u001b[1;32m    222\u001b[0m             \u001b[0;32mcontinue\u001b[0m\u001b[0;34m\u001b[0m\u001b[0;34m\u001b[0m\u001b[0m\n\u001b[0;32m--> 223\u001b[0;31m         \u001b[0;32melif\u001b[0m \u001b[0mnp\u001b[0m\u001b[0;34m.\u001b[0m\u001b[0missubdtype\u001b[0m\u001b[0;34m(\u001b[0m\u001b[0mdtype\u001b[0m\u001b[0;34m,\u001b[0m \u001b[0mnp\u001b[0m\u001b[0;34m.\u001b[0m\u001b[0minteger\u001b[0m\u001b[0;34m)\u001b[0m\u001b[0;34m:\u001b[0m\u001b[0;34m\u001b[0m\u001b[0;34m\u001b[0m\u001b[0m\n\u001b[0m\u001b[1;32m    224\u001b[0m             \u001b[0;31m# convert integers to objects; np.int is not JSON serializable\u001b[0m\u001b[0;34m\u001b[0m\u001b[0;34m\u001b[0m\u001b[0;34m\u001b[0m\u001b[0m\n\u001b[1;32m    225\u001b[0m             \u001b[0mdf\u001b[0m\u001b[0;34m[\u001b[0m\u001b[0mcol_name\u001b[0m\u001b[0;34m]\u001b[0m \u001b[0;34m=\u001b[0m \u001b[0mdf\u001b[0m\u001b[0;34m[\u001b[0m\u001b[0mcol_name\u001b[0m\u001b[0;34m]\u001b[0m\u001b[0;34m.\u001b[0m\u001b[0mastype\u001b[0m\u001b[0;34m(\u001b[0m\u001b[0mobject\u001b[0m\u001b[0;34m)\u001b[0m\u001b[0;34m\u001b[0m\u001b[0;34m\u001b[0m\u001b[0m\n",
      "\u001b[0;32m~/miniconda3/envs/corona/lib/python3.7/site-packages/numpy/core/numerictypes.py\u001b[0m in \u001b[0;36missubdtype\u001b[0;34m(arg1, arg2)\u001b[0m\n\u001b[1;32m    391\u001b[0m     \"\"\"\n\u001b[1;32m    392\u001b[0m     \u001b[0;32mif\u001b[0m \u001b[0;32mnot\u001b[0m \u001b[0missubclass_\u001b[0m\u001b[0;34m(\u001b[0m\u001b[0marg1\u001b[0m\u001b[0;34m,\u001b[0m \u001b[0mgeneric\u001b[0m\u001b[0;34m)\u001b[0m\u001b[0;34m:\u001b[0m\u001b[0;34m\u001b[0m\u001b[0;34m\u001b[0m\u001b[0m\n\u001b[0;32m--> 393\u001b[0;31m         \u001b[0marg1\u001b[0m \u001b[0;34m=\u001b[0m \u001b[0mdtype\u001b[0m\u001b[0;34m(\u001b[0m\u001b[0marg1\u001b[0m\u001b[0;34m)\u001b[0m\u001b[0;34m.\u001b[0m\u001b[0mtype\u001b[0m\u001b[0;34m\u001b[0m\u001b[0;34m\u001b[0m\u001b[0m\n\u001b[0m\u001b[1;32m    394\u001b[0m     \u001b[0;32mif\u001b[0m \u001b[0;32mnot\u001b[0m \u001b[0missubclass_\u001b[0m\u001b[0;34m(\u001b[0m\u001b[0marg2\u001b[0m\u001b[0;34m,\u001b[0m \u001b[0mgeneric\u001b[0m\u001b[0;34m)\u001b[0m\u001b[0;34m:\u001b[0m\u001b[0;34m\u001b[0m\u001b[0;34m\u001b[0m\u001b[0m\n\u001b[1;32m    395\u001b[0m         \u001b[0marg2_orig\u001b[0m \u001b[0;34m=\u001b[0m \u001b[0marg2\u001b[0m\u001b[0;34m\u001b[0m\u001b[0;34m\u001b[0m\u001b[0m\n",
      "\u001b[0;31mTypeError\u001b[0m: data type not understood"
     ]
    },
    {
     "data": {
      "text/plain": [
       "alt.LayerChart(...)"
      ]
     },
     "execution_count": 118,
     "metadata": {},
     "output_type": "execute_result"
    }
   ],
   "source": [
    "#hide_input\n",
    "baseline_countries = ['Occitanie','Hauts-de-France','Ile-de-France']\n",
    "max_date = dff2['date'].max()\n",
    "color_domain = list(dff2['maille_nom'].unique())\n",
    "#color_range = list(map(get_country_colors, color_domain))\n",
    "\n",
    "def make_since_chart(highlight_countries=[], baseline_countries=baseline_countries):\n",
    "    selection = alt.selection_multi(fields=['maille_nom'], bind='legend', \n",
    "                                    init=[{'maille_nom': x} for x in highlight_countries + baseline_countries])\n",
    "\n",
    "    base = alt.Chart(dff2, width=550).encode(\n",
    "        x=f'{COL_X}:Q',\n",
    "        y=alt.Y('cas_confirmes:Q', scale=alt.Scale(type='linear'), axis=alt.Axis(title='Confirmed cases')),\n",
    "        color=alt.Color('maille_nom:N', scale=alt.Scale(domain=color_domain, range=color_range)),\n",
    "        tooltip=list(dff2),\n",
    "        opacity=alt.condition(selection, alt.value(1), alt.value(0.05))\n",
    "    )\n",
    "    max_day = dff2[COL_X].max()\n",
    "    ref = pd.DataFrame([[x, SINCE_CASES_NUM*1.33**x] for x in range(max_day+1)], columns=[COL_X, 'cas_confirmes'])\n",
    "    base_ref = alt.Chart(ref).encode(x=f'{COL_X}:Q', y='cas_confirmes:Q')\n",
    "    return (\n",
    "        base_ref.mark_line(color='black', opacity=.5, strokeDash=[3,3]) +\n",
    "        base_ref.transform_filter(\n",
    "            alt.datum[COL_X] >= max_day\n",
    "        ).mark_text(dy=-6, align='right', fontSize=10, text='33% Daily Growth') +\n",
    "        base.mark_line(point=True).add_selection(selection) + \n",
    "        base.transform_filter(\n",
    "            alt.datum['date'] >= int(max_date.timestamp() * 1000)\n",
    "        ).mark_text(dy=-8, align='right', fontWeight='bold').encode(text='maille_nom:N')\n",
    "    ).properties(\n",
    "        #title=f\"Compare {', '.join(highlight_countries)} death trajectory with {', '.join(baseline_countries)}\"\n",
    "        title=f\"Compare countries confirmed case trajectories\"\n",
    "    )\n",
    "\n",
    "chart = make_since_chart()\n",
    "chart"
   ]
  },
  {
   "cell_type": "code",
   "execution_count": null,
   "metadata": {},
   "outputs": [],
   "source": []
  }
 ],
 "metadata": {
  "kernelspec": {
   "display_name": "Python 3",
   "language": "python",
   "name": "python3"
  },
  "language_info": {
   "codemirror_mode": {
    "name": "ipython",
    "version": 3
   },
   "file_extension": ".py",
   "mimetype": "text/x-python",
   "name": "python",
   "nbconvert_exporter": "python",
   "pygments_lexer": "ipython3",
   "version": "3.7.6"
  }
 },
 "nbformat": 4,
 "nbformat_minor": 4
}
