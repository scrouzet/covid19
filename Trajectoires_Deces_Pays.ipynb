{
 "cells": [
  {
   "cell_type": "markdown",
   "metadata": {
    "papermill": {
     "duration": 0.012581,
     "end_time": "2020-03-18T14:03:41.471053",
     "exception": false,
     "start_time": "2020-03-18T14:03:41.458472",
     "status": "completed"
    },
    "tags": []
   },
   "source": [
    "# Compare Country Death Trajectories\n",
    "\n",
    "Inspired by:\n",
    "- https://github.com/pratapvardhan/notebooks/blob/master/covid19/covid19-compare-country-death-trajectories.ipynb"
   ]
  },
  {
   "cell_type": "code",
   "execution_count": 1,
   "metadata": {
    "papermill": {
     "duration": 0.385057,
     "end_time": "2020-03-18T14:03:41.865313",
     "exception": false,
     "start_time": "2020-03-18T14:03:41.480256",
     "status": "completed"
    },
    "tags": []
   },
   "outputs": [],
   "source": [
    "#hide\n",
    "import pandas as pd\n",
    "import altair as alt\n",
    "from IPython.display import HTML"
   ]
  },
  {
   "cell_type": "code",
   "execution_count": 2,
   "metadata": {
    "papermill": {
     "duration": 0.070328,
     "end_time": "2020-03-18T14:03:41.945237",
     "exception": false,
     "start_time": "2020-03-18T14:03:41.874909",
     "status": "completed"
    },
    "tags": []
   },
   "outputs": [],
   "source": [
    "#hide\n",
    "#url = ('https://github.com/CSSEGISandData/COVID-19/blob/master/csse_covid_19_data/'\n",
    "#       'csse_covid_19_time_series/time_series_19-covid-Deaths.csv')\n",
    "url = ('https://raw.githubusercontent.com/CSSEGISandData/COVID-19/master/csse_covid_19_data/'\n",
    "       'csse_covid_19_time_series/time_series_19-covid-Deaths.csv')\n",
    "df = pd.read_csv(url)\n",
    "# rename countries\n",
    "df['Country/Region'] = df['Country/Region'].replace({'Korea, South': 'South Korea'})\n",
    "dt_cols = df.columns[~df.columns.isin(['Province/State', 'Country/Region', 'Lat', 'Long'])]"
   ]
  },
  {
   "cell_type": "code",
   "execution_count": 3,
   "metadata": {
    "papermill": {
     "duration": 0.030413,
     "end_time": "2020-03-18T14:03:41.985185",
     "exception": false,
     "start_time": "2020-03-18T14:03:41.954772",
     "status": "completed"
    },
    "tags": []
   },
   "outputs": [],
   "source": [
    "#hide\n",
    "dff = (df.groupby('Country/Region')[dt_cols].sum()\n",
    "       .stack().reset_index(name='Confirmed Cases')\n",
    "       .rename(columns={'level_1': 'Date', 'Country/Region': 'Country'}))\n",
    "dff['Date'] = pd.to_datetime(dff['Date'], format='%m/%d/%y')"
   ]
  },
  {
   "cell_type": "code",
   "execution_count": 4,
   "metadata": {},
   "outputs": [
    {
     "data": {
      "text/plain": [
       "0      2020-01-22\n",
       "1      2020-01-23\n",
       "2      2020-01-24\n",
       "3      2020-01-25\n",
       "4      2020-01-26\n",
       "          ...    \n",
       "8985   2020-03-15\n",
       "8986   2020-03-16\n",
       "8987   2020-03-17\n",
       "8988   2020-03-18\n",
       "8989   2020-03-19\n",
       "Name: Date, Length: 8990, dtype: datetime64[ns]"
      ]
     },
     "execution_count": 4,
     "metadata": {},
     "output_type": "execute_result"
    }
   ],
   "source": [
    "dff['Date']"
   ]
  },
  {
   "cell_type": "code",
   "execution_count": 5,
   "metadata": {},
   "outputs": [
    {
     "data": {
      "text/plain": [
       "Country                    object\n",
       "Date               datetime64[ns]\n",
       "Confirmed Cases             int64\n",
       "dtype: object"
      ]
     },
     "execution_count": 5,
     "metadata": {},
     "output_type": "execute_result"
    }
   ],
   "source": [
    "dff.dtypes"
   ]
  },
  {
   "cell_type": "code",
   "execution_count": 6,
   "metadata": {},
   "outputs": [
    {
     "data": {
      "text/plain": [
       "Index(['1/22/20', '1/23/20', '1/24/20', '1/25/20', '1/26/20', '1/27/20',\n",
       "       '1/28/20', '1/29/20', '1/30/20', '1/31/20', '2/1/20', '2/2/20',\n",
       "       '2/3/20', '2/4/20', '2/5/20', '2/6/20', '2/7/20', '2/8/20', '2/9/20',\n",
       "       '2/10/20', '2/11/20', '2/12/20', '2/13/20', '2/14/20', '2/15/20',\n",
       "       '2/16/20', '2/17/20', '2/18/20', '2/19/20', '2/20/20', '2/21/20',\n",
       "       '2/22/20', '2/23/20', '2/24/20', '2/25/20', '2/26/20', '2/27/20',\n",
       "       '2/28/20', '2/29/20', '3/1/20', '3/2/20', '3/3/20', '3/4/20', '3/5/20',\n",
       "       '3/6/20', '3/7/20', '3/8/20', '3/9/20', '3/10/20', '3/11/20', '3/12/20',\n",
       "       '3/13/20', '3/14/20', '3/15/20', '3/16/20', '3/17/20', '3/18/20',\n",
       "       '3/19/20'],\n",
       "      dtype='object')"
      ]
     },
     "execution_count": 6,
     "metadata": {},
     "output_type": "execute_result"
    }
   ],
   "source": [
    "dt_cols"
   ]
  },
  {
   "cell_type": "code",
   "execution_count": 7,
   "metadata": {
    "papermill": {
     "duration": 0.025796,
     "end_time": "2020-03-18T14:03:42.020206",
     "exception": false,
     "start_time": "2020-03-18T14:03:41.994410",
     "status": "completed"
    },
    "tags": []
   },
   "outputs": [],
   "source": [
    "#hide\n",
    "MIN_CASES = 10\n",
    "LAST_DATE = dt_cols[-1]\n",
    "# sometimes last column may be empty, then go backwards\n",
    "for c in dt_cols[::-1]:\n",
    "    if not df[c].fillna(0).eq(0).all():\n",
    "        LAST_DATE = c\n",
    "        break\n",
    "countries = dff[dff['Date'].eq(LAST_DATE) & dff['Confirmed Cases'].ge(MIN_CASES) & \n",
    "        dff['Country'].ne('China')\n",
    "       ].sort_values(by='Confirmed Cases', ascending=False)\n",
    "countries = countries['Country'].values"
   ]
  },
  {
   "cell_type": "code",
   "execution_count": 8,
   "metadata": {
    "papermill": {
     "duration": 0.034811,
     "end_time": "2020-03-18T14:03:42.064343",
     "exception": false,
     "start_time": "2020-03-18T14:03:42.029532",
     "status": "completed"
    },
    "tags": []
   },
   "outputs": [],
   "source": [
    "#hide\n",
    "SINCE_CASES_NUM = 10\n",
    "COL_X = f'Days since {SINCE_CASES_NUM}th death'\n",
    "dff2 = dff[dff['Country'].isin(countries)].copy()\n",
    "days_since = (dff2.assign(F=dff2['Confirmed Cases'].ge(SINCE_CASES_NUM))\n",
    "              .set_index('Date')\n",
    "              .groupby('Country')['F'].transform('idxmax'))\n",
    "dff2[COL_X] = (dff2['Date'] - days_since.values).dt.days.values\n",
    "dff2 = dff2[dff2[COL_X].ge(0)]"
   ]
  },
  {
   "cell_type": "code",
   "execution_count": 9,
   "metadata": {},
   "outputs": [
    {
     "data": {
      "text/html": [
       "<div>\n",
       "<style scoped>\n",
       "    .dataframe tbody tr th:only-of-type {\n",
       "        vertical-align: middle;\n",
       "    }\n",
       "\n",
       "    .dataframe tbody tr th {\n",
       "        vertical-align: top;\n",
       "    }\n",
       "\n",
       "    .dataframe thead th {\n",
       "        text-align: right;\n",
       "    }\n",
       "</style>\n",
       "<table border=\"1\" class=\"dataframe\">\n",
       "  <thead>\n",
       "    <tr style=\"text-align: right;\">\n",
       "      <th></th>\n",
       "      <th>Country</th>\n",
       "      <th>Date</th>\n",
       "      <th>Confirmed Cases</th>\n",
       "      <th>Days since 10th death</th>\n",
       "    </tr>\n",
       "  </thead>\n",
       "  <tbody>\n",
       "    <tr>\n",
       "      <th>925</th>\n",
       "      <td>Belgium</td>\n",
       "      <td>2020-03-17</td>\n",
       "      <td>10</td>\n",
       "      <td>0</td>\n",
       "    </tr>\n",
       "    <tr>\n",
       "      <th>926</th>\n",
       "      <td>Belgium</td>\n",
       "      <td>2020-03-18</td>\n",
       "      <td>14</td>\n",
       "      <td>1</td>\n",
       "    </tr>\n",
       "    <tr>\n",
       "      <th>927</th>\n",
       "      <td>Belgium</td>\n",
       "      <td>2020-03-19</td>\n",
       "      <td>21</td>\n",
       "      <td>2</td>\n",
       "    </tr>\n",
       "    <tr>\n",
       "      <th>3119</th>\n",
       "      <td>France</td>\n",
       "      <td>2020-03-07</td>\n",
       "      <td>11</td>\n",
       "      <td>0</td>\n",
       "    </tr>\n",
       "    <tr>\n",
       "      <th>3120</th>\n",
       "      <td>France</td>\n",
       "      <td>2020-03-08</td>\n",
       "      <td>19</td>\n",
       "      <td>1</td>\n",
       "    </tr>\n",
       "    <tr>\n",
       "      <th>...</th>\n",
       "      <td>...</td>\n",
       "      <td>...</td>\n",
       "      <td>...</td>\n",
       "      <td>...</td>\n",
       "    </tr>\n",
       "    <tr>\n",
       "      <th>8695</th>\n",
       "      <td>United Kingdom</td>\n",
       "      <td>2020-03-15</td>\n",
       "      <td>21</td>\n",
       "      <td>1</td>\n",
       "    </tr>\n",
       "    <tr>\n",
       "      <th>8696</th>\n",
       "      <td>United Kingdom</td>\n",
       "      <td>2020-03-16</td>\n",
       "      <td>56</td>\n",
       "      <td>2</td>\n",
       "    </tr>\n",
       "    <tr>\n",
       "      <th>8697</th>\n",
       "      <td>United Kingdom</td>\n",
       "      <td>2020-03-17</td>\n",
       "      <td>56</td>\n",
       "      <td>3</td>\n",
       "    </tr>\n",
       "    <tr>\n",
       "      <th>8698</th>\n",
       "      <td>United Kingdom</td>\n",
       "      <td>2020-03-18</td>\n",
       "      <td>72</td>\n",
       "      <td>4</td>\n",
       "    </tr>\n",
       "    <tr>\n",
       "      <th>8699</th>\n",
       "      <td>United Kingdom</td>\n",
       "      <td>2020-03-19</td>\n",
       "      <td>138</td>\n",
       "      <td>5</td>\n",
       "    </tr>\n",
       "  </tbody>\n",
       "</table>\n",
       "<p>171 rows × 4 columns</p>\n",
       "</div>"
      ],
      "text/plain": [
       "             Country       Date  Confirmed Cases  Days since 10th death\n",
       "925          Belgium 2020-03-17               10                      0\n",
       "926          Belgium 2020-03-18               14                      1\n",
       "927          Belgium 2020-03-19               21                      2\n",
       "3119          France 2020-03-07               11                      0\n",
       "3120          France 2020-03-08               19                      1\n",
       "...              ...        ...              ...                    ...\n",
       "8695  United Kingdom 2020-03-15               21                      1\n",
       "8696  United Kingdom 2020-03-16               56                      2\n",
       "8697  United Kingdom 2020-03-17               56                      3\n",
       "8698  United Kingdom 2020-03-18               72                      4\n",
       "8699  United Kingdom 2020-03-19              138                      5\n",
       "\n",
       "[171 rows x 4 columns]"
      ]
     },
     "execution_count": 9,
     "metadata": {},
     "output_type": "execute_result"
    }
   ],
   "source": [
    "dff2"
   ]
  },
  {
   "cell_type": "code",
   "execution_count": 16,
   "metadata": {
    "papermill": {
     "duration": 0.01717,
     "end_time": "2020-03-18T14:03:42.093185",
     "exception": false,
     "start_time": "2020-03-18T14:03:42.076015",
     "status": "completed"
    },
    "tags": []
   },
   "outputs": [],
   "source": [
    "#hide\n",
    "def get_country_colors(x):\n",
    "    mapping = {\n",
    "        'Italy': 'black',\n",
    "        'Iran': '#A1BA59',\n",
    "        'South Korea': '#A1BA59', #'#E45756',\n",
    "        'Spain': '#E45756', #'#F58518',\n",
    "        'Germany': '#9D755D',\n",
    "        'France': '#2495D3', #'#F58518',\n",
    "        'US': '#9D755D', #'#2495D3',\n",
    "        'Switzerland': '#9D755D',\n",
    "        'Norway': '#C1B7AD',\n",
    "        'United Kingdom': '#C1B7AD', #'#2495D3',\n",
    "        'Netherlands': '#F58518', #'#C1B7AD',\n",
    "        'Sweden': '#C1B7AD',\n",
    "        'Belgium': '#C1B7AD',\n",
    "        'Denmark': '#C1B7AD',\n",
    "        'Austria': '#C1B7AD',\n",
    "        'Japan': '#9467bd'}\n",
    "    return mapping.get(x, '#C1B7AD')"
   ]
  },
  {
   "cell_type": "code",
   "execution_count": 17,
   "metadata": {
    "papermill": {
     "duration": 0.024205,
     "end_time": "2020-03-18T14:03:42.127040",
     "exception": false,
     "start_time": "2020-03-18T14:03:42.102835",
     "status": "completed"
    },
    "tags": []
   },
   "outputs": [],
   "source": [
    "#hide_input\n",
    "baseline_countries = ['Italy', 'South Korea', 'Japan', 'Spain', 'France', 'United Kingdom', 'Netherlands', 'Germany']\n",
    "max_date = dff2['Date'].max()\n",
    "color_domain = list(dff2['Country'].unique())\n",
    "color_range = list(map(get_country_colors, color_domain))"
   ]
  },
  {
   "cell_type": "code",
   "execution_count": 18,
   "metadata": {},
   "outputs": [
    {
     "data": {
      "text/html": [
       "<div>\n",
       "<style scoped>\n",
       "    .dataframe tbody tr th:only-of-type {\n",
       "        vertical-align: middle;\n",
       "    }\n",
       "\n",
       "    .dataframe tbody tr th {\n",
       "        vertical-align: top;\n",
       "    }\n",
       "\n",
       "    .dataframe thead th {\n",
       "        text-align: right;\n",
       "    }\n",
       "</style>\n",
       "<table border=\"1\" class=\"dataframe\">\n",
       "  <thead>\n",
       "    <tr style=\"text-align: right;\">\n",
       "      <th></th>\n",
       "      <th>Country</th>\n",
       "      <th>Date</th>\n",
       "      <th>Confirmed Cases</th>\n",
       "      <th>Days since 10th death</th>\n",
       "    </tr>\n",
       "  </thead>\n",
       "  <tbody>\n",
       "    <tr>\n",
       "      <th>925</th>\n",
       "      <td>Belgium</td>\n",
       "      <td>2020-03-17</td>\n",
       "      <td>10</td>\n",
       "      <td>0</td>\n",
       "    </tr>\n",
       "    <tr>\n",
       "      <th>926</th>\n",
       "      <td>Belgium</td>\n",
       "      <td>2020-03-18</td>\n",
       "      <td>14</td>\n",
       "      <td>1</td>\n",
       "    </tr>\n",
       "    <tr>\n",
       "      <th>927</th>\n",
       "      <td>Belgium</td>\n",
       "      <td>2020-03-19</td>\n",
       "      <td>21</td>\n",
       "      <td>2</td>\n",
       "    </tr>\n",
       "    <tr>\n",
       "      <th>3119</th>\n",
       "      <td>France</td>\n",
       "      <td>2020-03-07</td>\n",
       "      <td>11</td>\n",
       "      <td>0</td>\n",
       "    </tr>\n",
       "    <tr>\n",
       "      <th>3120</th>\n",
       "      <td>France</td>\n",
       "      <td>2020-03-08</td>\n",
       "      <td>19</td>\n",
       "      <td>1</td>\n",
       "    </tr>\n",
       "    <tr>\n",
       "      <th>...</th>\n",
       "      <td>...</td>\n",
       "      <td>...</td>\n",
       "      <td>...</td>\n",
       "      <td>...</td>\n",
       "    </tr>\n",
       "    <tr>\n",
       "      <th>8695</th>\n",
       "      <td>United Kingdom</td>\n",
       "      <td>2020-03-15</td>\n",
       "      <td>21</td>\n",
       "      <td>1</td>\n",
       "    </tr>\n",
       "    <tr>\n",
       "      <th>8696</th>\n",
       "      <td>United Kingdom</td>\n",
       "      <td>2020-03-16</td>\n",
       "      <td>56</td>\n",
       "      <td>2</td>\n",
       "    </tr>\n",
       "    <tr>\n",
       "      <th>8697</th>\n",
       "      <td>United Kingdom</td>\n",
       "      <td>2020-03-17</td>\n",
       "      <td>56</td>\n",
       "      <td>3</td>\n",
       "    </tr>\n",
       "    <tr>\n",
       "      <th>8698</th>\n",
       "      <td>United Kingdom</td>\n",
       "      <td>2020-03-18</td>\n",
       "      <td>72</td>\n",
       "      <td>4</td>\n",
       "    </tr>\n",
       "    <tr>\n",
       "      <th>8699</th>\n",
       "      <td>United Kingdom</td>\n",
       "      <td>2020-03-19</td>\n",
       "      <td>138</td>\n",
       "      <td>5</td>\n",
       "    </tr>\n",
       "  </tbody>\n",
       "</table>\n",
       "<p>171 rows × 4 columns</p>\n",
       "</div>"
      ],
      "text/plain": [
       "             Country       Date  Confirmed Cases  Days since 10th death\n",
       "925          Belgium 2020-03-17               10                      0\n",
       "926          Belgium 2020-03-18               14                      1\n",
       "927          Belgium 2020-03-19               21                      2\n",
       "3119          France 2020-03-07               11                      0\n",
       "3120          France 2020-03-08               19                      1\n",
       "...              ...        ...              ...                    ...\n",
       "8695  United Kingdom 2020-03-15               21                      1\n",
       "8696  United Kingdom 2020-03-16               56                      2\n",
       "8697  United Kingdom 2020-03-17               56                      3\n",
       "8698  United Kingdom 2020-03-18               72                      4\n",
       "8699  United Kingdom 2020-03-19              138                      5\n",
       "\n",
       "[171 rows x 4 columns]"
      ]
     },
     "execution_count": 18,
     "metadata": {},
     "output_type": "execute_result"
    }
   ],
   "source": [
    "dff2"
   ]
  },
  {
   "cell_type": "code",
   "execution_count": 19,
   "metadata": {
    "papermill": {
     "duration": 0.024205,
     "end_time": "2020-03-18T14:03:42.127040",
     "exception": false,
     "start_time": "2020-03-18T14:03:42.102835",
     "status": "completed"
    },
    "tags": []
   },
   "outputs": [],
   "source": [
    "def make_since_chart(highlight_countries=[], baseline_countries=baseline_countries):\n",
    "    selection = alt.selection_multi(fields=['Country'], bind='legend', \n",
    "                                    init=[{'Country': x} for x in highlight_countries + baseline_countries])\n",
    "\n",
    "    base = alt.Chart(dff2, width=550).encode(\n",
    "        x=f'{COL_X}:Q',\n",
    "        y=alt.Y('Confirmed Cases:Q', scale=alt.Scale(type='log'), axis=alt.Axis(title='Cumulative Deaths')),\n",
    "        color=alt.Color('Country:N', scale=alt.Scale(domain=color_domain, range=color_range)),\n",
    "        tooltip=list(dff2),\n",
    "        opacity=alt.condition(selection, alt.value(1), alt.value(0.05))\n",
    "    )\n",
    "    max_day = dff2[COL_X].max()\n",
    "    ref = pd.DataFrame([[x, SINCE_CASES_NUM*1.33**x] for x in range(max_day+1)], columns=[COL_X, 'Confirmed Cases'])\n",
    "    base_ref = alt.Chart(ref).encode(x=f'{COL_X}:Q', y='Confirmed Cases:Q')\n",
    "    return (\n",
    "        base_ref.mark_line(color='black', opacity=.5, strokeDash=[3,3]) +\n",
    "        base_ref.transform_filter(\n",
    "            alt.datum[COL_X] >= max_day\n",
    "        ).mark_text(dy=-6, align='right', fontSize=10, text='33% Daily Growth') +\n",
    "        base.mark_line(point=True).add_selection(selection) + \n",
    "        base.transform_filter(\n",
    "            alt.datum['Date'] >= int(max_date.timestamp() * 1000)\n",
    "        ).mark_text(dy=-8, align='right', fontWeight='bold').encode(text='Country:N')\n",
    "    ).properties(\n",
    "        #title=f\"Compare {', '.join(highlight_countries)} death trajectory with {', '.join(baseline_countries)}\"\n",
    "        title=f\"Compare countries death trajectories\"\n",
    "    )"
   ]
  },
  {
   "cell_type": "markdown",
   "metadata": {
    "papermill": {
     "duration": 0.008663,
     "end_time": "2020-03-18T14:03:42.160388",
     "exception": false,
     "start_time": "2020-03-18T14:03:42.151725",
     "status": "completed"
    },
    "tags": []
   },
   "source": [
    "Click (Shift+ for multiple) on Countries legend to filter the visualization."
   ]
  },
  {
   "cell_type": "code",
   "execution_count": 20,
   "metadata": {},
   "outputs": [
    {
     "data": {
      "text/html": [
       "<small class=\"float-right\">Last Updated on March, 19 2020<small>"
      ],
      "text/plain": [
       "<IPython.core.display.HTML object>"
      ]
     },
     "execution_count": 20,
     "metadata": {},
     "output_type": "execute_result"
    }
   ],
   "source": [
    "#hide_input\n",
    "HTML(f'<small class=\"float-right\">Last Updated on {pd.to_datetime(LAST_DATE).strftime(\"%B, %d %Y\")}<small>')"
   ]
  },
  {
   "cell_type": "code",
   "execution_count": 21,
   "metadata": {
    "papermill": {
     "duration": 0.129089,
     "end_time": "2020-03-18T14:03:42.297656",
     "exception": false,
     "start_time": "2020-03-18T14:03:42.168567",
     "status": "completed"
    },
    "tags": []
   },
   "outputs": [
    {
     "data": {
      "text/html": [
       "\n",
       "<div id=\"altair-viz-fb5ce62ba89f434192b15ebbe466236e\"></div>\n",
       "<script type=\"text/javascript\">\n",
       "  (function(spec, embedOpt){\n",
       "    const outputDiv = document.getElementById(\"altair-viz-fb5ce62ba89f434192b15ebbe466236e\");\n",
       "    const paths = {\n",
       "      \"vega\": \"https://cdn.jsdelivr.net/npm//vega@5?noext\",\n",
       "      \"vega-lib\": \"https://cdn.jsdelivr.net/npm//vega-lib?noext\",\n",
       "      \"vega-lite\": \"https://cdn.jsdelivr.net/npm//vega-lite@4.0.2?noext\",\n",
       "      \"vega-embed\": \"https://cdn.jsdelivr.net/npm//vega-embed@6?noext\",\n",
       "    };\n",
       "\n",
       "    function loadScript(lib) {\n",
       "      return new Promise(function(resolve, reject) {\n",
       "        var s = document.createElement('script');\n",
       "        s.src = paths[lib];\n",
       "        s.async = true;\n",
       "        s.onload = () => resolve(paths[lib]);\n",
       "        s.onerror = () => reject(`Error loading script: ${paths[lib]}`);\n",
       "        document.getElementsByTagName(\"head\")[0].appendChild(s);\n",
       "      });\n",
       "    }\n",
       "\n",
       "    function showError(err) {\n",
       "      outputDiv.innerHTML = `<div class=\"error\" style=\"color:red;\">${err}</div>`;\n",
       "      throw err;\n",
       "    }\n",
       "\n",
       "    function displayChart(vegaEmbed) {\n",
       "      vegaEmbed(outputDiv, spec, embedOpt)\n",
       "        .catch(err => showError(`Javascript Error: ${err.message}<br>This usually means there's a typo in your chart specification. See the javascript console for the full traceback.`));\n",
       "    }\n",
       "\n",
       "    if(typeof define === \"function\" && define.amd) {\n",
       "      requirejs.config({paths});\n",
       "      require([\"vega-embed\"], displayChart, err => showError(`Error loading script: ${err.message}`));\n",
       "    } else if (typeof vegaEmbed === \"function\") {\n",
       "      displayChart(vegaEmbed);\n",
       "    } else {\n",
       "      loadScript(\"vega\")\n",
       "        .then(() => loadScript(\"vega-lite\"))\n",
       "        .then(() => loadScript(\"vega-embed\"))\n",
       "        .catch(showError)\n",
       "        .then(() => displayChart(vegaEmbed));\n",
       "    }\n",
       "  })({\"config\": {\"view\": {\"continuousWidth\": 400, \"continuousHeight\": 300}}, \"layer\": [{\"mark\": {\"type\": \"line\", \"color\": \"black\", \"opacity\": 0.5, \"strokeDash\": [3, 3]}, \"encoding\": {\"x\": {\"type\": \"quantitative\", \"field\": \"Days since 10th death\"}, \"y\": {\"type\": \"quantitative\", \"field\": \"Confirmed Cases\"}}}, {\"mark\": {\"type\": \"text\", \"align\": \"right\", \"dy\": -6, \"fontSize\": 10, \"text\": \"33% Daily Growth\"}, \"encoding\": {\"x\": {\"type\": \"quantitative\", \"field\": \"Days since 10th death\"}, \"y\": {\"type\": \"quantitative\", \"field\": \"Confirmed Cases\"}}, \"transform\": [{\"filter\": \"(datum['Days since 10th death'] >= 24)\"}]}, {\"data\": {\"name\": \"data-b8cb2506bde005adc57de15f9474b6ee\"}, \"mark\": {\"type\": \"line\", \"point\": true}, \"encoding\": {\"color\": {\"type\": \"nominal\", \"field\": \"Country\", \"scale\": {\"domain\": [\"Belgium\", \"France\", \"Germany\", \"Indonesia\", \"Iran\", \"Iraq\", \"Italy\", \"Japan\", \"Netherlands\", \"Philippines\", \"San Marino\", \"South Korea\", \"Spain\", \"Sweden\", \"Switzerland\", \"US\", \"United Kingdom\"], \"range\": [\"#C1B7AD\", \"#2495D3\", \"#9D755D\", \"#C1B7AD\", \"#A1BA59\", \"#C1B7AD\", \"black\", \"#9467bd\", \"#F58518\", \"#C1B7AD\", \"#C1B7AD\", \"#A1BA59\", \"#E45756\", \"#C1B7AD\", \"#9D755D\", \"#9D755D\", \"#C1B7AD\"]}}, \"opacity\": {\"condition\": {\"value\": 1, \"selection\": \"selector002\"}, \"value\": 0.05}, \"tooltip\": [{\"type\": \"nominal\", \"field\": \"Country\"}, {\"type\": \"temporal\", \"field\": \"Date\"}, {\"type\": \"quantitative\", \"field\": \"Confirmed Cases\"}, {\"type\": \"quantitative\", \"field\": \"Days since 10th death\"}], \"x\": {\"type\": \"quantitative\", \"field\": \"Days since 10th death\"}, \"y\": {\"type\": \"quantitative\", \"axis\": {\"title\": \"Cumulative Deaths\"}, \"field\": \"Confirmed Cases\", \"scale\": {\"type\": \"log\"}}}, \"selection\": {\"selector002\": {\"type\": \"multi\", \"fields\": [\"Country\"], \"bind\": \"legend\", \"init\": [{\"Country\": \"Italy\"}, {\"Country\": \"South Korea\"}, {\"Country\": \"Japan\"}, {\"Country\": \"Spain\"}, {\"Country\": \"France\"}, {\"Country\": \"United Kingdom\"}, {\"Country\": \"Netherlands\"}, {\"Country\": \"Germany\"}]}}, \"width\": 550}, {\"data\": {\"name\": \"data-b8cb2506bde005adc57de15f9474b6ee\"}, \"mark\": {\"type\": \"text\", \"align\": \"right\", \"dy\": -8, \"fontWeight\": \"bold\"}, \"encoding\": {\"color\": {\"type\": \"nominal\", \"field\": \"Country\", \"scale\": {\"domain\": [\"Belgium\", \"France\", \"Germany\", \"Indonesia\", \"Iran\", \"Iraq\", \"Italy\", \"Japan\", \"Netherlands\", \"Philippines\", \"San Marino\", \"South Korea\", \"Spain\", \"Sweden\", \"Switzerland\", \"US\", \"United Kingdom\"], \"range\": [\"#C1B7AD\", \"#2495D3\", \"#9D755D\", \"#C1B7AD\", \"#A1BA59\", \"#C1B7AD\", \"black\", \"#9467bd\", \"#F58518\", \"#C1B7AD\", \"#C1B7AD\", \"#A1BA59\", \"#E45756\", \"#C1B7AD\", \"#9D755D\", \"#9D755D\", \"#C1B7AD\"]}}, \"opacity\": {\"condition\": {\"value\": 1, \"selection\": \"selector002\"}, \"value\": 0.05}, \"text\": {\"type\": \"nominal\", \"field\": \"Country\"}, \"tooltip\": [{\"type\": \"nominal\", \"field\": \"Country\"}, {\"type\": \"temporal\", \"field\": \"Date\"}, {\"type\": \"quantitative\", \"field\": \"Confirmed Cases\"}, {\"type\": \"quantitative\", \"field\": \"Days since 10th death\"}], \"x\": {\"type\": \"quantitative\", \"field\": \"Days since 10th death\"}, \"y\": {\"type\": \"quantitative\", \"axis\": {\"title\": \"Cumulative Deaths\"}, \"field\": \"Confirmed Cases\", \"scale\": {\"type\": \"log\"}}}, \"transform\": [{\"filter\": \"(datum['Date'] >= 1584576000000)\"}], \"width\": 550}], \"data\": {\"name\": \"data-dd986f394fc4151175e9dd16550f94ba\"}, \"title\": \"Compare countries death trajectories\", \"$schema\": \"https://vega.github.io/schema/vega-lite/v4.0.2.json\", \"datasets\": {\"data-dd986f394fc4151175e9dd16550f94ba\": [{\"Days since 10th death\": 0, \"Confirmed Cases\": 10.0}, {\"Days since 10th death\": 1, \"Confirmed Cases\": 13.3}, {\"Days since 10th death\": 2, \"Confirmed Cases\": 17.689}, {\"Days since 10th death\": 3, \"Confirmed Cases\": 23.526370000000007}, {\"Days since 10th death\": 4, \"Confirmed Cases\": 31.290072100000007}, {\"Days since 10th death\": 5, \"Confirmed Cases\": 41.61579589300001}, {\"Days since 10th death\": 6, \"Confirmed Cases\": 55.34900853769002}, {\"Days since 10th death\": 7, \"Confirmed Cases\": 73.61418135512773}, {\"Days since 10th death\": 8, \"Confirmed Cases\": 97.90686120231989}, {\"Days since 10th death\": 9, \"Confirmed Cases\": 130.21612539908546}, {\"Days since 10th death\": 10, \"Confirmed Cases\": 173.18744678078366}, {\"Days since 10th death\": 11, \"Confirmed Cases\": 230.3393042184423}, {\"Days since 10th death\": 12, \"Confirmed Cases\": 306.35127461052826}, {\"Days since 10th death\": 13, \"Confirmed Cases\": 407.4471952320026}, {\"Days since 10th death\": 14, \"Confirmed Cases\": 541.9047696585635}, {\"Days since 10th death\": 15, \"Confirmed Cases\": 720.7333436458895}, {\"Days since 10th death\": 16, \"Confirmed Cases\": 958.575347049033}, {\"Days since 10th death\": 17, \"Confirmed Cases\": 1274.905211575214}, {\"Days since 10th death\": 18, \"Confirmed Cases\": 1695.6239313950348}, {\"Days since 10th death\": 19, \"Confirmed Cases\": 2255.179828755396}, {\"Days since 10th death\": 20, \"Confirmed Cases\": 2999.3891722446774}, {\"Days since 10th death\": 21, \"Confirmed Cases\": 3989.187599085421}, {\"Days since 10th death\": 22, \"Confirmed Cases\": 5305.61950678361}, {\"Days since 10th death\": 23, \"Confirmed Cases\": 7056.473944022201}, {\"Days since 10th death\": 24, \"Confirmed Cases\": 9385.110345549529}], \"data-b8cb2506bde005adc57de15f9474b6ee\": [{\"Country\": \"Belgium\", \"Date\": \"2020-03-17T00:00:00\", \"Confirmed Cases\": 10, \"Days since 10th death\": 0}, {\"Country\": \"Belgium\", \"Date\": \"2020-03-18T00:00:00\", \"Confirmed Cases\": 14, \"Days since 10th death\": 1}, {\"Country\": \"Belgium\", \"Date\": \"2020-03-19T00:00:00\", \"Confirmed Cases\": 21, \"Days since 10th death\": 2}, {\"Country\": \"France\", \"Date\": \"2020-03-07T00:00:00\", \"Confirmed Cases\": 11, \"Days since 10th death\": 0}, {\"Country\": \"France\", \"Date\": \"2020-03-08T00:00:00\", \"Confirmed Cases\": 19, \"Days since 10th death\": 1}, {\"Country\": \"France\", \"Date\": \"2020-03-09T00:00:00\", \"Confirmed Cases\": 19, \"Days since 10th death\": 2}, {\"Country\": \"France\", \"Date\": \"2020-03-10T00:00:00\", \"Confirmed Cases\": 33, \"Days since 10th death\": 3}, {\"Country\": \"France\", \"Date\": \"2020-03-11T00:00:00\", \"Confirmed Cases\": 48, \"Days since 10th death\": 4}, {\"Country\": \"France\", \"Date\": \"2020-03-12T00:00:00\", \"Confirmed Cases\": 48, \"Days since 10th death\": 5}, {\"Country\": \"France\", \"Date\": \"2020-03-13T00:00:00\", \"Confirmed Cases\": 79, \"Days since 10th death\": 6}, {\"Country\": \"France\", \"Date\": \"2020-03-14T00:00:00\", \"Confirmed Cases\": 91, \"Days since 10th death\": 7}, {\"Country\": \"France\", \"Date\": \"2020-03-15T00:00:00\", \"Confirmed Cases\": 91, \"Days since 10th death\": 8}, {\"Country\": \"France\", \"Date\": \"2020-03-16T00:00:00\", \"Confirmed Cases\": 148, \"Days since 10th death\": 9}, {\"Country\": \"France\", \"Date\": \"2020-03-17T00:00:00\", \"Confirmed Cases\": 148, \"Days since 10th death\": 10}, {\"Country\": \"France\", \"Date\": \"2020-03-18T00:00:00\", \"Confirmed Cases\": 148, \"Days since 10th death\": 11}, {\"Country\": \"France\", \"Date\": \"2020-03-19T00:00:00\", \"Confirmed Cases\": 243, \"Days since 10th death\": 12}, {\"Country\": \"Germany\", \"Date\": \"2020-03-15T00:00:00\", \"Confirmed Cases\": 11, \"Days since 10th death\": 0}, {\"Country\": \"Germany\", \"Date\": \"2020-03-16T00:00:00\", \"Confirmed Cases\": 17, \"Days since 10th death\": 1}, {\"Country\": \"Germany\", \"Date\": \"2020-03-17T00:00:00\", \"Confirmed Cases\": 24, \"Days since 10th death\": 2}, {\"Country\": \"Germany\", \"Date\": \"2020-03-18T00:00:00\", \"Confirmed Cases\": 28, \"Days since 10th death\": 3}, {\"Country\": \"Germany\", \"Date\": \"2020-03-19T00:00:00\", \"Confirmed Cases\": 44, \"Days since 10th death\": 4}, {\"Country\": \"Indonesia\", \"Date\": \"2020-03-18T00:00:00\", \"Confirmed Cases\": 19, \"Days since 10th death\": 0}, {\"Country\": \"Indonesia\", \"Date\": \"2020-03-19T00:00:00\", \"Confirmed Cases\": 25, \"Days since 10th death\": 1}, {\"Country\": \"Iran\", \"Date\": \"2020-02-24T00:00:00\", \"Confirmed Cases\": 12, \"Days since 10th death\": 0}, {\"Country\": \"Iran\", \"Date\": \"2020-02-25T00:00:00\", \"Confirmed Cases\": 16, \"Days since 10th death\": 1}, {\"Country\": \"Iran\", \"Date\": \"2020-02-26T00:00:00\", \"Confirmed Cases\": 19, \"Days since 10th death\": 2}, {\"Country\": \"Iran\", \"Date\": \"2020-02-27T00:00:00\", \"Confirmed Cases\": 26, \"Days since 10th death\": 3}, {\"Country\": \"Iran\", \"Date\": \"2020-02-28T00:00:00\", \"Confirmed Cases\": 34, \"Days since 10th death\": 4}, {\"Country\": \"Iran\", \"Date\": \"2020-02-29T00:00:00\", \"Confirmed Cases\": 43, \"Days since 10th death\": 5}, {\"Country\": \"Iran\", \"Date\": \"2020-03-01T00:00:00\", \"Confirmed Cases\": 54, \"Days since 10th death\": 6}, {\"Country\": \"Iran\", \"Date\": \"2020-03-02T00:00:00\", \"Confirmed Cases\": 66, \"Days since 10th death\": 7}, {\"Country\": \"Iran\", \"Date\": \"2020-03-03T00:00:00\", \"Confirmed Cases\": 77, \"Days since 10th death\": 8}, {\"Country\": \"Iran\", \"Date\": \"2020-03-04T00:00:00\", \"Confirmed Cases\": 92, \"Days since 10th death\": 9}, {\"Country\": \"Iran\", \"Date\": \"2020-03-05T00:00:00\", \"Confirmed Cases\": 107, \"Days since 10th death\": 10}, {\"Country\": \"Iran\", \"Date\": \"2020-03-06T00:00:00\", \"Confirmed Cases\": 124, \"Days since 10th death\": 11}, {\"Country\": \"Iran\", \"Date\": \"2020-03-07T00:00:00\", \"Confirmed Cases\": 145, \"Days since 10th death\": 12}, {\"Country\": \"Iran\", \"Date\": \"2020-03-08T00:00:00\", \"Confirmed Cases\": 194, \"Days since 10th death\": 13}, {\"Country\": \"Iran\", \"Date\": \"2020-03-09T00:00:00\", \"Confirmed Cases\": 237, \"Days since 10th death\": 14}, {\"Country\": \"Iran\", \"Date\": \"2020-03-10T00:00:00\", \"Confirmed Cases\": 291, \"Days since 10th death\": 15}, {\"Country\": \"Iran\", \"Date\": \"2020-03-11T00:00:00\", \"Confirmed Cases\": 354, \"Days since 10th death\": 16}, {\"Country\": \"Iran\", \"Date\": \"2020-03-12T00:00:00\", \"Confirmed Cases\": 429, \"Days since 10th death\": 17}, {\"Country\": \"Iran\", \"Date\": \"2020-03-13T00:00:00\", \"Confirmed Cases\": 514, \"Days since 10th death\": 18}, {\"Country\": \"Iran\", \"Date\": \"2020-03-14T00:00:00\", \"Confirmed Cases\": 611, \"Days since 10th death\": 19}, {\"Country\": \"Iran\", \"Date\": \"2020-03-15T00:00:00\", \"Confirmed Cases\": 724, \"Days since 10th death\": 20}, {\"Country\": \"Iran\", \"Date\": \"2020-03-16T00:00:00\", \"Confirmed Cases\": 853, \"Days since 10th death\": 21}, {\"Country\": \"Iran\", \"Date\": \"2020-03-17T00:00:00\", \"Confirmed Cases\": 988, \"Days since 10th death\": 22}, {\"Country\": \"Iran\", \"Date\": \"2020-03-18T00:00:00\", \"Confirmed Cases\": 1135, \"Days since 10th death\": 23}, {\"Country\": \"Iran\", \"Date\": \"2020-03-19T00:00:00\", \"Confirmed Cases\": 1284, \"Days since 10th death\": 24}, {\"Country\": \"Iraq\", \"Date\": \"2020-03-14T00:00:00\", \"Confirmed Cases\": 10, \"Days since 10th death\": 0}, {\"Country\": \"Iraq\", \"Date\": \"2020-03-15T00:00:00\", \"Confirmed Cases\": 10, \"Days since 10th death\": 1}, {\"Country\": \"Iraq\", \"Date\": \"2020-03-16T00:00:00\", \"Confirmed Cases\": 10, \"Days since 10th death\": 2}, {\"Country\": \"Iraq\", \"Date\": \"2020-03-17T00:00:00\", \"Confirmed Cases\": 11, \"Days since 10th death\": 3}, {\"Country\": \"Iraq\", \"Date\": \"2020-03-18T00:00:00\", \"Confirmed Cases\": 12, \"Days since 10th death\": 4}, {\"Country\": \"Iraq\", \"Date\": \"2020-03-19T00:00:00\", \"Confirmed Cases\": 13, \"Days since 10th death\": 5}, {\"Country\": \"Italy\", \"Date\": \"2020-02-25T00:00:00\", \"Confirmed Cases\": 10, \"Days since 10th death\": 0}, {\"Country\": \"Italy\", \"Date\": \"2020-02-26T00:00:00\", \"Confirmed Cases\": 12, \"Days since 10th death\": 1}, {\"Country\": \"Italy\", \"Date\": \"2020-02-27T00:00:00\", \"Confirmed Cases\": 17, \"Days since 10th death\": 2}, {\"Country\": \"Italy\", \"Date\": \"2020-02-28T00:00:00\", \"Confirmed Cases\": 21, \"Days since 10th death\": 3}, {\"Country\": \"Italy\", \"Date\": \"2020-02-29T00:00:00\", \"Confirmed Cases\": 29, \"Days since 10th death\": 4}, {\"Country\": \"Italy\", \"Date\": \"2020-03-01T00:00:00\", \"Confirmed Cases\": 34, \"Days since 10th death\": 5}, {\"Country\": \"Italy\", \"Date\": \"2020-03-02T00:00:00\", \"Confirmed Cases\": 52, \"Days since 10th death\": 6}, {\"Country\": \"Italy\", \"Date\": \"2020-03-03T00:00:00\", \"Confirmed Cases\": 79, \"Days since 10th death\": 7}, {\"Country\": \"Italy\", \"Date\": \"2020-03-04T00:00:00\", \"Confirmed Cases\": 107, \"Days since 10th death\": 8}, {\"Country\": \"Italy\", \"Date\": \"2020-03-05T00:00:00\", \"Confirmed Cases\": 148, \"Days since 10th death\": 9}, {\"Country\": \"Italy\", \"Date\": \"2020-03-06T00:00:00\", \"Confirmed Cases\": 197, \"Days since 10th death\": 10}, {\"Country\": \"Italy\", \"Date\": \"2020-03-07T00:00:00\", \"Confirmed Cases\": 233, \"Days since 10th death\": 11}, {\"Country\": \"Italy\", \"Date\": \"2020-03-08T00:00:00\", \"Confirmed Cases\": 366, \"Days since 10th death\": 12}, {\"Country\": \"Italy\", \"Date\": \"2020-03-09T00:00:00\", \"Confirmed Cases\": 463, \"Days since 10th death\": 13}, {\"Country\": \"Italy\", \"Date\": \"2020-03-10T00:00:00\", \"Confirmed Cases\": 631, \"Days since 10th death\": 14}, {\"Country\": \"Italy\", \"Date\": \"2020-03-11T00:00:00\", \"Confirmed Cases\": 827, \"Days since 10th death\": 15}, {\"Country\": \"Italy\", \"Date\": \"2020-03-12T00:00:00\", \"Confirmed Cases\": 827, \"Days since 10th death\": 16}, {\"Country\": \"Italy\", \"Date\": \"2020-03-13T00:00:00\", \"Confirmed Cases\": 1266, \"Days since 10th death\": 17}, {\"Country\": \"Italy\", \"Date\": \"2020-03-14T00:00:00\", \"Confirmed Cases\": 1441, \"Days since 10th death\": 18}, {\"Country\": \"Italy\", \"Date\": \"2020-03-15T00:00:00\", \"Confirmed Cases\": 1809, \"Days since 10th death\": 19}, {\"Country\": \"Italy\", \"Date\": \"2020-03-16T00:00:00\", \"Confirmed Cases\": 2158, \"Days since 10th death\": 20}, {\"Country\": \"Italy\", \"Date\": \"2020-03-17T00:00:00\", \"Confirmed Cases\": 2503, \"Days since 10th death\": 21}, {\"Country\": \"Italy\", \"Date\": \"2020-03-18T00:00:00\", \"Confirmed Cases\": 2978, \"Days since 10th death\": 22}, {\"Country\": \"Italy\", \"Date\": \"2020-03-19T00:00:00\", \"Confirmed Cases\": 3405, \"Days since 10th death\": 23}, {\"Country\": \"Japan\", \"Date\": \"2020-03-09T00:00:00\", \"Confirmed Cases\": 10, \"Days since 10th death\": 0}, {\"Country\": \"Japan\", \"Date\": \"2020-03-10T00:00:00\", \"Confirmed Cases\": 10, \"Days since 10th death\": 1}, {\"Country\": \"Japan\", \"Date\": \"2020-03-11T00:00:00\", \"Confirmed Cases\": 15, \"Days since 10th death\": 2}, {\"Country\": \"Japan\", \"Date\": \"2020-03-12T00:00:00\", \"Confirmed Cases\": 16, \"Days since 10th death\": 3}, {\"Country\": \"Japan\", \"Date\": \"2020-03-13T00:00:00\", \"Confirmed Cases\": 19, \"Days since 10th death\": 4}, {\"Country\": \"Japan\", \"Date\": \"2020-03-14T00:00:00\", \"Confirmed Cases\": 22, \"Days since 10th death\": 5}, {\"Country\": \"Japan\", \"Date\": \"2020-03-15T00:00:00\", \"Confirmed Cases\": 22, \"Days since 10th death\": 6}, {\"Country\": \"Japan\", \"Date\": \"2020-03-16T00:00:00\", \"Confirmed Cases\": 27, \"Days since 10th death\": 7}, {\"Country\": \"Japan\", \"Date\": \"2020-03-17T00:00:00\", \"Confirmed Cases\": 29, \"Days since 10th death\": 8}, {\"Country\": \"Japan\", \"Date\": \"2020-03-18T00:00:00\", \"Confirmed Cases\": 29, \"Days since 10th death\": 9}, {\"Country\": \"Japan\", \"Date\": \"2020-03-19T00:00:00\", \"Confirmed Cases\": 29, \"Days since 10th death\": 10}, {\"Country\": \"Netherlands\", \"Date\": \"2020-03-13T00:00:00\", \"Confirmed Cases\": 10, \"Days since 10th death\": 0}, {\"Country\": \"Netherlands\", \"Date\": \"2020-03-14T00:00:00\", \"Confirmed Cases\": 12, \"Days since 10th death\": 1}, {\"Country\": \"Netherlands\", \"Date\": \"2020-03-15T00:00:00\", \"Confirmed Cases\": 20, \"Days since 10th death\": 2}, {\"Country\": \"Netherlands\", \"Date\": \"2020-03-16T00:00:00\", \"Confirmed Cases\": 24, \"Days since 10th death\": 3}, {\"Country\": \"Netherlands\", \"Date\": \"2020-03-17T00:00:00\", \"Confirmed Cases\": 43, \"Days since 10th death\": 4}, {\"Country\": \"Netherlands\", \"Date\": \"2020-03-18T00:00:00\", \"Confirmed Cases\": 58, \"Days since 10th death\": 5}, {\"Country\": \"Netherlands\", \"Date\": \"2020-03-19T00:00:00\", \"Confirmed Cases\": 77, \"Days since 10th death\": 6}, {\"Country\": \"Philippines\", \"Date\": \"2020-03-15T00:00:00\", \"Confirmed Cases\": 11, \"Days since 10th death\": 0}, {\"Country\": \"Philippines\", \"Date\": \"2020-03-16T00:00:00\", \"Confirmed Cases\": 12, \"Days since 10th death\": 1}, {\"Country\": \"Philippines\", \"Date\": \"2020-03-17T00:00:00\", \"Confirmed Cases\": 12, \"Days since 10th death\": 2}, {\"Country\": \"Philippines\", \"Date\": \"2020-03-18T00:00:00\", \"Confirmed Cases\": 19, \"Days since 10th death\": 3}, {\"Country\": \"Philippines\", \"Date\": \"2020-03-19T00:00:00\", \"Confirmed Cases\": 17, \"Days since 10th death\": 4}, {\"Country\": \"San Marino\", \"Date\": \"2020-03-18T00:00:00\", \"Confirmed Cases\": 11, \"Days since 10th death\": 0}, {\"Country\": \"San Marino\", \"Date\": \"2020-03-19T00:00:00\", \"Confirmed Cases\": 11, \"Days since 10th death\": 1}, {\"Country\": \"South Korea\", \"Date\": \"2020-02-25T00:00:00\", \"Confirmed Cases\": 10, \"Days since 10th death\": 0}, {\"Country\": \"South Korea\", \"Date\": \"2020-02-26T00:00:00\", \"Confirmed Cases\": 12, \"Days since 10th death\": 1}, {\"Country\": \"South Korea\", \"Date\": \"2020-02-27T00:00:00\", \"Confirmed Cases\": 13, \"Days since 10th death\": 2}, {\"Country\": \"South Korea\", \"Date\": \"2020-02-28T00:00:00\", \"Confirmed Cases\": 13, \"Days since 10th death\": 3}, {\"Country\": \"South Korea\", \"Date\": \"2020-02-29T00:00:00\", \"Confirmed Cases\": 16, \"Days since 10th death\": 4}, {\"Country\": \"South Korea\", \"Date\": \"2020-03-01T00:00:00\", \"Confirmed Cases\": 17, \"Days since 10th death\": 5}, {\"Country\": \"South Korea\", \"Date\": \"2020-03-02T00:00:00\", \"Confirmed Cases\": 28, \"Days since 10th death\": 6}, {\"Country\": \"South Korea\", \"Date\": \"2020-03-03T00:00:00\", \"Confirmed Cases\": 28, \"Days since 10th death\": 7}, {\"Country\": \"South Korea\", \"Date\": \"2020-03-04T00:00:00\", \"Confirmed Cases\": 35, \"Days since 10th death\": 8}, {\"Country\": \"South Korea\", \"Date\": \"2020-03-05T00:00:00\", \"Confirmed Cases\": 35, \"Days since 10th death\": 9}, {\"Country\": \"South Korea\", \"Date\": \"2020-03-06T00:00:00\", \"Confirmed Cases\": 42, \"Days since 10th death\": 10}, {\"Country\": \"South Korea\", \"Date\": \"2020-03-07T00:00:00\", \"Confirmed Cases\": 44, \"Days since 10th death\": 11}, {\"Country\": \"South Korea\", \"Date\": \"2020-03-08T00:00:00\", \"Confirmed Cases\": 50, \"Days since 10th death\": 12}, {\"Country\": \"South Korea\", \"Date\": \"2020-03-09T00:00:00\", \"Confirmed Cases\": 53, \"Days since 10th death\": 13}, {\"Country\": \"South Korea\", \"Date\": \"2020-03-10T00:00:00\", \"Confirmed Cases\": 54, \"Days since 10th death\": 14}, {\"Country\": \"South Korea\", \"Date\": \"2020-03-11T00:00:00\", \"Confirmed Cases\": 60, \"Days since 10th death\": 15}, {\"Country\": \"South Korea\", \"Date\": \"2020-03-12T00:00:00\", \"Confirmed Cases\": 66, \"Days since 10th death\": 16}, {\"Country\": \"South Korea\", \"Date\": \"2020-03-13T00:00:00\", \"Confirmed Cases\": 66, \"Days since 10th death\": 17}, {\"Country\": \"South Korea\", \"Date\": \"2020-03-14T00:00:00\", \"Confirmed Cases\": 72, \"Days since 10th death\": 18}, {\"Country\": \"South Korea\", \"Date\": \"2020-03-15T00:00:00\", \"Confirmed Cases\": 75, \"Days since 10th death\": 19}, {\"Country\": \"South Korea\", \"Date\": \"2020-03-16T00:00:00\", \"Confirmed Cases\": 75, \"Days since 10th death\": 20}, {\"Country\": \"South Korea\", \"Date\": \"2020-03-17T00:00:00\", \"Confirmed Cases\": 81, \"Days since 10th death\": 21}, {\"Country\": \"South Korea\", \"Date\": \"2020-03-18T00:00:00\", \"Confirmed Cases\": 84, \"Days since 10th death\": 22}, {\"Country\": \"South Korea\", \"Date\": \"2020-03-19T00:00:00\", \"Confirmed Cases\": 91, \"Days since 10th death\": 23}, {\"Country\": \"Spain\", \"Date\": \"2020-03-07T00:00:00\", \"Confirmed Cases\": 10, \"Days since 10th death\": 0}, {\"Country\": \"Spain\", \"Date\": \"2020-03-08T00:00:00\", \"Confirmed Cases\": 17, \"Days since 10th death\": 1}, {\"Country\": \"Spain\", \"Date\": \"2020-03-09T00:00:00\", \"Confirmed Cases\": 28, \"Days since 10th death\": 2}, {\"Country\": \"Spain\", \"Date\": \"2020-03-10T00:00:00\", \"Confirmed Cases\": 35, \"Days since 10th death\": 3}, {\"Country\": \"Spain\", \"Date\": \"2020-03-11T00:00:00\", \"Confirmed Cases\": 54, \"Days since 10th death\": 4}, {\"Country\": \"Spain\", \"Date\": \"2020-03-12T00:00:00\", \"Confirmed Cases\": 55, \"Days since 10th death\": 5}, {\"Country\": \"Spain\", \"Date\": \"2020-03-13T00:00:00\", \"Confirmed Cases\": 133, \"Days since 10th death\": 6}, {\"Country\": \"Spain\", \"Date\": \"2020-03-14T00:00:00\", \"Confirmed Cases\": 195, \"Days since 10th death\": 7}, {\"Country\": \"Spain\", \"Date\": \"2020-03-15T00:00:00\", \"Confirmed Cases\": 289, \"Days since 10th death\": 8}, {\"Country\": \"Spain\", \"Date\": \"2020-03-16T00:00:00\", \"Confirmed Cases\": 342, \"Days since 10th death\": 9}, {\"Country\": \"Spain\", \"Date\": \"2020-03-17T00:00:00\", \"Confirmed Cases\": 533, \"Days since 10th death\": 10}, {\"Country\": \"Spain\", \"Date\": \"2020-03-18T00:00:00\", \"Confirmed Cases\": 623, \"Days since 10th death\": 11}, {\"Country\": \"Spain\", \"Date\": \"2020-03-19T00:00:00\", \"Confirmed Cases\": 830, \"Days since 10th death\": 12}, {\"Country\": \"Sweden\", \"Date\": \"2020-03-18T00:00:00\", \"Confirmed Cases\": 10, \"Days since 10th death\": 0}, {\"Country\": \"Sweden\", \"Date\": \"2020-03-19T00:00:00\", \"Confirmed Cases\": 11, \"Days since 10th death\": 1}, {\"Country\": \"Switzerland\", \"Date\": \"2020-03-13T00:00:00\", \"Confirmed Cases\": 11, \"Days since 10th death\": 0}, {\"Country\": \"Switzerland\", \"Date\": \"2020-03-14T00:00:00\", \"Confirmed Cases\": 13, \"Days since 10th death\": 1}, {\"Country\": \"Switzerland\", \"Date\": \"2020-03-15T00:00:00\", \"Confirmed Cases\": 14, \"Days since 10th death\": 2}, {\"Country\": \"Switzerland\", \"Date\": \"2020-03-16T00:00:00\", \"Confirmed Cases\": 14, \"Days since 10th death\": 3}, {\"Country\": \"Switzerland\", \"Date\": \"2020-03-17T00:00:00\", \"Confirmed Cases\": 27, \"Days since 10th death\": 4}, {\"Country\": \"Switzerland\", \"Date\": \"2020-03-18T00:00:00\", \"Confirmed Cases\": 28, \"Days since 10th death\": 5}, {\"Country\": \"Switzerland\", \"Date\": \"2020-03-19T00:00:00\", \"Confirmed Cases\": 41, \"Days since 10th death\": 6}, {\"Country\": \"US\", \"Date\": \"2020-03-04T00:00:00\", \"Confirmed Cases\": 11, \"Days since 10th death\": 0}, {\"Country\": \"US\", \"Date\": \"2020-03-05T00:00:00\", \"Confirmed Cases\": 12, \"Days since 10th death\": 1}, {\"Country\": \"US\", \"Date\": \"2020-03-06T00:00:00\", \"Confirmed Cases\": 14, \"Days since 10th death\": 2}, {\"Country\": \"US\", \"Date\": \"2020-03-07T00:00:00\", \"Confirmed Cases\": 17, \"Days since 10th death\": 3}, {\"Country\": \"US\", \"Date\": \"2020-03-08T00:00:00\", \"Confirmed Cases\": 21, \"Days since 10th death\": 4}, {\"Country\": \"US\", \"Date\": \"2020-03-09T00:00:00\", \"Confirmed Cases\": 22, \"Days since 10th death\": 5}, {\"Country\": \"US\", \"Date\": \"2020-03-10T00:00:00\", \"Confirmed Cases\": 28, \"Days since 10th death\": 6}, {\"Country\": \"US\", \"Date\": \"2020-03-11T00:00:00\", \"Confirmed Cases\": 36, \"Days since 10th death\": 7}, {\"Country\": \"US\", \"Date\": \"2020-03-12T00:00:00\", \"Confirmed Cases\": 40, \"Days since 10th death\": 8}, {\"Country\": \"US\", \"Date\": \"2020-03-13T00:00:00\", \"Confirmed Cases\": 47, \"Days since 10th death\": 9}, {\"Country\": \"US\", \"Date\": \"2020-03-14T00:00:00\", \"Confirmed Cases\": 54, \"Days since 10th death\": 10}, {\"Country\": \"US\", \"Date\": \"2020-03-15T00:00:00\", \"Confirmed Cases\": 63, \"Days since 10th death\": 11}, {\"Country\": \"US\", \"Date\": \"2020-03-16T00:00:00\", \"Confirmed Cases\": 85, \"Days since 10th death\": 12}, {\"Country\": \"US\", \"Date\": \"2020-03-17T00:00:00\", \"Confirmed Cases\": 108, \"Days since 10th death\": 13}, {\"Country\": \"US\", \"Date\": \"2020-03-18T00:00:00\", \"Confirmed Cases\": 118, \"Days since 10th death\": 14}, {\"Country\": \"US\", \"Date\": \"2020-03-19T00:00:00\", \"Confirmed Cases\": 200, \"Days since 10th death\": 15}, {\"Country\": \"United Kingdom\", \"Date\": \"2020-03-14T00:00:00\", \"Confirmed Cases\": 21, \"Days since 10th death\": 0}, {\"Country\": \"United Kingdom\", \"Date\": \"2020-03-15T00:00:00\", \"Confirmed Cases\": 21, \"Days since 10th death\": 1}, {\"Country\": \"United Kingdom\", \"Date\": \"2020-03-16T00:00:00\", \"Confirmed Cases\": 56, \"Days since 10th death\": 2}, {\"Country\": \"United Kingdom\", \"Date\": \"2020-03-17T00:00:00\", \"Confirmed Cases\": 56, \"Days since 10th death\": 3}, {\"Country\": \"United Kingdom\", \"Date\": \"2020-03-18T00:00:00\", \"Confirmed Cases\": 72, \"Days since 10th death\": 4}, {\"Country\": \"United Kingdom\", \"Date\": \"2020-03-19T00:00:00\", \"Confirmed Cases\": 138, \"Days since 10th death\": 5}]}}, {\"mode\": \"vega-lite\"});\n",
       "</script>"
      ],
      "text/plain": [
       "alt.LayerChart(...)"
      ]
     },
     "execution_count": 21,
     "metadata": {},
     "output_type": "execute_result"
    }
   ],
   "source": [
    "#hide_input\n",
    "chart = make_since_chart()\n",
    "chart"
   ]
  }
 ],
 "metadata": {
  "kernelspec": {
   "display_name": "Python 3",
   "language": "python",
   "name": "python3"
  },
  "language_info": {
   "codemirror_mode": {
    "name": "ipython",
    "version": 3
   },
   "file_extension": ".py",
   "mimetype": "text/x-python",
   "name": "python",
   "nbconvert_exporter": "python",
   "pygments_lexer": "ipython3",
   "version": "3.7.6"
  },
  "papermill": {
   "duration": 2.239127,
   "end_time": "2020-03-18T14:03:42.874555",
   "environment_variables": {},
   "exception": null,
   "input_path": "2020-03-17-covid19-compare-country-trajectories.ipynb",
   "output_path": "2020-03-17-covid19-compare-country-trajectories.ipynb",
   "parameters": {},
   "start_time": "2020-03-18T14:03:40.635428",
   "version": "2.0.0"
  }
 },
 "nbformat": 4,
 "nbformat_minor": 4
}
